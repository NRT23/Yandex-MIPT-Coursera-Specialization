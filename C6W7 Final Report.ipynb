{
 "cells": [
  {
   "cell_type": "markdown",
   "metadata": {},
   "source": [
    "<center>\n",
    "<img src=\"https://habrastorage.org/web/677/8e1/337/6778e1337c3d4b159d7e99df94227cb2.jpg\"/>\n",
    "## Specialization \"Machine Learning and Data Analysis\"\n",
    "## Capstone project\n",
    "## 'Users identification'\n",
    "## Author of the document - Timur Bikmukhametov"
   ]
  },
  {
   "cell_type": "code",
   "execution_count": 114,
   "metadata": {},
   "outputs": [],
   "source": [
    "import warnings\n",
    "warnings.filterwarnings('ignore')\n",
    "from glob import glob\n",
    "import os\n",
    "import pickle\n",
    "import itertools\n",
    "from tqdm import tqdm_notebook\n",
    "import numpy as np\n",
    "import pandas as pd\n",
    "import seaborn as sns\n",
    "import scipy.sparse as sp\n",
    "import matplotlib.pyplot as plt\n",
    "from scipy.sparse import csr_matrix\n",
    "from collections import OrderedDict, defaultdict, Counter\n",
    "from sklearn.model_selection import train_test_split, cross_val_score, StratifiedKFold, GridSearchCV\n",
    "from sklearn.preprocessing import LabelEncoder, OneHotEncoder\n",
    "from sklearn.metrics import accuracy_score, f1_score, roc_auc_score\n",
    "from sklearn.linear_model import SGDClassifier\n",
    "%matplotlib inline"
   ]
  },
  {
   "cell_type": "markdown",
   "metadata": {},
   "source": [
    "# Introduction"
   ]
  },
  {
   "cell_type": "markdown",
   "metadata": {},
   "source": [
    "In this project, we will consider an interesting task on user identification based on the data which consists of a sequence of visited web-sites and associated time stamps. The project is divided into 5 parts: __1. Data preparation, 2. Model training, 3. Kaggle competition, 4. Vowpal Wabbit application__ and __5 Conclusions__. Each part considers specific tasks which are useful for any data science project. The specific points about each part are written in the respective parts below. Initially, we have 2 folders with __.csv__ files for __Part 1__ and __Part 2__. One folder consists of the data on 10 users while another one is on 150 users. The data on 10 users is used for initial data preparation and features testing while the data on 150 users is used for testing purposes. As for __Part 3 and Part 4__, the data is provided from __Kaggle__, but the format is similar as in the previous parts. Thus, the data knowledge discoveries from __Part 1__ and __Part 2__ can be extrapolated. Further information is provided in the respective parts below."
   ]
  },
  {
   "cell_type": "markdown",
   "metadata": {},
   "source": [
    "# Part 1 - Data preparation"
   ]
  },
  {
   "cell_type": "markdown",
   "metadata": {},
   "source": [
    "### 1.1 Raw data preparation"
   ]
  },
  {
   "cell_type": "markdown",
   "metadata": {},
   "source": [
    "We will prepare the data sets for learning within several steps. First, we will split the data into sessions. To do this, we write the function __'prepare_train_set'__ which takes a __\".csv\"__ file and a wanted session length in and returns a data frame with web-sites numbers in splitted sessions, associated user ids and site frequency dictionary. The code of the function is in __Appendix A__.\n",
    "\n",
    "We analyse the data from 10 users.\n",
    "\n",
    "The raw data looks as:"
   ]
  },
  {
   "cell_type": "code",
   "execution_count": 14,
   "metadata": {},
   "outputs": [],
   "source": [
    "path_to_data = ('C:\\Final project data')"
   ]
  },
  {
   "cell_type": "code",
   "execution_count": 15,
   "metadata": {},
   "outputs": [
    {
     "data": {
      "text/html": [
       "<div>\n",
       "<style scoped>\n",
       "    .dataframe tbody tr th:only-of-type {\n",
       "        vertical-align: middle;\n",
       "    }\n",
       "\n",
       "    .dataframe tbody tr th {\n",
       "        vertical-align: top;\n",
       "    }\n",
       "\n",
       "    .dataframe thead th {\n",
       "        text-align: right;\n",
       "    }\n",
       "</style>\n",
       "<table border=\"1\" class=\"dataframe\">\n",
       "  <thead>\n",
       "    <tr style=\"text-align: right;\">\n",
       "      <th></th>\n",
       "      <th>timestamp</th>\n",
       "      <th>site</th>\n",
       "    </tr>\n",
       "  </thead>\n",
       "  <tbody>\n",
       "    <tr>\n",
       "      <th>0</th>\n",
       "      <td>2013-11-15 08:12:07</td>\n",
       "      <td>fpdownload2.macromedia.com</td>\n",
       "    </tr>\n",
       "    <tr>\n",
       "      <th>1</th>\n",
       "      <td>2013-11-15 08:12:17</td>\n",
       "      <td>laposte.net</td>\n",
       "    </tr>\n",
       "    <tr>\n",
       "      <th>2</th>\n",
       "      <td>2013-11-15 08:12:17</td>\n",
       "      <td>www.laposte.net</td>\n",
       "    </tr>\n",
       "    <tr>\n",
       "      <th>3</th>\n",
       "      <td>2013-11-15 08:12:17</td>\n",
       "      <td>www.google.com</td>\n",
       "    </tr>\n",
       "    <tr>\n",
       "      <th>4</th>\n",
       "      <td>2013-11-15 08:12:18</td>\n",
       "      <td>www.laposte.net</td>\n",
       "    </tr>\n",
       "  </tbody>\n",
       "</table>\n",
       "</div>"
      ],
      "text/plain": [
       "             timestamp                        site\n",
       "0  2013-11-15 08:12:07  fpdownload2.macromedia.com\n",
       "1  2013-11-15 08:12:17                 laposte.net\n",
       "2  2013-11-15 08:12:17             www.laposte.net\n",
       "3  2013-11-15 08:12:17              www.google.com\n",
       "4  2013-11-15 08:12:18             www.laposte.net"
      ]
     },
     "execution_count": 15,
     "metadata": {},
     "output_type": "execute_result"
    }
   ],
   "source": [
    "data_example = pd.read_csv(os.path.join(path_to_data, '10users/user0031.csv'))\n",
    "data_example.head()"
   ]
  },
  {
   "cell_type": "markdown",
   "metadata": {},
   "source": [
    "Applying the developed __'prepare_train_set'__ function, we obtain the following training data:"
   ]
  },
  {
   "cell_type": "code",
   "execution_count": 16,
   "metadata": {},
   "outputs": [],
   "source": [
    "train_data_10users, site_freq_10users = prepare_train_set(os.path.join(path_to_data, '10users'), session_length = 10)\n",
    "train_data_150users, site_freq_150users = prepare_train_set(os.path.join(path_to_data, '150users'), session_length = 10)"
   ]
  },
  {
   "cell_type": "code",
   "execution_count": 17,
   "metadata": {},
   "outputs": [
    {
     "data": {
      "text/html": [
       "<div>\n",
       "<style scoped>\n",
       "    .dataframe tbody tr th:only-of-type {\n",
       "        vertical-align: middle;\n",
       "    }\n",
       "\n",
       "    .dataframe tbody tr th {\n",
       "        vertical-align: top;\n",
       "    }\n",
       "\n",
       "    .dataframe thead th {\n",
       "        text-align: right;\n",
       "    }\n",
       "</style>\n",
       "<table border=\"1\" class=\"dataframe\">\n",
       "  <thead>\n",
       "    <tr style=\"text-align: right;\">\n",
       "      <th></th>\n",
       "      <th>site1</th>\n",
       "      <th>site2</th>\n",
       "      <th>site3</th>\n",
       "      <th>site4</th>\n",
       "      <th>site5</th>\n",
       "      <th>site6</th>\n",
       "      <th>site7</th>\n",
       "      <th>site8</th>\n",
       "      <th>site9</th>\n",
       "      <th>site10</th>\n",
       "      <th>user_id</th>\n",
       "    </tr>\n",
       "  </thead>\n",
       "  <tbody>\n",
       "    <tr>\n",
       "      <th>0</th>\n",
       "      <td>4721</td>\n",
       "      <td>4339</td>\n",
       "      <td>4781</td>\n",
       "      <td>4911</td>\n",
       "      <td>4781</td>\n",
       "      <td>4781</td>\n",
       "      <td>4911</td>\n",
       "      <td>4781</td>\n",
       "      <td>4711</td>\n",
       "      <td>4781</td>\n",
       "      <td>31</td>\n",
       "    </tr>\n",
       "    <tr>\n",
       "      <th>1</th>\n",
       "      <td>4490</td>\n",
       "      <td>4722</td>\n",
       "      <td>4217</td>\n",
       "      <td>4659</td>\n",
       "      <td>4781</td>\n",
       "      <td>4883</td>\n",
       "      <td>4513</td>\n",
       "      <td>210</td>\n",
       "      <td>4693</td>\n",
       "      <td>4859</td>\n",
       "      <td>31</td>\n",
       "    </tr>\n",
       "    <tr>\n",
       "      <th>2</th>\n",
       "      <td>4859</td>\n",
       "      <td>4911</td>\n",
       "      <td>4859</td>\n",
       "      <td>4859</td>\n",
       "      <td>4909</td>\n",
       "      <td>4619</td>\n",
       "      <td>4490</td>\n",
       "      <td>4577</td>\n",
       "      <td>3999</td>\n",
       "      <td>4859</td>\n",
       "      <td>31</td>\n",
       "    </tr>\n",
       "    <tr>\n",
       "      <th>3</th>\n",
       "      <td>4438</td>\n",
       "      <td>431</td>\n",
       "      <td>4438</td>\n",
       "      <td>4859</td>\n",
       "      <td>4859</td>\n",
       "      <td>4859</td>\n",
       "      <td>4859</td>\n",
       "      <td>3953</td>\n",
       "      <td>4714</td>\n",
       "      <td>4790</td>\n",
       "      <td>31</td>\n",
       "    </tr>\n",
       "    <tr>\n",
       "      <th>4</th>\n",
       "      <td>4571</td>\n",
       "      <td>4859</td>\n",
       "      <td>4909</td>\n",
       "      <td>1155</td>\n",
       "      <td>4654</td>\n",
       "      <td>4703</td>\n",
       "      <td>912</td>\n",
       "      <td>2672</td>\n",
       "      <td>4218</td>\n",
       "      <td>2672</td>\n",
       "      <td>31</td>\n",
       "    </tr>\n",
       "  </tbody>\n",
       "</table>\n",
       "</div>"
      ],
      "text/plain": [
       "   site1  site2  site3  site4  site5  site6  site7  site8  site9  site10  \\\n",
       "0   4721   4339   4781   4911   4781   4781   4911   4781   4711    4781   \n",
       "1   4490   4722   4217   4659   4781   4883   4513    210   4693    4859   \n",
       "2   4859   4911   4859   4859   4909   4619   4490   4577   3999    4859   \n",
       "3   4438    431   4438   4859   4859   4859   4859   3953   4714    4790   \n",
       "4   4571   4859   4909   1155   4654   4703    912   2672   4218    2672   \n",
       "\n",
       "   user_id  \n",
       "0       31  \n",
       "1       31  \n",
       "2       31  \n",
       "3       31  \n",
       "4       31  "
      ]
     },
     "execution_count": 17,
     "metadata": {},
     "output_type": "execute_result"
    }
   ],
   "source": [
    "train_data_10users.head()\n",
    "#site_freq_10users #The frequency dictionary can be also seen here"
   ]
  },
  {
   "cell_type": "markdown",
   "metadata": {},
   "source": [
    "### 1.2 Preparing initial data for classification training"
   ]
  },
  {
   "cell_type": "markdown",
   "metadata": {},
   "source": [
    "The next step is to use __\"bag of words\" (or bag of sites in this case)__ approach for classifiction. For this, we make sparse matricies of the previously obtained data frames using developed __\"make_sparse\"__ function from __Appendix A__."
   ]
  },
  {
   "cell_type": "code",
   "execution_count": 18,
   "metadata": {},
   "outputs": [],
   "source": [
    "X_10users, y_10users = train_data_10users.iloc[:, :-1].values, \\\n",
    "                       train_data_10users.iloc[:, -1].values"
   ]
  },
  {
   "cell_type": "code",
   "execution_count": 19,
   "metadata": {},
   "outputs": [
    {
     "name": "stdout",
     "output_type": "stream",
     "text": [
      "Shape of sparse matrix is (14061, 4913)\n",
      "The resulting sparse matrix is below \n",
      "[[1 1 1 ... 0 0 0]\n",
      " [0 0 0 ... 0 0 0]\n",
      " [0 0 0 ... 0 0 0]\n",
      " ...\n",
      " [0 0 0 ... 0 0 0]\n",
      " [0 0 0 ... 0 0 0]\n",
      " [0 0 0 ... 0 0 0]]\n"
     ]
    }
   ],
   "source": [
    "X_sparse_10users = make_sparse(X_10users)\n",
    "print 'Shape of sparse matrix is', X_sparse_10users.shape\n",
    "print 'The resulting sparse matrix is below \\n', X_sparse_10users.todense()"
   ]
  },
  {
   "cell_type": "markdown",
   "metadata": {},
   "source": [
    "The sparce matrix form is an excellent form for classification task because it shows the frequency of each web-sites in each session. However, to make a better data representation, we introduce a \"moving window approach\" which will link the sessions and will be used a hyperparameter in the future training procedure. Thus, we make a modification of __\"prepare_train_set\"__ function and save it as __\"prepare_sparse_train_set_window\"__ shown in __Appendix A__. Consider a modification of the function with session length of 10 sites and window size of 7 sites. Applying the new fucntion to the data with 10 users, we obtain the following sites and sparse matricies:"
   ]
  },
  {
   "cell_type": "code",
   "execution_count": 20,
   "metadata": {},
   "outputs": [
    {
     "name": "stdout",
     "output_type": "stream",
     "text": [
      "This is the matrix with sites \n",
      "[[4721 4339 4781 ... 4781 4711 4781]\n",
      " [4781 4711 4781 ... 4781 4883 4513]\n",
      " [4781 4883 4513 ... 4911 4859 4859]\n",
      " ...\n",
      " [4908 4904 4863 ... 4910 4910 4910]\n",
      " [4910 4910 4910 ... 4911 4905 4910]\n",
      " [4911 4905 4910 ...    0    0    0]]\n"
     ]
    }
   ],
   "source": [
    "X_10users_s10_w7, y_10users_s10_w7 = prepare_sparse_train_set_window(os.path.join(path_to_data, '10users'), \n",
    "                                                                     site_freq_path = site_freq_10users, \n",
    "                                                                     session_length = 10, window_size = 7, show_matrix = True)"
   ]
  },
  {
   "cell_type": "code",
   "execution_count": 21,
   "metadata": {},
   "outputs": [
    {
     "name": "stdout",
     "output_type": "stream",
     "text": [
      "Shape of sparse matrix is (20087, 4913)\n",
      "The resulting sparse matrix is below \n",
      "[[1 1 1 ... 0 0 0]\n",
      " [0 1 0 ... 0 0 0]\n",
      " [0 0 0 ... 0 0 0]\n",
      " ...\n",
      " [0 0 0 ... 0 0 0]\n",
      " [0 0 0 ... 0 0 0]\n",
      " [0 0 0 ... 0 0 0]]\n"
     ]
    }
   ],
   "source": [
    "print 'Shape of sparse matrix is', X_10users_s10_w7.shape\n",
    "print 'The resulting sparse matrix is below \\n', X_10users_s10_w7.todense()"
   ]
  },
  {
   "cell_type": "markdown",
   "metadata": {},
   "source": [
    "For futher analysis, let's prepare the training data sets for different values of __session leght__ and __window size__ parameters. The matrix with the required parameters is shown below. This procedure is made for the data with 10 and 150 users.\n",
    "\n",
    "<style type=\"text/css\">\n",
    ".tg  {border-collapse:collapse;border-spacing:0;}\n",
    ".tg td{font-family:Arial, sans-serif;font-size:14px;padding:10px 5px;border-style:solid;border-width:1px;overflow:hidden;word-break:normal;}\n",
    ".tg th{font-family:Arial, sans-serif;font-size:14px;font-weight:normal;padding:10px 5px;border-style:solid;border-width:1px;overflow:hidden;word-break:normal;}\n",
    "</style>\n",
    "<table class=\"tg\">\n",
    "  <tr>\n",
    "    <th class=\"tg-031e\">session_length -&gt;<br>window_size <br></th>\n",
    "    <th class=\"tg-031e\">5</th>\n",
    "    <th class=\"tg-031e\">7</th>\n",
    "    <th class=\"tg-031e\">10</th>\n",
    "    <th class=\"tg-031e\">15</th>\n",
    "  </tr>\n",
    "  <tr>\n",
    "    <td class=\"tg-031e\">5</td>\n",
    "    <td class=\"tg-031e\">v</td>\n",
    "    <td class=\"tg-031e\">v</td>\n",
    "    <td class=\"tg-031e\">v</td>\n",
    "    <td class=\"tg-031e\">v</td>\n",
    "  </tr>\n",
    "  <tr>\n",
    "    <td class=\"tg-031e\">7</td>\n",
    "    <td class=\"tg-031e\"></td>\n",
    "    <td class=\"tg-031e\">v</td>\n",
    "    <td class=\"tg-031e\">v</td>\n",
    "    <td class=\"tg-031e\">v</td>\n",
    "  </tr>\n",
    "  <tr>\n",
    "    <td class=\"tg-031e\">10</td>\n",
    "    <td class=\"tg-031e\"></td>\n",
    "    <td class=\"tg-031e\"></td>\n",
    "    <td class=\"tg-031e\"><font color='green'>v</font></td>\n",
    "    <td class=\"tg-031e\">v</td>\n",
    "  </tr>\n",
    "</table>"
   ]
  },
  {
   "cell_type": "code",
   "execution_count": 22,
   "metadata": {},
   "outputs": [
    {
     "name": "stdout",
     "output_type": "stream",
     "text": [
      "Wall time: 35 s\n"
     ]
    }
   ],
   "source": [
    "%%time\n",
    "\n",
    "parameters = [(a, b) for a, b in itertools.product([10, 7, 5], [15, 10, 7, 5]) if a <= b]\n",
    "\n",
    "for num_users in [10, 150]:\n",
    "    if num_users == 10:\n",
    "        #for window_size, session_length in tqdm_notebook(parameters): #Run to see iterations\n",
    "        for window_size, session_length in parameters:\n",
    "            X_sparse, y = prepare_sparse_train_set_window(os.path.join(path_to_data, str(num_users)+'users'),\n",
    "                                                      site_freq_path = site_freq_10users,\n",
    "                                                      session_length=session_length, window_size=window_size, show_matrix = False)\n",
    "\n",
    "            with open(os.path.join(path_to_data, 'X_sparse_' + str(num_users) + 'users_s' +\n",
    "                               str(session_length)+'_w' + str(window_size) + '.pkl'), 'wb') as X_sparse_f:\n",
    "                    pickle.dump(X_sparse, X_sparse_f, protocol=2)\n",
    "            with open(os.path.join(path_to_data, 'y_' + str(num_users) + 'users_s' +\n",
    "                               str(session_length)+'_w' + str(window_size) + '.pkl'), 'wb') as y_f:\n",
    "                    pickle.dump(y, y_f, protocol=2)\n",
    "    else:\n",
    "        #for window_size, session_length in tqdm_notebook(parameters): #Run to see iterations\n",
    "        for window_size, session_length in parameters:\n",
    "            X_sparse, y = prepare_sparse_train_set_window(os.path.join(path_to_data, str(num_users)+'users'),\n",
    "                                                      site_freq_path = site_freq_150users,\n",
    "                                                      session_length=session_length, window_size=window_size, show_matrix = False)\n",
    "            with open(os.path.join(path_to_data, 'X_sparse_' + str(num_users) + 'users_s' +\n",
    "                               str(session_length)+'_w' + str(window_size) + '.pkl'), 'wb') as X_sparse_f:\n",
    "                pickle.dump(X_sparse, X_sparse_f, protocol=2)\n",
    "            with open(os.path.join(path_to_data, 'y_' + str(num_users) + 'users_s' +\n",
    "                               str(session_length)+'_w' + str(window_size) + '.pkl'), 'wb') as y_f:\n",
    "                pickle.dump(y, y_f, protocol=2)"
   ]
  },
  {
   "cell_type": "markdown",
   "metadata": {},
   "source": [
    "### 1.3 Preparing additional features for classification training"
   ]
  },
  {
   "cell_type": "markdown",
   "metadata": {},
   "source": [
    "In order to evaluate the features which can be useful for further training, we need to extract them from the data and make visual analysis. We will create the following features for comparison:\n",
    "    \n",
    "Part 1\n",
    "\n",
    " - time_diff - time spent for each web-sites in each session (in sec)\n",
    " - session_timespan  -  shows the total duration of the session (in sec)\n",
    " - #unique_sites - shows number of unique web-sites in each session\n",
    " - start_hour - shows the hour at which each session starts\n",
    " - day_of_week - shows the day of the week at which the session starts\n",
    " \n",
    "Part 2\n",
    " - day_time - shows part of the day at which the sessions starts (morning, afternoon, evening)\n",
    " - most_common - shows the most common web-site of the session\n",
    " - aver_time - shows the average time spent for 1 web-site in each session (in sec)\n",
    " - num_of_top_site - number of session sites from TOP-100 web-sites from all the users\n",
    " \n",
    "__Part 1__ features are implemented in function __prepare_train_set_with_fe__ (Appendix A). __Part 2__ features are implemented in function __feature_engineering__ (Appendix A)"
   ]
  },
  {
   "cell_type": "markdown",
   "metadata": {},
   "source": [
    "We will evalute the features in the example with 10 users. First, we exctract the Part 1 features followed by Part 2 features."
   ]
  },
  {
   "cell_type": "code",
   "execution_count": 23,
   "metadata": {},
   "outputs": [
    {
     "data": {
      "application/vnd.jupyter.widget-view+json": {
       "model_id": "12878d683ad743e2944faf475eadcb4f",
       "version_major": 2,
       "version_minor": 0
      },
      "text/plain": [
       "HBox(children=(IntProgress(value=0, max=10), HTML(value=u'')))"
      ]
     },
     "metadata": {},
     "output_type": "display_data"
    },
    {
     "name": "stdout",
     "output_type": "stream",
     "text": [
      "\n",
      "Wall time: 5.4 s\n"
     ]
    }
   ],
   "source": [
    "%%time\n",
    "feature_names = ['site' + str(i) for i in range(1,11)] + \\\n",
    "                ['time_diff' + str(j) for j in range(1,10)] + \\\n",
    "                ['session_timespan', '#unique_sites', 'start_hour', \n",
    "                 'day_of_week', 'target']\n",
    "train_data_10users = prepare_train_set_with_fe(os.path.join(path_to_data, \n",
    "                                                         '10users'), \n",
    "                  site_freq_path = site_freq_10users,\n",
    "                  feature_names = feature_names, session_length=10)"
   ]
  },
  {
   "cell_type": "code",
   "execution_count": 24,
   "metadata": {},
   "outputs": [
    {
     "data": {
      "text/html": [
       "<div>\n",
       "<style scoped>\n",
       "    .dataframe tbody tr th:only-of-type {\n",
       "        vertical-align: middle;\n",
       "    }\n",
       "\n",
       "    .dataframe tbody tr th {\n",
       "        vertical-align: top;\n",
       "    }\n",
       "\n",
       "    .dataframe thead th {\n",
       "        text-align: right;\n",
       "    }\n",
       "</style>\n",
       "<table border=\"1\" class=\"dataframe\">\n",
       "  <thead>\n",
       "    <tr style=\"text-align: right;\">\n",
       "      <th></th>\n",
       "      <th>site1</th>\n",
       "      <th>site2</th>\n",
       "      <th>site3</th>\n",
       "      <th>site4</th>\n",
       "      <th>site5</th>\n",
       "      <th>site6</th>\n",
       "      <th>site7</th>\n",
       "      <th>site8</th>\n",
       "      <th>site9</th>\n",
       "      <th>site10</th>\n",
       "      <th>...</th>\n",
       "      <th>time_diff5</th>\n",
       "      <th>time_diff6</th>\n",
       "      <th>time_diff7</th>\n",
       "      <th>time_diff8</th>\n",
       "      <th>time_diff9</th>\n",
       "      <th>session_timespan</th>\n",
       "      <th>#unique_sites</th>\n",
       "      <th>start_hour</th>\n",
       "      <th>day_of_week</th>\n",
       "      <th>target</th>\n",
       "    </tr>\n",
       "  </thead>\n",
       "  <tbody>\n",
       "    <tr>\n",
       "      <th>0</th>\n",
       "      <td>4721</td>\n",
       "      <td>4339</td>\n",
       "      <td>4781</td>\n",
       "      <td>4911</td>\n",
       "      <td>4781</td>\n",
       "      <td>4781</td>\n",
       "      <td>4911</td>\n",
       "      <td>4781</td>\n",
       "      <td>4711</td>\n",
       "      <td>4781</td>\n",
       "      <td>...</td>\n",
       "      <td>20.0</td>\n",
       "      <td>1.0</td>\n",
       "      <td>0.0</td>\n",
       "      <td>1.0</td>\n",
       "      <td>0.0</td>\n",
       "      <td>33.0</td>\n",
       "      <td>5</td>\n",
       "      <td>8</td>\n",
       "      <td>4</td>\n",
       "      <td>31</td>\n",
       "    </tr>\n",
       "    <tr>\n",
       "      <th>1</th>\n",
       "      <td>4490</td>\n",
       "      <td>4722</td>\n",
       "      <td>4217</td>\n",
       "      <td>4659</td>\n",
       "      <td>4781</td>\n",
       "      <td>4883</td>\n",
       "      <td>4513</td>\n",
       "      <td>210</td>\n",
       "      <td>4693</td>\n",
       "      <td>4859</td>\n",
       "      <td>...</td>\n",
       "      <td>0.0</td>\n",
       "      <td>1.0</td>\n",
       "      <td>3.0</td>\n",
       "      <td>3.0</td>\n",
       "      <td>8.0</td>\n",
       "      <td>284.0</td>\n",
       "      <td>10</td>\n",
       "      <td>8</td>\n",
       "      <td>4</td>\n",
       "      <td>31</td>\n",
       "    </tr>\n",
       "    <tr>\n",
       "      <th>2</th>\n",
       "      <td>4859</td>\n",
       "      <td>4911</td>\n",
       "      <td>4859</td>\n",
       "      <td>4859</td>\n",
       "      <td>4909</td>\n",
       "      <td>4619</td>\n",
       "      <td>4490</td>\n",
       "      <td>4577</td>\n",
       "      <td>3999</td>\n",
       "      <td>4859</td>\n",
       "      <td>...</td>\n",
       "      <td>0.0</td>\n",
       "      <td>0.0</td>\n",
       "      <td>1.0</td>\n",
       "      <td>0.0</td>\n",
       "      <td>0.0</td>\n",
       "      <td>258.0</td>\n",
       "      <td>7</td>\n",
       "      <td>8</td>\n",
       "      <td>4</td>\n",
       "      <td>31</td>\n",
       "    </tr>\n",
       "    <tr>\n",
       "      <th>3</th>\n",
       "      <td>4438</td>\n",
       "      <td>431</td>\n",
       "      <td>4438</td>\n",
       "      <td>4859</td>\n",
       "      <td>4859</td>\n",
       "      <td>4859</td>\n",
       "      <td>4859</td>\n",
       "      <td>3953</td>\n",
       "      <td>4714</td>\n",
       "      <td>4790</td>\n",
       "      <td>...</td>\n",
       "      <td>25.0</td>\n",
       "      <td>1.0</td>\n",
       "      <td>0.0</td>\n",
       "      <td>0.0</td>\n",
       "      <td>0.0</td>\n",
       "      <td>30.0</td>\n",
       "      <td>6</td>\n",
       "      <td>8</td>\n",
       "      <td>4</td>\n",
       "      <td>31</td>\n",
       "    </tr>\n",
       "    <tr>\n",
       "      <th>4</th>\n",
       "      <td>4571</td>\n",
       "      <td>4859</td>\n",
       "      <td>4909</td>\n",
       "      <td>1155</td>\n",
       "      <td>4654</td>\n",
       "      <td>4703</td>\n",
       "      <td>912</td>\n",
       "      <td>2672</td>\n",
       "      <td>4218</td>\n",
       "      <td>2672</td>\n",
       "      <td>...</td>\n",
       "      <td>1.0</td>\n",
       "      <td>0.0</td>\n",
       "      <td>1.0</td>\n",
       "      <td>1.0</td>\n",
       "      <td>0.0</td>\n",
       "      <td>6.0</td>\n",
       "      <td>9</td>\n",
       "      <td>8</td>\n",
       "      <td>4</td>\n",
       "      <td>31</td>\n",
       "    </tr>\n",
       "  </tbody>\n",
       "</table>\n",
       "<p>5 rows × 24 columns</p>\n",
       "</div>"
      ],
      "text/plain": [
       "   site1  site2  site3  site4  site5  site6  site7  site8  site9  site10  \\\n",
       "0   4721   4339   4781   4911   4781   4781   4911   4781   4711    4781   \n",
       "1   4490   4722   4217   4659   4781   4883   4513    210   4693    4859   \n",
       "2   4859   4911   4859   4859   4909   4619   4490   4577   3999    4859   \n",
       "3   4438    431   4438   4859   4859   4859   4859   3953   4714    4790   \n",
       "4   4571   4859   4909   1155   4654   4703    912   2672   4218    2672   \n",
       "\n",
       "    ...    time_diff5  time_diff6  time_diff7  time_diff8  time_diff9  \\\n",
       "0   ...          20.0         1.0         0.0         1.0         0.0   \n",
       "1   ...           0.0         1.0         3.0         3.0         8.0   \n",
       "2   ...           0.0         0.0         1.0         0.0         0.0   \n",
       "3   ...          25.0         1.0         0.0         0.0         0.0   \n",
       "4   ...           1.0         0.0         1.0         1.0         0.0   \n",
       "\n",
       "   session_timespan  #unique_sites  start_hour  day_of_week  target  \n",
       "0              33.0              5           8            4      31  \n",
       "1             284.0             10           8            4      31  \n",
       "2             258.0              7           8            4      31  \n",
       "3              30.0              6           8            4      31  \n",
       "4               6.0              9           8            4      31  \n",
       "\n",
       "[5 rows x 24 columns]"
      ]
     },
     "execution_count": 24,
     "metadata": {},
     "output_type": "execute_result"
    }
   ],
   "source": [
    "train_data_10users.head()"
   ]
  },
  {
   "cell_type": "code",
   "execution_count": 25,
   "metadata": {},
   "outputs": [
    {
     "data": {
      "application/vnd.jupyter.widget-view+json": {
       "model_id": "5c6676764d64412cb5e4bdd768760cd8",
       "version_major": 2,
       "version_minor": 0
      },
      "text/plain": [
       "HBox(children=(IntProgress(value=0, max=10), HTML(value=u'')))"
      ]
     },
     "metadata": {},
     "output_type": "display_data"
    },
    {
     "name": "stdout",
     "output_type": "stream",
     "text": [
      "\n",
      "Wall time: 8.2 s\n"
     ]
    }
   ],
   "source": [
    "%%time\n",
    "feature_names = ['site' + str(i) for i in range(1,11)] + \\\n",
    "                ['day_time', 'most_common', 'aver_time', 'num_of_top_site', 'target']\n",
    "new_features_10users_2 = feature_engineering(os.path.join(path_to_data, \n",
    "                                                         '10users'), \n",
    "                  site_freq_path = site_freq_10users, feature_names = feature_names, session_length=10)"
   ]
  },
  {
   "cell_type": "code",
   "execution_count": 26,
   "metadata": {},
   "outputs": [
    {
     "data": {
      "text/html": [
       "<div>\n",
       "<style scoped>\n",
       "    .dataframe tbody tr th:only-of-type {\n",
       "        vertical-align: middle;\n",
       "    }\n",
       "\n",
       "    .dataframe tbody tr th {\n",
       "        vertical-align: top;\n",
       "    }\n",
       "\n",
       "    .dataframe thead th {\n",
       "        text-align: right;\n",
       "    }\n",
       "</style>\n",
       "<table border=\"1\" class=\"dataframe\">\n",
       "  <thead>\n",
       "    <tr style=\"text-align: right;\">\n",
       "      <th></th>\n",
       "      <th>site1</th>\n",
       "      <th>site2</th>\n",
       "      <th>site3</th>\n",
       "      <th>site4</th>\n",
       "      <th>site5</th>\n",
       "      <th>site6</th>\n",
       "      <th>site7</th>\n",
       "      <th>site8</th>\n",
       "      <th>site9</th>\n",
       "      <th>site10</th>\n",
       "      <th>day_time</th>\n",
       "      <th>most_common</th>\n",
       "      <th>aver_time</th>\n",
       "      <th>num_of_top_site</th>\n",
       "      <th>target</th>\n",
       "    </tr>\n",
       "  </thead>\n",
       "  <tbody>\n",
       "    <tr>\n",
       "      <th>0</th>\n",
       "      <td>4721</td>\n",
       "      <td>4339</td>\n",
       "      <td>4781</td>\n",
       "      <td>4911</td>\n",
       "      <td>4781</td>\n",
       "      <td>4781</td>\n",
       "      <td>4911</td>\n",
       "      <td>4781</td>\n",
       "      <td>4711</td>\n",
       "      <td>4781</td>\n",
       "      <td>0</td>\n",
       "      <td>4781</td>\n",
       "      <td>3.3</td>\n",
       "      <td>2</td>\n",
       "      <td>31</td>\n",
       "    </tr>\n",
       "    <tr>\n",
       "      <th>1</th>\n",
       "      <td>4490</td>\n",
       "      <td>4722</td>\n",
       "      <td>4217</td>\n",
       "      <td>4659</td>\n",
       "      <td>4781</td>\n",
       "      <td>4883</td>\n",
       "      <td>4513</td>\n",
       "      <td>210</td>\n",
       "      <td>4693</td>\n",
       "      <td>4859</td>\n",
       "      <td>0</td>\n",
       "      <td>4513</td>\n",
       "      <td>28.4</td>\n",
       "      <td>0</td>\n",
       "      <td>31</td>\n",
       "    </tr>\n",
       "    <tr>\n",
       "      <th>2</th>\n",
       "      <td>4859</td>\n",
       "      <td>4911</td>\n",
       "      <td>4859</td>\n",
       "      <td>4859</td>\n",
       "      <td>4909</td>\n",
       "      <td>4619</td>\n",
       "      <td>4490</td>\n",
       "      <td>4577</td>\n",
       "      <td>3999</td>\n",
       "      <td>4859</td>\n",
       "      <td>0</td>\n",
       "      <td>4859</td>\n",
       "      <td>25.8</td>\n",
       "      <td>2</td>\n",
       "      <td>31</td>\n",
       "    </tr>\n",
       "    <tr>\n",
       "      <th>3</th>\n",
       "      <td>4438</td>\n",
       "      <td>431</td>\n",
       "      <td>4438</td>\n",
       "      <td>4859</td>\n",
       "      <td>4859</td>\n",
       "      <td>4859</td>\n",
       "      <td>4859</td>\n",
       "      <td>3953</td>\n",
       "      <td>4714</td>\n",
       "      <td>4790</td>\n",
       "      <td>0</td>\n",
       "      <td>4859</td>\n",
       "      <td>3.0</td>\n",
       "      <td>0</td>\n",
       "      <td>31</td>\n",
       "    </tr>\n",
       "    <tr>\n",
       "      <th>4</th>\n",
       "      <td>4571</td>\n",
       "      <td>4859</td>\n",
       "      <td>4909</td>\n",
       "      <td>1155</td>\n",
       "      <td>4654</td>\n",
       "      <td>4703</td>\n",
       "      <td>912</td>\n",
       "      <td>2672</td>\n",
       "      <td>4218</td>\n",
       "      <td>2672</td>\n",
       "      <td>0</td>\n",
       "      <td>2672</td>\n",
       "      <td>0.6</td>\n",
       "      <td>1</td>\n",
       "      <td>31</td>\n",
       "    </tr>\n",
       "  </tbody>\n",
       "</table>\n",
       "</div>"
      ],
      "text/plain": [
       "   site1  site2  site3  site4  site5  site6  site7  site8  site9  site10  \\\n",
       "0   4721   4339   4781   4911   4781   4781   4911   4781   4711    4781   \n",
       "1   4490   4722   4217   4659   4781   4883   4513    210   4693    4859   \n",
       "2   4859   4911   4859   4859   4909   4619   4490   4577   3999    4859   \n",
       "3   4438    431   4438   4859   4859   4859   4859   3953   4714    4790   \n",
       "4   4571   4859   4909   1155   4654   4703    912   2672   4218    2672   \n",
       "\n",
       "   day_time  most_common  aver_time  num_of_top_site  target  \n",
       "0         0         4781        3.3                2      31  \n",
       "1         0         4513       28.4                0      31  \n",
       "2         0         4859       25.8                2      31  \n",
       "3         0         4859        3.0                0      31  \n",
       "4         0         2672        0.6                1      31  "
      ]
     },
     "execution_count": 26,
     "metadata": {},
     "output_type": "execute_result"
    }
   ],
   "source": [
    "new_features_10users_2.head()"
   ]
  },
  {
   "cell_type": "markdown",
   "metadata": {},
   "source": [
    "For illustration purposes, let's give a name for each user and associated color."
   ]
  },
  {
   "cell_type": "code",
   "execution_count": 27,
   "metadata": {},
   "outputs": [],
   "source": [
    "id_name_dict = {128: 'Mary-Kate', 39: 'Ashley', 207: 'Lindsey', 127: 'Naomi', 237: 'Avril',\n",
    "               33: 'Bob', 50: 'Bill', 31: 'John', 100: 'Dick', 241: 'Ed'}\n",
    "train_data_10users['target'] = train_data_10users['target'].map(id_name_dict)\n",
    "\n",
    "color_dic = {'Mary-Kate': 'pink', 'Ashley': 'darkviolet', 'Lindsey':'blueviolet', \n",
    "             'Naomi': 'hotpink', 'Avril': 'orchid', \n",
    "             'Bob': 'firebrick', 'Bill': 'gold', 'John': 'forestgreen', \n",
    "             'Dick': 'slategrey', 'Ed':'brown'}"
   ]
  },
  {
   "cell_type": "markdown",
   "metadata": {},
   "source": [
    "Let's investigate the __Part 1__ features. The first feature is __session_timespan__."
   ]
  },
  {
   "cell_type": "code",
   "execution_count": 28,
   "metadata": {},
   "outputs": [
    {
     "data": {
      "image/png": "[encoded data removed]",
      "text/plain": [
       "<Figure size 1152x720 with 12 Axes>"
      ]
     },
     "metadata": {},
     "output_type": "display_data"
    }
   ],
   "source": [
    "fig, axes = plt.subplots(nrows=3, ncols=4, figsize=(16, 10))\n",
    "\n",
    "for idx, (user, sub_df) in enumerate(pd.groupby(train_data_10users, 'target')):\n",
    "    i, j = idx / 4, idx % 4\n",
    "    session_time_hist = sub_df[sub_df['session_timespan'] <= 200]['session_timespan']    \n",
    "    axes[i, j].hist(session_time_hist, label=user, color=color_dic[user])\n",
    "    axes[i, j].legend()\n",
    "    axes[i, j].set_xlabel('Session time, sec', fontsize = 12)\n",
    "    axes[i, j].set_ylabel('Frequency', fontsize = 12)\n",
    "    plt.sca(axes[i, j])\n",
    "    plt.xticks(fontsize = 12)\n",
    "    plt.yticks(fontsize = 12)\n",
    "    plt.grid(True)\n",
    "    plt.tight_layout()"
   ]
  },
  {
   "cell_type": "markdown",
   "metadata": {},
   "source": [
    "From the plots we see that most of the users have a similar pattern of the time spent for the session. The sessions are usually very short. From this, we can conclude that this feature may not be very representative and can make the predictions even worse. Thus, we will not choose it for further analysis."
   ]
  },
  {
   "cell_type": "markdown",
   "metadata": {},
   "source": [
    "The next feature is __number of unique web-sites__."
   ]
  },
  {
   "cell_type": "code",
   "execution_count": 29,
   "metadata": {},
   "outputs": [
    {
     "data": {
      "image/png": "[encoded data removed]",
      "text/plain": [
       "<Figure size 1152x720 with 12 Axes>"
      ]
     },
     "metadata": {},
     "output_type": "display_data"
    }
   ],
   "source": [
    "fig, axes = plt.subplots(nrows=3, ncols=4, figsize=(16, 10))\n",
    "\n",
    "for idx, (user, sub_df) in enumerate(pd.groupby(train_data_10users, 'target')):\n",
    "    i, j = idx / 4, idx % 4\n",
    "    num_unique_sites_hist = sub_df['#unique_sites']\n",
    "    axes[i, j].hist(num_unique_sites_hist, label=user, color=color_dic[user])\n",
    "    axes[i, j].legend()\n",
    "    axes[i, j].set_xlabel('Number of unique web-sites in sesion', fontsize = 12)\n",
    "    axes[i, j].set_ylabel('Frequency', fontsize = 12)\n",
    "    plt.sca(axes[i, j])\n",
    "    plt.xticks(fontsize = 12)\n",
    "    plt.yticks(fontsize = 12)\n",
    "    plt.grid(True)\n",
    "    plt.tight_layout()"
   ]
  },
  {
   "cell_type": "markdown",
   "metadata": {},
   "source": [
    "In this case, we again see that the parttern is similar for most of the users. However, to test the hypothesis that this feature will worse the predictions we will keep it for further analysis."
   ]
  },
  {
   "cell_type": "markdown",
   "metadata": {},
   "source": [
    "The next feature is __start_hour__."
   ]
  },
  {
   "cell_type": "code",
   "execution_count": 30,
   "metadata": {},
   "outputs": [
    {
     "data": {
      "image/png": "[encoded data removed]",
      "text/plain": [
       "<Figure size 1152x720 with 12 Axes>"
      ]
     },
     "metadata": {},
     "output_type": "display_data"
    }
   ],
   "source": [
    "fig, axes = plt.subplots(nrows=3, ncols=4, figsize=(16, 10))\n",
    "\n",
    "for idx, (user, sub_df) in  enumerate(pd.groupby(train_data_10users, 'target')): \n",
    "    i, j = idx // 4, idx % 4\n",
    "    start_hour_hist = sub_df['start_hour']\n",
    "    axes[i, j].hist(start_hour_hist, label=user, color=color_dic[user])\n",
    "    axes[i, j].legend()\n",
    "    axes[i, j].set_xlabel('Session start hour', fontsize = 12)\n",
    "    axes[i, j].set_ylabel('Frequency', fontsize = 12)\n",
    "    plt.sca(axes[i, j])\n",
    "    plt.xticks(fontsize = 12)\n",
    "    plt.yticks(fontsize = 12)\n",
    "    plt.grid(True)\n",
    "    plt.tight_layout()"
   ]
  },
  {
   "cell_type": "markdown",
   "metadata": {},
   "source": [
    "From the plots we see that the patterns are very different which makes the feature to be a good one. We surely keep it for further use."
   ]
  },
  {
   "cell_type": "markdown",
   "metadata": {},
   "source": [
    "The next feature is __day_of_the_week__."
   ]
  },
  {
   "cell_type": "code",
   "execution_count": 31,
   "metadata": {},
   "outputs": [
    {
     "data": {
      "image/png": "[encoded data removed]",
      "text/plain": [
       "<Figure size 1152x720 with 12 Axes>"
      ]
     },
     "metadata": {},
     "output_type": "display_data"
    }
   ],
   "source": [
    "fig, axes = plt.subplots(nrows=3, ncols=4, figsize=(16, 10))\n",
    "\n",
    "for idx, (user, sub_df) in  enumerate(pd.groupby(train_data_10users, 'target')): \n",
    "    i, j = idx // 4, idx % 4\n",
    "    week_day_hist = sub_df['day_of_week']\n",
    "    axes[i, j].hist(week_day_hist, label=user, color=color_dic[user], bins = 7)\n",
    "    axes[i, j].legend()\n",
    "    axes[i, j].set_xlabel('Day of week', fontsize = 12)\n",
    "    axes[i, j].set_ylabel('Frequency', fontsize = 12)\n",
    "    plt.sca(axes[i, j])\n",
    "    plt.xticks(fontsize = 12)\n",
    "    plt.yticks(fontsize = 12)\n",
    "    plt.grid(True)\n",
    "    plt.tight_layout()"
   ]
  },
  {
   "cell_type": "markdown",
   "metadata": {},
   "source": [
    "The conclusions about this feature is the same as for the previous one - very representative and will be selected for further use."
   ]
  },
  {
   "cell_type": "markdown",
   "metadata": {},
   "source": [
    "Let's consider __Part 2__ features."
   ]
  },
  {
   "cell_type": "code",
   "execution_count": 32,
   "metadata": {},
   "outputs": [],
   "source": [
    "id_name_dict = {128: 'Mary-Kate', 39: 'Ashley', 207: 'Lindsey', 127: 'Naomi', 237: 'Avril',\n",
    "               33: 'Bob', 50: 'Bill', 31: 'John', 100: 'Dick', 241: 'Ed'}\n",
    "new_features_10users_2['target'] = new_features_10users_2['target'].map(id_name_dict)\n",
    "\n",
    "color_dic = {'Mary-Kate': 'pink', 'Ashley': 'darkviolet', 'Lindsey':'blueviolet', \n",
    "             'Naomi': 'hotpink', 'Avril': 'orchid', \n",
    "             'Bob': 'firebrick', 'Bill': 'gold', 'John': 'forestgreen', \n",
    "             'Dick': 'slategrey', 'Ed':'brown'}"
   ]
  },
  {
   "cell_type": "markdown",
   "metadata": {},
   "source": [
    "The first feature is __time_of_the_day__."
   ]
  },
  {
   "cell_type": "code",
   "execution_count": 33,
   "metadata": {},
   "outputs": [
    {
     "data": {
      "image/png": "[encoded data removed]",
      "text/plain": [
       "<Figure size 1152x720 with 12 Axes>"
      ]
     },
     "metadata": {},
     "output_type": "display_data"
    }
   ],
   "source": [
    "fig, axes = plt.subplots(nrows=3, ncols=4, figsize=(16, 10))\n",
    "plt.suptitle('Time of the day', y = 1.03, fontsize = 20)\n",
    "\n",
    "for idx, (user, sub_df) in  enumerate(new_features_10users_2.groupby('target')): \n",
    "    i, j = idx // 4, idx % 4\n",
    "    major_ticks = np.arange(0, 3, 1)\n",
    "    num_unique_sites_hist = sub_df['day_time']\n",
    "    axes[i, j].hist(num_unique_sites_hist, label=user, color=color_dic[user])\n",
    "    axes[i, j].legend()\n",
    "    axes[i, j].set_xticklabels(['Morning', 'Afternoon', 'Evening'])\n",
    "    axes[i, j].set_ylabel('Frequency', fontsize = 12)\n",
    "    axes[i, j].set_xticks(major_ticks)\n",
    "    plt.sca(axes[i, j])\n",
    "    plt.xticks(fontsize = 12)\n",
    "    plt.yticks(fontsize = 12)\n",
    "    plt.grid(True)\n",
    "    plt.tight_layout()"
   ]
  },
  {
   "cell_type": "markdown",
   "metadata": {},
   "source": [
    "The feature shows the preferences of the users to use the Internet at different parts of the day. Potentially, this is a good feature since the pattern varies from one user to another."
   ]
  },
  {
   "cell_type": "markdown",
   "metadata": {},
   "source": [
    "The next feature is __average_time_for_one_site__."
   ]
  },
  {
   "cell_type": "code",
   "execution_count": 34,
   "metadata": {},
   "outputs": [
    {
     "data": {
      "image/png": "[encoded data removed]",
      "text/plain": [
       "<Figure size 1152x720 with 12 Axes>"
      ]
     },
     "metadata": {},
     "output_type": "display_data"
    }
   ],
   "source": [
    "fig, axes = plt.subplots(nrows=3, ncols=4, figsize=(16, 10))\n",
    "plt.suptitle('Average time per site in each session', y = 1.03, fontsize = 20)\n",
    "\n",
    "for idx, (user, sub_df) in  enumerate(new_features_10users_2.groupby('target')): \n",
    "    i, j = idx // 4, idx % 4\n",
    "    num_unique_sites_hist = sub_df[sub_df['aver_time'] <= 10]['aver_time']\n",
    "    axes[i, j].hist(num_unique_sites_hist, label=user, color=color_dic[user], bins = 10)\n",
    "    axes[i, j].legend()\n",
    "    axes[i, j].set_xlabel('Average time per site in each session, sec', fontsize = 12)\n",
    "    axes[i, j].set_ylabel('Frequency', fontsize = 12)\n",
    "    plt.sca(axes[i, j])\n",
    "    plt.xticks(fontsize = 12)\n",
    "    plt.yticks(fontsize = 12)\n",
    "    plt.grid(True)\n",
    "    plt.tight_layout()"
   ]
  },
  {
   "cell_type": "markdown",
   "metadata": {},
   "source": [
    "This feautre is very similar to most of the users as it was in __timespance__ feature. We exclude this from further analysis."
   ]
  },
  {
   "cell_type": "markdown",
   "metadata": {},
   "source": [
    "The next feature is __most_common_web_site__."
   ]
  },
  {
   "cell_type": "code",
   "execution_count": 35,
   "metadata": {},
   "outputs": [
    {
     "data": {
      "image/png": "[encoded data removed]",
      "text/plain": [
       "<Figure size 1152x720 with 12 Axes>"
      ]
     },
     "metadata": {},
     "output_type": "display_data"
    }
   ],
   "source": [
    "fig, axes = plt.subplots(nrows=3, ncols=4, figsize=(16, 10))\n",
    "plt.suptitle('Most common web-site', y = 1.03, fontsize = 20)\n",
    "\n",
    "for idx, (user, sub_df) in  enumerate(new_features_10users_2.groupby('target')): \n",
    "    i, j = idx // 4, idx % 4\n",
    "    num_unique_sites_hist = sub_df[sub_df['most_common'] >= 4900]['most_common']\n",
    "    axes[i, j].hist(num_unique_sites_hist, label=user, color=color_dic[user])\n",
    "    axes[i, j].legend()\n",
    "    axes[i, j].set_xlabel('Site number', fontsize = 12)\n",
    "    axes[i, j].set_ylabel('Frequency', fontsize = 12)\n",
    "    plt.sca(axes[i, j])\n",
    "    plt.xticks(fontsize = 10)\n",
    "    plt.yticks(fontsize = 10)\n",
    "    plt.grid(True)\n",
    "    plt.tight_layout()"
   ]
  },
  {
   "cell_type": "markdown",
   "metadata": {},
   "source": [
    "The plots show that the pattern of using the most common web_sites in the sessions is different for the users. This is potentially a good feature."
   ]
  },
  {
   "cell_type": "markdown",
   "metadata": {},
   "source": [
    "Finally, consider __TOP_web_site__ feature."
   ]
  },
  {
   "cell_type": "code",
   "execution_count": 36,
   "metadata": {},
   "outputs": [
    {
     "data": {
      "image/png": "[encoded data removed]",
      "text/plain": [
       "<Figure size 1152x720 with 12 Axes>"
      ]
     },
     "metadata": {},
     "output_type": "display_data"
    }
   ],
   "source": [
    "fig, axes = plt.subplots(nrows=3, ncols=4, figsize=(16, 10))\n",
    "plt.suptitle('Number of TOP-sites in each session', y = 1.03, fontsize = 20)\n",
    "\n",
    "for idx, (user, sub_df) in  enumerate(new_features_10users_2.groupby('target')): \n",
    "    i, j = idx // 4, idx % 4\n",
    "    num_unique_sites_hist = sub_df['num_of_top_site']\n",
    "    axes[i, j].hist(num_unique_sites_hist, label=user, color=color_dic[user])\n",
    "    axes[i, j].legend()\n",
    "    axes[i, j].set_xlabel('Number of TOP-sites in each session', fontsize = 12)\n",
    "    axes[i, j].set_ylabel('Frequency', fontsize = 12)\n",
    "    plt.sca(axes[i, j])\n",
    "    plt.xticks(fontsize = 12)\n",
    "    plt.yticks(fontsize = 12)\n",
    "    plt.grid(True)\n",
    "    plt.tight_layout()"
   ]
  },
  {
   "cell_type": "markdown",
   "metadata": {},
   "source": [
    "This feature can also be representative, so we will keep for further analysis."
   ]
  },
  {
   "cell_type": "markdown",
   "metadata": {},
   "source": [
    "As the result of the visual analysis, we select the following features which we will apply in the future training:\n",
    " - #unique_sites\n",
    " - start_hour\n",
    " - day_of_week\n",
    " - day_time\n",
    " - most_common\n",
    " - num_of_top_site"
   ]
  },
  {
   "cell_type": "code",
   "execution_count": 37,
   "metadata": {},
   "outputs": [],
   "source": [
    "new_features_10users_def = train_data_10users[['#unique_sites', 'start_hour', 'day_of_week']]\n",
    "new_features_10users_add = new_features_10users_2[['day_time', 'most_common', 'num_of_top_site']]\n",
    "selected_features_10users = pd.concat([new_features_10users_def, new_features_10users_add], axis = 1)"
   ]
  },
  {
   "cell_type": "markdown",
   "metadata": {},
   "source": [
    "# Part 2 - Model training"
   ]
  },
  {
   "cell_type": "markdown",
   "metadata": {},
   "source": [
    "### 2.1 Classifier selection"
   ]
  },
  {
   "cell_type": "markdown",
   "metadata": {},
   "source": [
    "As the first step, we need to choose the best algorithm for the data we have. For this purpose, we will use the data with 10 users (__X_sparse_10users__, __y_10users__) obtained in __1.2 section__. First, split the data into the training and validation parts."
   ]
  },
  {
   "cell_type": "code",
   "execution_count": 38,
   "metadata": {},
   "outputs": [],
   "source": [
    "X_train, X_valid, y_train, y_valid = train_test_split(X_sparse_10users, y_10users, test_size=0.3, \n",
    "                                                     random_state=17, stratify=y_10users)"
   ]
  },
  {
   "cell_type": "markdown",
   "metadata": {},
   "source": [
    "Then, specify the cross-validation type: 3-fold, shuffled with specific random state. "
   ]
  },
  {
   "cell_type": "code",
   "execution_count": 39,
   "metadata": {},
   "outputs": [],
   "source": [
    "skf = StratifiedKFold(n_splits=3, shuffle=True, random_state=17)"
   ]
  },
  {
   "cell_type": "markdown",
   "metadata": {},
   "source": [
    "Also, define a function for plotting validation results."
   ]
  },
  {
   "cell_type": "code",
   "execution_count": 40,
   "metadata": {},
   "outputs": [],
   "source": [
    "def plot_validation_curves(param_values, grid_cv_results_):\n",
    "    train_mu, train_std = grid_cv_results_['mean_train_score'], grid_cv_results_['std_train_score']\n",
    "    valid_mu, valid_std = grid_cv_results_['mean_test_score'], grid_cv_results_['std_test_score']\n",
    "    train_line = plt.plot(param_values, train_mu, '-', label='train', color='green')\n",
    "    valid_line = plt.plot(param_values, valid_mu, '-', label='test', color='red')\n",
    "    plt.fill_between(param_values, train_mu - train_std, train_mu + train_std, edgecolor='none',\n",
    "                     facecolor=train_line[0].get_color(), alpha=0.2)\n",
    "    plt.fill_between(param_values, valid_mu - valid_std, valid_mu + valid_std, edgecolor='none',\n",
    "                     facecolor=valid_line[0].get_color(), alpha=0.2)\n",
    "    plt.legend()"
   ]
  },
  {
   "cell_type": "markdown",
   "metadata": {},
   "source": [
    "__We will train the following algorithms:__\n",
    " - __KNN__\n",
    " - __Random Forest__\n",
    " - __Logistic regression__\n",
    " - __Linear SVM__"
   ]
  },
  {
   "cell_type": "code",
   "execution_count": 41,
   "metadata": {},
   "outputs": [],
   "source": [
    "from sklearn.neighbors import KNeighborsClassifier\n",
    "from sklearn.ensemble import RandomForestClassifier\n",
    "from sklearn.linear_model import LogisticRegression, LogisticRegressionCV\n",
    "from sklearn.svm import LinearSVC"
   ]
  },
  {
   "cell_type": "markdown",
   "metadata": {},
   "source": [
    "__KNN__"
   ]
  },
  {
   "cell_type": "code",
   "execution_count": 42,
   "metadata": {},
   "outputs": [
    {
     "name": "stdout",
     "output_type": "stream",
     "text": [
      "Mean train score is 0.5647188870063362\n",
      "Validation score is 0.584024650391088\n",
      "Wall time: 7.86 s\n"
     ]
    }
   ],
   "source": [
    "%%time\n",
    "#Training\n",
    "knn = KNeighborsClassifier(n_neighbors = 100, n_jobs=-1)\n",
    "knn.fit(X_train, y_train)\n",
    "score_train = cross_val_score(knn, X_train, y_train, cv = skf, scoring = 'accuracy')\n",
    "print 'Mean train score is', score_train.mean()\n",
    "\n",
    "#Validation\n",
    "y_pred = knn.predict(X_valid)\n",
    "score_valid = accuracy_score(y_valid, y_pred)\n",
    "print 'Validation score is', score_valid"
   ]
  },
  {
   "cell_type": "markdown",
   "metadata": {},
   "source": [
    "__Random Forest__"
   ]
  },
  {
   "cell_type": "code",
   "execution_count": 43,
   "metadata": {},
   "outputs": [
    {
     "name": "stdout",
     "output_type": "stream",
     "text": [
      "Out-of-bag score is 0.716521032310506\n",
      "Validation score is 0.7309789049537805\n",
      "Wall time: 7.46 s\n"
     ]
    }
   ],
   "source": [
    "%%time\n",
    "#Training\n",
    "forest = RandomForestClassifier(n_estimators = 100, random_state=17, oob_score = True, n_jobs = -1)\n",
    "forest.fit(X_train, y_train)\n",
    "print 'Out-of-bag score is', forest.oob_score_\n",
    "\n",
    "#Validation\n",
    "y_pred = forest.predict(X_valid)\n",
    "score_valid = accuracy_score(y_valid, y_pred)\n",
    "print 'Validation score is', score_valid"
   ]
  },
  {
   "cell_type": "markdown",
   "metadata": {},
   "source": [
    "__Logistic regression__"
   ]
  },
  {
   "cell_type": "code",
   "execution_count": 44,
   "metadata": {},
   "outputs": [
    {
     "name": "stdout",
     "output_type": "stream",
     "text": [
      "Mean train score is 0.7610267543665875\n",
      "Validation score is 0.7817018250770325\n",
      "Wall time: 1.68 s\n"
     ]
    }
   ],
   "source": [
    "%%time\n",
    "logit = LogisticRegression(random_state = 17)\n",
    "logit.fit(X_train, y_train)\n",
    "y_pred = logit.predict(X_valid)\n",
    "\n",
    "print 'Mean train score is', cross_val_score(logit, X_train, y_train, cv = skf, scoring = 'accuracy').mean()\n",
    "print 'Validation score is', accuracy_score(y_valid, y_pred)"
   ]
  },
  {
   "cell_type": "markdown",
   "metadata": {},
   "source": [
    "We also can try to search for a better hyperparameter for the LogistricRegression algorithm. Let's try to choose a better value for C using LogisticRegressionCV."
   ]
  },
  {
   "cell_type": "code",
   "execution_count": 51,
   "metadata": {},
   "outputs": [
    {
     "name": "stdout",
     "output_type": "stream",
     "text": [
      "Wall time: 2min 16s\n"
     ]
    }
   ],
   "source": [
    "%%time\n",
    "logit_c_values1 = np.linspace(0.1, 10, 50)\n",
    "\n",
    "logit_grid_searcher1 = LogisticRegressionCV(Cs = list(logit_c_values1), multi_class = 'multinomial',  cv= skf, \n",
    "                                            scoring = 'accuracy', random_state=17)\n",
    "logit_grid_searcher1.fit(X_train, y_train)"
   ]
  },
  {
   "cell_type": "code",
   "execution_count": 52,
   "metadata": {},
   "outputs": [
    {
     "name": "stdout",
     "output_type": "stream",
     "text": [
      "The best C parameter and associated score are (0.9081632653061225, 0.7585892444623035)\n"
     ]
    }
   ],
   "source": [
    "logit_mean_cv_scores1 = logit_grid_searcher1.scores_.values()\n",
    "Cs = logit_grid_searcher1.Cs\n",
    "scores = []\n",
    "\n",
    "for x in logit_mean_cv_scores1:\n",
    "    for row in x:\n",
    "        scores.append(row)\n",
    "        \n",
    "scores = np.array(scores)\n",
    "mean_scores = []\n",
    "\n",
    "for i in range(10):\n",
    "    mean_scores.append(scores[:, i].mean())    \n",
    "Cs_and_scores = sorted(zip(Cs, mean_scores), key = lambda x: x[1], reverse = True)\n",
    "print 'The best C parameter and associated score are', Cs_and_scores[0]"
   ]
  },
  {
   "cell_type": "markdown",
   "metadata": {},
   "source": [
    "Here we see that finding a better C-value than the default one is not straightforward. Though, we can judge the performance of the algorithm more accurately."
   ]
  },
  {
   "cell_type": "markdown",
   "metadata": {},
   "source": [
    "__Linear SVM__"
   ]
  },
  {
   "cell_type": "code",
   "execution_count": 45,
   "metadata": {},
   "outputs": [
    {
     "name": "stdout",
     "output_type": "stream",
     "text": [
      "Cross validation score is 0.7527976723012523\n",
      "Validation score is 0.7769613652524295\n",
      "Wall time: 4.46 s\n"
     ]
    }
   ],
   "source": [
    "%%time\n",
    "svm = LinearSVC(C=1, random_state = 17)\n",
    "svm.fit(X_train, y_train)\n",
    "score_train = cross_val_score(svm, X_train, y_train, cv = skf, scoring = 'accuracy')\n",
    "y_pred = svm.predict(X_valid)\n",
    "valid_score = accuracy_score(y_valid, y_pred)\n",
    "\n",
    "print 'Cross validation score is', score_train.mean()\n",
    "print 'Validation score is', valid_score"
   ]
  },
  {
   "cell_type": "markdown",
   "metadata": {},
   "source": [
    "We also can try to search for a better hyperparameter for the SVM algorithm. Let's try to choose a better value for __C__ using\n",
    "__GridSearch__."
   ]
  },
  {
   "cell_type": "code",
   "execution_count": 46,
   "metadata": {},
   "outputs": [
    {
     "name": "stdout",
     "output_type": "stream",
     "text": [
      "Best searched C value is 0.13879310344827586\n",
      "Associated test score is 0.766104450315\n",
      "Wall time: 1min 11s\n"
     ]
    }
   ],
   "source": [
    "%%time\n",
    "svm_params2 = {'C': np.linspace(1e-3, 1, 30)}\n",
    "svm_grid_searcher2 = GridSearchCV(svm, svm_params2, scoring = 'accuracy')\n",
    "svm_grid_searcher2.fit(X_train, y_train)\n",
    "\n",
    "data_frame_svm_searcher_2 = pd.DataFrame(svm_grid_searcher2.cv_results_)\n",
    "mean_score = list(data_frame_svm_searcher_2['mean_test_score'])\n",
    "Cs_param = list(data_frame_svm_searcher_2['param_C'])\n",
    "\n",
    "best_params = sorted(zip(Cs_param, mean_score), key= lambda x: x[1], reverse = True)\n",
    "print 'Best searched C value is', best_params[0][0]\n",
    "print 'Associated test score is', best_params[0][1]"
   ]
  },
  {
   "cell_type": "markdown",
   "metadata": {},
   "source": [
    "The plot of the score vs __C__ parameter is shown below."
   ]
  },
  {
   "cell_type": "code",
   "execution_count": 47,
   "metadata": {},
   "outputs": [
    {
     "data": {
      "image/png": "[encoded data removed]",
      "text/plain": [
       "<Figure size 432x288 with 1 Axes>"
      ]
     },
     "metadata": {},
     "output_type": "display_data"
    }
   ],
   "source": [
    "plot_validation_curves(svm_params2['C'], svm_grid_searcher2.cv_results_)"
   ]
  },
  {
   "cell_type": "markdown",
   "metadata": {},
   "source": [
    "Finally, we find the score on the validation sample with the best found __C__ value."
   ]
  },
  {
   "cell_type": "code",
   "execution_count": 48,
   "metadata": {},
   "outputs": [
    {
     "name": "stdout",
     "output_type": "stream",
     "text": [
      "SVM validation score is 0.7817018250770325\n"
     ]
    }
   ],
   "source": [
    "svm_cv_acc = accuracy_score(y_valid, svm_grid_searcher2.predict(X_valid))\n",
    "print 'SVM validation score is', svm_cv_acc"
   ]
  },
  {
   "cell_type": "markdown",
   "metadata": {},
   "source": [
    "__Conlcusion__\n",
    "\n",
    "From the analsysis with testing several algorithms, we see that the LogisticRegression and Linear SVM have approximately the same performance. For further analysis, we choose Linear SVM, however, LinearRegression can also be used."
   ]
  },
  {
   "cell_type": "markdown",
   "metadata": {},
   "source": [
    "### 2.2 Hyperparameters tuning"
   ]
  },
  {
   "cell_type": "markdown",
   "metadata": {},
   "source": [
    "First, we will choose the best combination of the session lenght and window size. For this, we will use the matricies obtained in __1.2 section__. We will evaluate the matricies using the developed function \"__model_assesment__\" __(Appendix B)__, which takes the matricies in and returns cross-validation score for each matrix."
   ]
  },
  {
   "cell_type": "code",
   "execution_count": 125,
   "metadata": {},
   "outputs": [
    {
     "name": "stdout",
     "output_type": "stream",
     "text": [
      "Wall time: 25.8 s\n"
     ]
    }
   ],
   "source": [
    "%%time\n",
    "estimator = svm_grid_searcher2.best_estimator_\n",
    "\n",
    "windows = []\n",
    "ses_lenght = []\n",
    "train_scores = []\n",
    "valid_scores = []\n",
    "\n",
    "for window_size, session_length in itertools.product([10, 7, 5], [15, 10, 7, 5]):\n",
    "    if window_size <= session_length:\n",
    "        \n",
    "        windows.append(window_size)\n",
    "        ses_lenght.append(session_length)\n",
    "        \n",
    "        X_name = 'X_sparse_' + str(10) + 'users_s' + str(session_length) + '_w' + str(window_size) + '.pkl'\n",
    "        y_name = 'y_10users_s' + str(session_length) + '_w' + str(window_size) + '.pkl'\n",
    "        path_to_X_pkl = os.path.join(path_to_data, X_name)\n",
    "        path_to_y_pkl = os.path.join(path_to_data, y_name)\n",
    "        \n",
    "        train_score, valid_score = model_assessment(svm_grid_searcher2.best_estimator_, \n",
    "                         path_to_X_pkl, path_to_y_pkl, skf, random_state=17, test_size=0.3, path = 'True')\n",
    "        \n",
    "        train_scores.append(train_score)\n",
    "        valid_scores.append(valid_score)\n",
    "        \n",
    "windows = pd.DataFrame(windows)\n",
    "ses_lenght = pd.DataFrame(ses_lenght)\n",
    "train_score = pd.DataFrame(train_scores)\n",
    "valid_score = pd.DataFrame(valid_scores)\n",
    "result = pd.concat([windows, ses_lenght, train_score, valid_score], axis = 1)\n",
    "result.columns = ['window_size', 'ses_lenght', 'train_score', 'valid_score']"
   ]
  },
  {
   "cell_type": "code",
   "execution_count": 70,
   "metadata": {},
   "outputs": [
    {
     "data": {
      "text/html": [
       "<div>\n",
       "<style scoped>\n",
       "    .dataframe tbody tr th:only-of-type {\n",
       "        vertical-align: middle;\n",
       "    }\n",
       "\n",
       "    .dataframe tbody tr th {\n",
       "        vertical-align: top;\n",
       "    }\n",
       "\n",
       "    .dataframe thead th {\n",
       "        text-align: right;\n",
       "    }\n",
       "</style>\n",
       "<table border=\"1\" class=\"dataframe\">\n",
       "  <thead>\n",
       "    <tr style=\"text-align: right;\">\n",
       "      <th></th>\n",
       "      <th>window_size</th>\n",
       "      <th>ses_lenght</th>\n",
       "      <th>train_score</th>\n",
       "      <th>valid_score</th>\n",
       "    </tr>\n",
       "  </thead>\n",
       "  <tbody>\n",
       "    <tr>\n",
       "      <th>0</th>\n",
       "      <td>10</td>\n",
       "      <td>15</td>\n",
       "      <td>0.821790</td>\n",
       "      <td>0.840009</td>\n",
       "    </tr>\n",
       "    <tr>\n",
       "      <th>1</th>\n",
       "      <td>10</td>\n",
       "      <td>10</td>\n",
       "      <td>0.763365</td>\n",
       "      <td>0.781702</td>\n",
       "    </tr>\n",
       "    <tr>\n",
       "      <th>2</th>\n",
       "      <td>7</td>\n",
       "      <td>15</td>\n",
       "      <td>0.847087</td>\n",
       "      <td>0.854488</td>\n",
       "    </tr>\n",
       "    <tr>\n",
       "      <th>3</th>\n",
       "      <td>7</td>\n",
       "      <td>10</td>\n",
       "      <td>0.797585</td>\n",
       "      <td>0.807533</td>\n",
       "    </tr>\n",
       "    <tr>\n",
       "      <th>4</th>\n",
       "      <td>7</td>\n",
       "      <td>7</td>\n",
       "      <td>0.754412</td>\n",
       "      <td>0.762900</td>\n",
       "    </tr>\n",
       "    <tr>\n",
       "      <th>5</th>\n",
       "      <td>5</td>\n",
       "      <td>15</td>\n",
       "      <td>0.868967</td>\n",
       "      <td>0.876482</td>\n",
       "    </tr>\n",
       "    <tr>\n",
       "      <th>6</th>\n",
       "      <td>5</td>\n",
       "      <td>10</td>\n",
       "      <td>0.817957</td>\n",
       "      <td>0.825391</td>\n",
       "    </tr>\n",
       "    <tr>\n",
       "      <th>7</th>\n",
       "      <td>5</td>\n",
       "      <td>7</td>\n",
       "      <td>0.775329</td>\n",
       "      <td>0.787103</td>\n",
       "    </tr>\n",
       "    <tr>\n",
       "      <th>8</th>\n",
       "      <td>5</td>\n",
       "      <td>5</td>\n",
       "      <td>0.726706</td>\n",
       "      <td>0.736724</td>\n",
       "    </tr>\n",
       "  </tbody>\n",
       "</table>\n",
       "</div>"
      ],
      "text/plain": [
       "   window_size  ses_lenght  train_score  valid_score\n",
       "0           10          15     0.821790     0.840009\n",
       "1           10          10     0.763365     0.781702\n",
       "2            7          15     0.847087     0.854488\n",
       "3            7          10     0.797585     0.807533\n",
       "4            7           7     0.754412     0.762900\n",
       "5            5          15     0.868967     0.876482\n",
       "6            5          10     0.817957     0.825391\n",
       "7            5           7     0.775329     0.787103\n",
       "8            5           5     0.726706     0.736724"
      ]
     },
     "execution_count": 70,
     "metadata": {},
     "output_type": "execute_result"
    }
   ],
   "source": [
    "result"
   ]
  },
  {
   "cell_type": "markdown",
   "metadata": {},
   "source": [
    "__From this analysis, we see that the best combination of the session length and window size is 5 and 15 respectively. Thus, we will use this combination of hyperparameters in further analysis.__"
   ]
  },
  {
   "cell_type": "markdown",
   "metadata": {},
   "source": [
    "### 2.3 Investigation of additional feature performance"
   ]
  },
  {
   "cell_type": "markdown",
   "metadata": {},
   "source": [
    "__The next step is to see if the additional features help us to improve the scores. First, we generate the features for the session length of 15 and window size of 5 which were found to be the best choice in the previous section.__"
   ]
  },
  {
   "cell_type": "code",
   "execution_count": 109,
   "metadata": {},
   "outputs": [
    {
     "data": {
      "application/vnd.jupyter.widget-view+json": {
       "model_id": "2c11285c0aef48cca60166806761fef3",
       "version_major": 2,
       "version_minor": 0
      },
      "text/plain": [
       "HBox(children=(IntProgress(value=0, max=10), HTML(value=u'')))"
      ]
     },
     "metadata": {},
     "output_type": "display_data"
    },
    {
     "name": "stdout",
     "output_type": "stream",
     "text": [
      "\n"
     ]
    },
    {
     "data": {
      "application/vnd.jupyter.widget-view+json": {
       "model_id": "ec48137702f844889df8163a3874ecd7",
       "version_major": 2,
       "version_minor": 0
      },
      "text/plain": [
       "HBox(children=(IntProgress(value=0, max=10), HTML(value=u'')))"
      ]
     },
     "metadata": {},
     "output_type": "display_data"
    },
    {
     "name": "stdout",
     "output_type": "stream",
     "text": [
      "\n",
      "Wall time: 22.3 s\n"
     ]
    }
   ],
   "source": [
    "%%time\n",
    "feature_names = ['site' + str(i) for i in range(1,16)] + \\\n",
    "                ['time_diff' + str(j) for j in range(1,15)] + \\\n",
    "                ['session_timespan', '#unique_sites', 'start_hour', \n",
    "                 'day_of_week', 'target']\n",
    "train_data_10users = prepare_train_set_with_fe(os.path.join(path_to_data, \n",
    "                                                         '10users'), \n",
    "                  site_freq_path = site_freq_10users,\n",
    "                  feature_names = feature_names, session_length=15, window_size = 5)\n",
    "\n",
    "feature_names = ['site' + str(i) for i in range(1,16)] + \\\n",
    "                ['day_time', 'most_common', 'aver_time', 'num_of_top_site', 'target']\n",
    "\n",
    "new_features_10users_2 = feature_engineering(os.path.join(path_to_data, \n",
    "                                                         '10users'), \n",
    "                  site_freq_path=site_freq_10users, feature_names = feature_names, \n",
    "                                             session_length=15, window_size = 5)\n",
    "\n",
    "new_features_10users_def = train_data_10users[['#unique_sites', 'start_hour', 'day_of_week']]\n",
    "new_features_10users_add = new_features_10users_2[['day_time', 'most_common', 'num_of_top_site']]\n",
    "selected_features_10users = pd.concat([new_features_10users_def, new_features_10users_add], axis = 1)"
   ]
  },
  {
   "cell_type": "markdown",
   "metadata": {},
   "source": [
    "__Then, we train the agorithm adding one feature at each iteration__."
   ]
  },
  {
   "cell_type": "code",
   "execution_count": 135,
   "metadata": {},
   "outputs": [
    {
     "name": "stdout",
     "output_type": "stream",
     "text": [
      "Wall time: 1min 21s\n"
     ]
    }
   ],
   "source": [
    "%%time\n",
    "with open(os.path.join(path_to_data, 'X_sparse_10users_s15_w5.pkl'), 'rb') as f:\n",
    "        X_train = pickle.load(f)\n",
    "\n",
    "with open(os.path.join(path_to_data, 'y_10users_s15_w5.pkl'), 'rb') as f:\n",
    "        y = pickle.load(f)\n",
    "\n",
    "train_scores = [0.868967]\n",
    "valid_scores = [0.876482]\n",
    "feature = ['default']\n",
    "\n",
    "for column in selected_features_10users:\n",
    "    feature.append(column)\n",
    "    sparce_column = csr_matrix(np.array(selected_features_10users[column]).reshape((selected_features_10users.shape[0],1)))\n",
    "    X_total = sp.hstack((X_train, sparce_column))\n",
    "    X_total = csr_matrix(X_total)\n",
    "    \n",
    "    train_score, valid_score = model_assessment(svm_grid_searcher2.best_estimator_, \n",
    "    X_total, y, skf, random_state=17, test_size=0.3, path = 'False')  \n",
    "    train_scores.append(train_score)\n",
    "    valid_scores.append(valid_score)\n",
    "    \n",
    "\n",
    "train_score = pd.DataFrame(train_scores)\n",
    "valid_score = pd.DataFrame(valid_scores)\n",
    "feature = pd.DataFrame(feature)\n",
    "\n",
    "result = pd.concat([feature, train_score, valid_score], axis = 1)\n",
    "result.columns = ['feature', 'train_score', 'valid_score']"
   ]
  },
  {
   "cell_type": "code",
   "execution_count": 136,
   "metadata": {},
   "outputs": [
    {
     "data": {
      "text/html": [
       "<div>\n",
       "<style scoped>\n",
       "    .dataframe tbody tr th:only-of-type {\n",
       "        vertical-align: middle;\n",
       "    }\n",
       "\n",
       "    .dataframe tbody tr th {\n",
       "        vertical-align: top;\n",
       "    }\n",
       "\n",
       "    .dataframe thead th {\n",
       "        text-align: right;\n",
       "    }\n",
       "</style>\n",
       "<table border=\"1\" class=\"dataframe\">\n",
       "  <thead>\n",
       "    <tr style=\"text-align: right;\">\n",
       "      <th></th>\n",
       "      <th>feature</th>\n",
       "      <th>train_score</th>\n",
       "      <th>valid_score</th>\n",
       "    </tr>\n",
       "  </thead>\n",
       "  <tbody>\n",
       "    <tr>\n",
       "      <th>0</th>\n",
       "      <td>default</td>\n",
       "      <td>0.868967</td>\n",
       "      <td>0.876482</td>\n",
       "    </tr>\n",
       "    <tr>\n",
       "      <th>1</th>\n",
       "      <td>#unique_sites</td>\n",
       "      <td>0.869272</td>\n",
       "      <td>0.877074</td>\n",
       "    </tr>\n",
       "    <tr>\n",
       "      <th>2</th>\n",
       "      <td>start_hour</td>\n",
       "      <td>0.874657</td>\n",
       "      <td>0.884305</td>\n",
       "    </tr>\n",
       "    <tr>\n",
       "      <th>3</th>\n",
       "      <td>day_of_week</td>\n",
       "      <td>0.871558</td>\n",
       "      <td>0.878615</td>\n",
       "    </tr>\n",
       "    <tr>\n",
       "      <th>4</th>\n",
       "      <td>day_time</td>\n",
       "      <td>0.874657</td>\n",
       "      <td>0.883950</td>\n",
       "    </tr>\n",
       "    <tr>\n",
       "      <th>5</th>\n",
       "      <td>most_common</td>\n",
       "      <td>0.283910</td>\n",
       "      <td>0.112613</td>\n",
       "    </tr>\n",
       "    <tr>\n",
       "      <th>6</th>\n",
       "      <td>num_of_top_site</td>\n",
       "      <td>0.868967</td>\n",
       "      <td>0.876482</td>\n",
       "    </tr>\n",
       "  </tbody>\n",
       "</table>\n",
       "</div>"
      ],
      "text/plain": [
       "           feature  train_score  valid_score\n",
       "0          default     0.868967     0.876482\n",
       "1    #unique_sites     0.869272     0.877074\n",
       "2       start_hour     0.874657     0.884305\n",
       "3      day_of_week     0.871558     0.878615\n",
       "4         day_time     0.874657     0.883950\n",
       "5      most_common     0.283910     0.112613\n",
       "6  num_of_top_site     0.868967     0.876482"
      ]
     },
     "execution_count": 136,
     "metadata": {},
     "output_type": "execute_result"
    }
   ],
   "source": [
    "result"
   ]
  },
  {
   "cell_type": "markdown",
   "metadata": {},
   "source": [
    "__From the obtained results we see that adding features separately can slightly improve the scores. At the same time, the feature representing the most common web-site totally destroys the predictions. The next step is to see how the combination of the best features can improve the scores__. __Let's compare how the algorithm works if we add day_time_ and _start_hour_ features at the same time__."
   ]
  },
  {
   "cell_type": "code",
   "execution_count": 142,
   "metadata": {},
   "outputs": [
    {
     "name": "stdout",
     "output_type": "stream",
     "text": [
      "Wall time: 10.4 s\n"
     ]
    }
   ],
   "source": [
    "%%time\n",
    "train_scores = [0.868967]\n",
    "valid_scores = [0.876482]\n",
    "feature = ['default', 'day_time + start_hour']\n",
    "\n",
    "sparce_column = csr_matrix(np.array(selected_features_10users[['day_time', 'start_hour']]).reshape((selected_features_10users.shape[0],2)))\n",
    "X_total = sp.hstack((X_train, sparce_column))\n",
    "X_total = csr_matrix(X_total)\n",
    "    \n",
    "train_score, valid_score = model_assessment(svm_grid_searcher2.best_estimator_, \n",
    "X_total, y, skf, random_state=17, test_size=0.3, path = 'False')  \n",
    "train_scores.append(train_score)\n",
    "valid_scores.append(valid_score)\n",
    "    \n",
    "\n",
    "train_score = pd.DataFrame(train_scores)\n",
    "valid_score = pd.DataFrame(valid_scores)\n",
    "feature = pd.DataFrame(feature)\n",
    "\n",
    "result = pd.concat([feature, train_score, valid_score], axis = 1)\n",
    "result.columns = ['feature', 'train_score', 'valid_score']"
   ]
  },
  {
   "cell_type": "code",
   "execution_count": 143,
   "metadata": {},
   "outputs": [
    {
     "data": {
      "text/html": [
       "<div>\n",
       "<style scoped>\n",
       "    .dataframe tbody tr th:only-of-type {\n",
       "        vertical-align: middle;\n",
       "    }\n",
       "\n",
       "    .dataframe tbody tr th {\n",
       "        vertical-align: top;\n",
       "    }\n",
       "\n",
       "    .dataframe thead th {\n",
       "        text-align: right;\n",
       "    }\n",
       "</style>\n",
       "<table border=\"1\" class=\"dataframe\">\n",
       "  <thead>\n",
       "    <tr style=\"text-align: right;\">\n",
       "      <th></th>\n",
       "      <th>feature</th>\n",
       "      <th>train_score</th>\n",
       "      <th>valid_score</th>\n",
       "    </tr>\n",
       "  </thead>\n",
       "  <tbody>\n",
       "    <tr>\n",
       "      <th>0</th>\n",
       "      <td>default</td>\n",
       "      <td>0.868967</td>\n",
       "      <td>0.876482</td>\n",
       "    </tr>\n",
       "    <tr>\n",
       "      <th>1</th>\n",
       "      <td>day_time + start_hour</td>\n",
       "      <td>0.875166</td>\n",
       "      <td>0.885135</td>\n",
       "    </tr>\n",
       "  </tbody>\n",
       "</table>\n",
       "</div>"
      ],
      "text/plain": [
       "                 feature  train_score  valid_score\n",
       "0                default     0.868967     0.876482\n",
       "1  day_time + start_hour     0.875166     0.885135"
      ]
     },
     "execution_count": 143,
     "metadata": {},
     "output_type": "execute_result"
    }
   ],
   "source": [
    "result"
   ]
  },
  {
   "cell_type": "markdown",
   "metadata": {},
   "source": [
    "__From this, we clearly see that adding two features at the same time improves the scores even more. Now, we can apply the selected parameters and features for the data set with 150 users to see the ffect on a larger data set.__ __First, we generate the features and then apply the same proceduare as before__."
   ]
  },
  {
   "cell_type": "code",
   "execution_count": 49,
   "metadata": {},
   "outputs": [
    {
     "data": {
      "application/vnd.jupyter.widget-view+json": {
       "model_id": "0c0070b22ac04c8b904e667f271a2804",
       "version_major": 2,
       "version_minor": 0
      },
      "text/plain": [
       "HBox(children=(IntProgress(value=0, max=150), HTML(value=u'')))"
      ]
     },
     "metadata": {},
     "output_type": "display_data"
    },
    {
     "name": "stdout",
     "output_type": "stream",
     "text": [
      "\n"
     ]
    },
    {
     "data": {
      "application/vnd.jupyter.widget-view+json": {
       "model_id": "9aacb9b10bc74b33a2bad7e81d59d53c",
       "version_major": 2,
       "version_minor": 0
      },
      "text/plain": [
       "HBox(children=(IntProgress(value=0, max=150), HTML(value=u'')))"
      ]
     },
     "metadata": {},
     "output_type": "display_data"
    },
    {
     "name": "stdout",
     "output_type": "stream",
     "text": [
      "\n",
      "Wall time: 3min 43s\n"
     ]
    }
   ],
   "source": [
    "%%time\n",
    "feature_names = ['site' + str(i) for i in range(1,16)] + \\\n",
    "                ['time_diff' + str(j) for j in range(1,15)] + \\\n",
    "                ['session_timespan', '#unique_sites', 'start_hour', \n",
    "                 'day_of_week', 'target']\n",
    "train_data_150users = prepare_train_set_with_fe(os.path.join(path_to_data, \n",
    "                                                         '150users'), \n",
    "                  site_freq_path = site_freq_150users,\n",
    "                  feature_names = feature_names, session_length=15, window_size = 5)\n",
    "\n",
    "feature_names = ['site' + str(i) for i in range(1,16)] + \\\n",
    "                ['day_time', 'most_common', 'aver_time', 'num_of_top_site', 'target']\n",
    "\n",
    "new_features_150users_2 = feature_engineering(os.path.join(path_to_data, \n",
    "                                                         '150users'), \n",
    "                  site_freq_path = site_freq_150users, feature_names = feature_names, \n",
    "                                             session_length=15, window_size = 5)\n",
    "\n",
    "new_features_150users_def = train_data_150users[['#unique_sites', 'start_hour', 'day_of_week']]\n",
    "new_features_150users_add = new_features_150users_2[['day_time', 'most_common', 'num_of_top_site']]\n",
    "selected_features_150users = pd.concat([new_features_150users_def, new_features_150users_add], axis = 1)"
   ]
  },
  {
   "cell_type": "code",
   "execution_count": 50,
   "metadata": {},
   "outputs": [
    {
     "name": "stdout",
     "output_type": "stream",
     "text": [
      "Wall time: 1h 4min 55s\n"
     ]
    }
   ],
   "source": [
    "%%time\n",
    "\n",
    "with open(os.path.join(path_to_data, 'X_sparse_150users_s15_w5.pkl'), 'rb') as f:\n",
    "        X_train = pickle.load(f)\n",
    "\n",
    "with open(os.path.join(path_to_data, 'y_150users_s15_w5.pkl'), 'rb') as f:\n",
    "        y = pickle.load(f)\n",
    "\n",
    "train_scores = []\n",
    "valid_scores = []\n",
    "feature = ['default', 'day_time + start_hour']\n",
    "\n",
    "#Train the default algorithm\n",
    "train_score, valid_score = model_assessment(svm_grid_searcher2.best_estimator_, \n",
    "X_train, y, skf, random_state=17, test_size=0.3, path = 'False')     \n",
    "train_scores.append(train_score)\n",
    "valid_scores.append(valid_score)\n",
    "\n",
    "#Train the algorithm with additonal features\n",
    "sparce_column = csr_matrix(np.array(selected_features_150users[['day_time', 'start_hour']]).reshape((selected_features_150users.shape[0],2)))\n",
    "X_total = sp.hstack((X_train, sparce_column))\n",
    "X_total = csr_matrix(X_total)\n",
    "train_score, valid_score = model_assessment(svm_grid_searcher2.best_estimator_, \n",
    "X_total, y, skf, random_state=17, test_size=0.3, path = 'False')  \n",
    "train_scores.append(train_score)\n",
    "valid_scores.append(valid_score)\n",
    "\n",
    "#Writing the results\n",
    "train_score = pd.DataFrame(train_scores)\n",
    "valid_score = pd.DataFrame(valid_scores)\n",
    "feature = pd.DataFrame(feature)\n",
    "\n",
    "result = pd.concat([feature, train_score, valid_score], axis = 1)\n",
    "result.columns = ['feature', 'train_score', 'valid_score']"
   ]
  },
  {
   "cell_type": "code",
   "execution_count": 51,
   "metadata": {},
   "outputs": [
    {
     "data": {
      "text/html": [
       "<div>\n",
       "<style scoped>\n",
       "    .dataframe tbody tr th:only-of-type {\n",
       "        vertical-align: middle;\n",
       "    }\n",
       "\n",
       "    .dataframe tbody tr th {\n",
       "        vertical-align: top;\n",
       "    }\n",
       "\n",
       "    .dataframe thead th {\n",
       "        text-align: right;\n",
       "    }\n",
       "</style>\n",
       "<table border=\"1\" class=\"dataframe\">\n",
       "  <thead>\n",
       "    <tr style=\"text-align: right;\">\n",
       "      <th></th>\n",
       "      <th>feature</th>\n",
       "      <th>train_score</th>\n",
       "      <th>valid_score</th>\n",
       "    </tr>\n",
       "  </thead>\n",
       "  <tbody>\n",
       "    <tr>\n",
       "      <th>0</th>\n",
       "      <td>default</td>\n",
       "      <td>0.616775</td>\n",
       "      <td>0.639193</td>\n",
       "    </tr>\n",
       "    <tr>\n",
       "      <th>1</th>\n",
       "      <td>day_time + start_hour</td>\n",
       "      <td>0.629702</td>\n",
       "      <td>0.652346</td>\n",
       "    </tr>\n",
       "  </tbody>\n",
       "</table>\n",
       "</div>"
      ],
      "text/plain": [
       "                 feature  train_score  valid_score\n",
       "0                default     0.616775     0.639193\n",
       "1  day_time + start_hour     0.629702     0.652346"
      ]
     },
     "execution_count": 51,
     "metadata": {},
     "output_type": "execute_result"
    }
   ],
   "source": [
    "result"
   ]
  },
  {
   "cell_type": "markdown",
   "metadata": {},
   "source": [
    "__Here we see that the new features also improve the scores. At the same time, we see that the algorithm works less accurate than for 10 users.__"
   ]
  },
  {
   "cell_type": "markdown",
   "metadata": {},
   "source": [
    "### 2.4 Conclusions\n",
    "\n",
    "we conclude that additional features definitely improve the scores, however, the features must be selected carefully and be represntaive which means have different patterns for as many users as possible. Further imporvements can be made by performing a deeper analsysis of features as well as more extensive parameters selection.__"
   ]
  },
  {
   "cell_type": "markdown",
   "metadata": {},
   "source": [
    "# Part 3 - Kaggle competition"
   ]
  },
  {
   "cell_type": "markdown",
   "metadata": {},
   "source": [
    "In this part, we will use the skills, knowledge and the basis of the developed functions for participating in Kaggle competiton. The link to the competition is [here](https://inclass.kaggle.com/c/catch-me-if-you-can-intruder-detection-through-webpage-session-tracking2). The main goal is to identify a specific user, Alice, from the given data. We will use __SGDClassifier__ as a faster alternative of __Linear SVM__ which we used in the previous part."
   ]
  },
  {
   "cell_type": "markdown",
   "metadata": {},
   "source": [
    "### 3.1 Data preprocessing"
   ]
  },
  {
   "cell_type": "markdown",
   "metadata": {},
   "source": [
    "First, we read the data."
   ]
  },
  {
   "cell_type": "code",
   "execution_count": 52,
   "metadata": {},
   "outputs": [],
   "source": [
    "train_df = pd.read_csv(os.path.join(path_to_data, 'train_sessions.csv'),\n",
    "                       index_col='session_id', parse_dates=[0])\n",
    "test_df = pd.read_csv(os.path.join(path_to_data, 'test_sessions.csv'),\n",
    "                      index_col='session_id', parse_dates=[0])"
   ]
  },
  {
   "cell_type": "code",
   "execution_count": 53,
   "metadata": {},
   "outputs": [
    {
     "name": "stdout",
     "output_type": "stream",
     "text": [
      "The shape of the training set is (253561, 21)\n"
     ]
    },
    {
     "data": {
      "text/html": [
       "<div>\n",
       "<style scoped>\n",
       "    .dataframe tbody tr th:only-of-type {\n",
       "        vertical-align: middle;\n",
       "    }\n",
       "\n",
       "    .dataframe tbody tr th {\n",
       "        vertical-align: top;\n",
       "    }\n",
       "\n",
       "    .dataframe thead th {\n",
       "        text-align: right;\n",
       "    }\n",
       "</style>\n",
       "<table border=\"1\" class=\"dataframe\">\n",
       "  <thead>\n",
       "    <tr style=\"text-align: right;\">\n",
       "      <th></th>\n",
       "      <th>site1</th>\n",
       "      <th>time1</th>\n",
       "      <th>site2</th>\n",
       "      <th>time2</th>\n",
       "      <th>site3</th>\n",
       "      <th>time3</th>\n",
       "      <th>site4</th>\n",
       "      <th>time4</th>\n",
       "      <th>site5</th>\n",
       "      <th>time5</th>\n",
       "      <th>...</th>\n",
       "      <th>time6</th>\n",
       "      <th>site7</th>\n",
       "      <th>time7</th>\n",
       "      <th>site8</th>\n",
       "      <th>time8</th>\n",
       "      <th>site9</th>\n",
       "      <th>time9</th>\n",
       "      <th>site10</th>\n",
       "      <th>time10</th>\n",
       "      <th>target</th>\n",
       "    </tr>\n",
       "    <tr>\n",
       "      <th>session_id</th>\n",
       "      <th></th>\n",
       "      <th></th>\n",
       "      <th></th>\n",
       "      <th></th>\n",
       "      <th></th>\n",
       "      <th></th>\n",
       "      <th></th>\n",
       "      <th></th>\n",
       "      <th></th>\n",
       "      <th></th>\n",
       "      <th></th>\n",
       "      <th></th>\n",
       "      <th></th>\n",
       "      <th></th>\n",
       "      <th></th>\n",
       "      <th></th>\n",
       "      <th></th>\n",
       "      <th></th>\n",
       "      <th></th>\n",
       "      <th></th>\n",
       "      <th></th>\n",
       "    </tr>\n",
       "  </thead>\n",
       "  <tbody>\n",
       "    <tr>\n",
       "      <th>1</th>\n",
       "      <td>718</td>\n",
       "      <td>2014-02-20 10:02:45</td>\n",
       "      <td>NaN</td>\n",
       "      <td>NaN</td>\n",
       "      <td>NaN</td>\n",
       "      <td>NaN</td>\n",
       "      <td>NaN</td>\n",
       "      <td>NaN</td>\n",
       "      <td>NaN</td>\n",
       "      <td>NaN</td>\n",
       "      <td>...</td>\n",
       "      <td>NaN</td>\n",
       "      <td>NaN</td>\n",
       "      <td>NaN</td>\n",
       "      <td>NaN</td>\n",
       "      <td>NaN</td>\n",
       "      <td>NaN</td>\n",
       "      <td>NaN</td>\n",
       "      <td>NaN</td>\n",
       "      <td>NaN</td>\n",
       "      <td>0</td>\n",
       "    </tr>\n",
       "    <tr>\n",
       "      <th>2</th>\n",
       "      <td>890</td>\n",
       "      <td>2014-02-22 11:19:50</td>\n",
       "      <td>941.0</td>\n",
       "      <td>2014-02-22 11:19:50</td>\n",
       "      <td>3847.0</td>\n",
       "      <td>2014-02-22 11:19:51</td>\n",
       "      <td>941.0</td>\n",
       "      <td>2014-02-22 11:19:51</td>\n",
       "      <td>942.0</td>\n",
       "      <td>2014-02-22 11:19:51</td>\n",
       "      <td>...</td>\n",
       "      <td>2014-02-22 11:19:51</td>\n",
       "      <td>3847.0</td>\n",
       "      <td>2014-02-22 11:19:52</td>\n",
       "      <td>3846.0</td>\n",
       "      <td>2014-02-22 11:19:52</td>\n",
       "      <td>1516.0</td>\n",
       "      <td>2014-02-22 11:20:15</td>\n",
       "      <td>1518.0</td>\n",
       "      <td>2014-02-22 11:20:16</td>\n",
       "      <td>0</td>\n",
       "    </tr>\n",
       "    <tr>\n",
       "      <th>3</th>\n",
       "      <td>14769</td>\n",
       "      <td>2013-12-16 16:40:17</td>\n",
       "      <td>39.0</td>\n",
       "      <td>2013-12-16 16:40:18</td>\n",
       "      <td>14768.0</td>\n",
       "      <td>2013-12-16 16:40:19</td>\n",
       "      <td>14769.0</td>\n",
       "      <td>2013-12-16 16:40:19</td>\n",
       "      <td>37.0</td>\n",
       "      <td>2013-12-16 16:40:19</td>\n",
       "      <td>...</td>\n",
       "      <td>2013-12-16 16:40:19</td>\n",
       "      <td>14768.0</td>\n",
       "      <td>2013-12-16 16:40:20</td>\n",
       "      <td>14768.0</td>\n",
       "      <td>2013-12-16 16:40:21</td>\n",
       "      <td>14768.0</td>\n",
       "      <td>2013-12-16 16:40:22</td>\n",
       "      <td>14768.0</td>\n",
       "      <td>2013-12-16 16:40:24</td>\n",
       "      <td>0</td>\n",
       "    </tr>\n",
       "    <tr>\n",
       "      <th>4</th>\n",
       "      <td>782</td>\n",
       "      <td>2014-03-28 10:52:12</td>\n",
       "      <td>782.0</td>\n",
       "      <td>2014-03-28 10:52:42</td>\n",
       "      <td>782.0</td>\n",
       "      <td>2014-03-28 10:53:12</td>\n",
       "      <td>782.0</td>\n",
       "      <td>2014-03-28 10:53:42</td>\n",
       "      <td>782.0</td>\n",
       "      <td>2014-03-28 10:54:12</td>\n",
       "      <td>...</td>\n",
       "      <td>2014-03-28 10:54:42</td>\n",
       "      <td>782.0</td>\n",
       "      <td>2014-03-28 10:55:12</td>\n",
       "      <td>782.0</td>\n",
       "      <td>2014-03-28 10:55:42</td>\n",
       "      <td>782.0</td>\n",
       "      <td>2014-03-28 10:56:12</td>\n",
       "      <td>782.0</td>\n",
       "      <td>2014-03-28 10:56:42</td>\n",
       "      <td>0</td>\n",
       "    </tr>\n",
       "    <tr>\n",
       "      <th>5</th>\n",
       "      <td>22</td>\n",
       "      <td>2014-02-28 10:53:05</td>\n",
       "      <td>177.0</td>\n",
       "      <td>2014-02-28 10:55:22</td>\n",
       "      <td>175.0</td>\n",
       "      <td>2014-02-28 10:55:22</td>\n",
       "      <td>178.0</td>\n",
       "      <td>2014-02-28 10:55:23</td>\n",
       "      <td>177.0</td>\n",
       "      <td>2014-02-28 10:55:23</td>\n",
       "      <td>...</td>\n",
       "      <td>2014-02-28 10:55:59</td>\n",
       "      <td>175.0</td>\n",
       "      <td>2014-02-28 10:55:59</td>\n",
       "      <td>177.0</td>\n",
       "      <td>2014-02-28 10:55:59</td>\n",
       "      <td>177.0</td>\n",
       "      <td>2014-02-28 10:57:06</td>\n",
       "      <td>178.0</td>\n",
       "      <td>2014-02-28 10:57:11</td>\n",
       "      <td>0</td>\n",
       "    </tr>\n",
       "  </tbody>\n",
       "</table>\n",
       "<p>5 rows × 21 columns</p>\n",
       "</div>"
      ],
      "text/plain": [
       "            site1                time1  site2                time2    site3  \\\n",
       "session_id                                                                    \n",
       "1             718  2014-02-20 10:02:45    NaN                  NaN      NaN   \n",
       "2             890  2014-02-22 11:19:50  941.0  2014-02-22 11:19:50   3847.0   \n",
       "3           14769  2013-12-16 16:40:17   39.0  2013-12-16 16:40:18  14768.0   \n",
       "4             782  2014-03-28 10:52:12  782.0  2014-03-28 10:52:42    782.0   \n",
       "5              22  2014-02-28 10:53:05  177.0  2014-02-28 10:55:22    175.0   \n",
       "\n",
       "                          time3    site4                time4  site5  \\\n",
       "session_id                                                             \n",
       "1                           NaN      NaN                  NaN    NaN   \n",
       "2           2014-02-22 11:19:51    941.0  2014-02-22 11:19:51  942.0   \n",
       "3           2013-12-16 16:40:19  14769.0  2013-12-16 16:40:19   37.0   \n",
       "4           2014-03-28 10:53:12    782.0  2014-03-28 10:53:42  782.0   \n",
       "5           2014-02-28 10:55:22    178.0  2014-02-28 10:55:23  177.0   \n",
       "\n",
       "                          time5  ...                  time6    site7  \\\n",
       "session_id                       ...                                   \n",
       "1                           NaN  ...                    NaN      NaN   \n",
       "2           2014-02-22 11:19:51  ...    2014-02-22 11:19:51   3847.0   \n",
       "3           2013-12-16 16:40:19  ...    2013-12-16 16:40:19  14768.0   \n",
       "4           2014-03-28 10:54:12  ...    2014-03-28 10:54:42    782.0   \n",
       "5           2014-02-28 10:55:23  ...    2014-02-28 10:55:59    175.0   \n",
       "\n",
       "                          time7    site8                time8    site9  \\\n",
       "session_id                                                               \n",
       "1                           NaN      NaN                  NaN      NaN   \n",
       "2           2014-02-22 11:19:52   3846.0  2014-02-22 11:19:52   1516.0   \n",
       "3           2013-12-16 16:40:20  14768.0  2013-12-16 16:40:21  14768.0   \n",
       "4           2014-03-28 10:55:12    782.0  2014-03-28 10:55:42    782.0   \n",
       "5           2014-02-28 10:55:59    177.0  2014-02-28 10:55:59    177.0   \n",
       "\n",
       "                          time9   site10               time10 target  \n",
       "session_id                                                            \n",
       "1                           NaN      NaN                  NaN      0  \n",
       "2           2014-02-22 11:20:15   1518.0  2014-02-22 11:20:16      0  \n",
       "3           2013-12-16 16:40:22  14768.0  2013-12-16 16:40:24      0  \n",
       "4           2014-03-28 10:56:12    782.0  2014-03-28 10:56:42      0  \n",
       "5           2014-02-28 10:57:06    178.0  2014-02-28 10:57:11      0  \n",
       "\n",
       "[5 rows x 21 columns]"
      ]
     },
     "execution_count": 53,
     "metadata": {},
     "output_type": "execute_result"
    }
   ],
   "source": [
    "print 'The shape of the training set is', train_df.shape\n",
    "train_df.head()"
   ]
  },
  {
   "cell_type": "markdown",
   "metadata": {},
   "source": [
    "For making the total sparce matrix, we merge the training and test matricies."
   ]
  },
  {
   "cell_type": "code",
   "execution_count": 54,
   "metadata": {},
   "outputs": [],
   "source": [
    "train_test_df = pd.concat([train_df, test_df])"
   ]
  },
  {
   "cell_type": "markdown",
   "metadata": {},
   "source": [
    "Also, we look at the target class staistics."
   ]
  },
  {
   "cell_type": "code",
   "execution_count": 55,
   "metadata": {},
   "outputs": [
    {
     "data": {
      "text/plain": [
       "0    251264\n",
       "1      2297\n",
       "Name: target, dtype: int64"
      ]
     },
     "execution_count": 55,
     "metadata": {},
     "output_type": "execute_result"
    }
   ],
   "source": [
    "train_df['target'].value_counts()"
   ]
  },
  {
   "cell_type": "markdown",
   "metadata": {},
   "source": [
    "From this we see highly imbalanced classes, so the accuracy metric may be not be very representative in this case."
   ]
  },
  {
   "cell_type": "markdown",
   "metadata": {},
   "source": [
    "For initial model training, we make the fill the __Na__ values with zeros, make the sparce matrix and then split into training and test parts."
   ]
  },
  {
   "cell_type": "code",
   "execution_count": 56,
   "metadata": {},
   "outputs": [],
   "source": [
    "train_test_df_sites = train_test_df[['site%d' % i for i in range(1, 11)]].fillna(0).astype('int')"
   ]
  },
  {
   "cell_type": "code",
   "execution_count": 57,
   "metadata": {},
   "outputs": [
    {
     "name": "stdout",
     "output_type": "stream",
     "text": [
      "Wall time: 2.22 s\n"
     ]
    }
   ],
   "source": [
    "%%time\n",
    "train_test_sparse = make_sparse(train_test_df_sites)\n",
    "X_train_sparse = train_test_sparse[:train_df.shape[0], :]\n",
    "X_test_sparse = train_test_sparse[train_df.shape[0]:, :]\n",
    "y = train_df['target']"
   ]
  },
  {
   "cell_type": "markdown",
   "metadata": {},
   "source": [
    "Split the training matrix intro the training and valiadation parts."
   ]
  },
  {
   "cell_type": "code",
   "execution_count": 58,
   "metadata": {},
   "outputs": [],
   "source": [
    "train_share = int(.7 * X_train_sparse.shape[0])\n",
    "X_train, y_train = X_train_sparse[:train_share, :], y[:train_share]\n",
    "X_valid, y_valid  = X_train_sparse[train_share:, :], y[train_share:]"
   ]
  },
  {
   "cell_type": "markdown",
   "metadata": {},
   "source": [
    "### 3.2 Default model training"
   ]
  },
  {
   "cell_type": "markdown",
   "metadata": {},
   "source": [
    "__First, we train SGDClassifier with logistic loss function to see the \"default\" score we can add without adding any other features__"
   ]
  },
  {
   "cell_type": "code",
   "execution_count": 61,
   "metadata": {},
   "outputs": [
    {
     "name": "stdout",
     "output_type": "stream",
     "text": [
      "Wall time: 251 ms\n"
     ]
    }
   ],
   "source": [
    "%%time\n",
    "sgd_logit = SGDClassifier(loss = 'log', random_state=17, n_jobs = -1)\n",
    "sgd_logit.fit(X_train, y_train)"
   ]
  },
  {
   "cell_type": "markdown",
   "metadata": {},
   "source": [
    "Let's check the ROC AUC scores in the validation sample."
   ]
  },
  {
   "cell_type": "code",
   "execution_count": 64,
   "metadata": {},
   "outputs": [
    {
     "data": {
      "text/plain": [
       "0.933847286790615"
      ]
     },
     "execution_count": 64,
     "metadata": {},
     "output_type": "execute_result"
    }
   ],
   "source": [
    "logit_valid_pred_proba = sgd_logit.predict_proba(X_valid)\n",
    "roc_auc_score(y_valid,logit_valid_pred_proba[:,1])"
   ]
  },
  {
   "cell_type": "markdown",
   "metadata": {},
   "source": [
    "These prediction give us __0.91273__ score on Kaggle. We will use this as the default barrier which we want to beat."
   ]
  },
  {
   "cell_type": "markdown",
   "metadata": {},
   "source": [
    "### 3.2 Additional feature extraction"
   ]
  },
  {
   "cell_type": "markdown",
   "metadata": {},
   "source": [
    "We will exctract the features which we used before in the analysis to compare if they make any sense in this data set. Since the form of the data is different as we had before, a new function is developed named __features_extraction__ __(Appendix C)__ to discover the features from the given data set."
   ]
  },
  {
   "cell_type": "markdown",
   "metadata": {},
   "source": [
    "Before that, we make a dictionary of the sits with its number and frequency for the given data set."
   ]
  },
  {
   "cell_type": "code",
   "execution_count": 66,
   "metadata": {},
   "outputs": [
    {
     "name": "stdout",
     "output_type": "stream",
     "text": [
      "Wall time: 18.1 s\n"
     ]
    }
   ],
   "source": [
    "%%time\n",
    "data_sites = train_test_df[['site%d' % i for i in range(1, 11)]].fillna(0).astype('int')\n",
    "all_sites = []\n",
    "for i, row in data_sites.iterrows():\n",
    "    for site in row:\n",
    "        if site == 0:\n",
    "            pass\n",
    "        else:\n",
    "            all_sites.append(site)\n",
    "sites_dict = Counter(all_sites)"
   ]
  },
  {
   "cell_type": "code",
   "execution_count": 80,
   "metadata": {},
   "outputs": [
    {
     "name": "stdout",
     "output_type": "stream",
     "text": [
      "Wall time: 21.1 s\n"
     ]
    }
   ],
   "source": [
    "%%time\n",
    "feats = features_extraction(train_df)"
   ]
  },
  {
   "cell_type": "markdown",
   "metadata": {},
   "source": [
    "We merge the data and obtained features in one data frame."
   ]
  },
  {
   "cell_type": "code",
   "execution_count": 81,
   "metadata": {},
   "outputs": [
    {
     "data": {
      "text/html": [
       "<div>\n",
       "<style scoped>\n",
       "    .dataframe tbody tr th:only-of-type {\n",
       "        vertical-align: middle;\n",
       "    }\n",
       "\n",
       "    .dataframe tbody tr th {\n",
       "        vertical-align: top;\n",
       "    }\n",
       "\n",
       "    .dataframe thead th {\n",
       "        text-align: right;\n",
       "    }\n",
       "</style>\n",
       "<table border=\"1\" class=\"dataframe\">\n",
       "  <thead>\n",
       "    <tr style=\"text-align: right;\">\n",
       "      <th></th>\n",
       "      <th>site1</th>\n",
       "      <th>site2</th>\n",
       "      <th>site3</th>\n",
       "      <th>site4</th>\n",
       "      <th>site5</th>\n",
       "      <th>site6</th>\n",
       "      <th>site7</th>\n",
       "      <th>site8</th>\n",
       "      <th>site9</th>\n",
       "      <th>site10</th>\n",
       "      <th>week_day</th>\n",
       "      <th>start_hour</th>\n",
       "      <th>day_time</th>\n",
       "      <th>unique_sites</th>\n",
       "      <th>total_min_diff</th>\n",
       "      <th>month_array</th>\n",
       "      <th>target</th>\n",
       "    </tr>\n",
       "  </thead>\n",
       "  <tbody>\n",
       "    <tr>\n",
       "      <th>0</th>\n",
       "      <td>718</td>\n",
       "      <td>0</td>\n",
       "      <td>0</td>\n",
       "      <td>0</td>\n",
       "      <td>0</td>\n",
       "      <td>0</td>\n",
       "      <td>0</td>\n",
       "      <td>0</td>\n",
       "      <td>0</td>\n",
       "      <td>0</td>\n",
       "      <td>3</td>\n",
       "      <td>10</td>\n",
       "      <td>0</td>\n",
       "      <td>1</td>\n",
       "      <td>30</td>\n",
       "      <td>2</td>\n",
       "      <td>0</td>\n",
       "    </tr>\n",
       "    <tr>\n",
       "      <th>1</th>\n",
       "      <td>890</td>\n",
       "      <td>941</td>\n",
       "      <td>3847</td>\n",
       "      <td>941</td>\n",
       "      <td>942</td>\n",
       "      <td>3846</td>\n",
       "      <td>3847</td>\n",
       "      <td>3846</td>\n",
       "      <td>1516</td>\n",
       "      <td>1518</td>\n",
       "      <td>5</td>\n",
       "      <td>11</td>\n",
       "      <td>0</td>\n",
       "      <td>7</td>\n",
       "      <td>1</td>\n",
       "      <td>2</td>\n",
       "      <td>0</td>\n",
       "    </tr>\n",
       "    <tr>\n",
       "      <th>2</th>\n",
       "      <td>14769</td>\n",
       "      <td>39</td>\n",
       "      <td>14768</td>\n",
       "      <td>14769</td>\n",
       "      <td>37</td>\n",
       "      <td>39</td>\n",
       "      <td>14768</td>\n",
       "      <td>14768</td>\n",
       "      <td>14768</td>\n",
       "      <td>14768</td>\n",
       "      <td>0</td>\n",
       "      <td>16</td>\n",
       "      <td>1</td>\n",
       "      <td>4</td>\n",
       "      <td>0</td>\n",
       "      <td>12</td>\n",
       "      <td>0</td>\n",
       "    </tr>\n",
       "    <tr>\n",
       "      <th>3</th>\n",
       "      <td>782</td>\n",
       "      <td>782</td>\n",
       "      <td>782</td>\n",
       "      <td>782</td>\n",
       "      <td>782</td>\n",
       "      <td>782</td>\n",
       "      <td>782</td>\n",
       "      <td>782</td>\n",
       "      <td>782</td>\n",
       "      <td>782</td>\n",
       "      <td>4</td>\n",
       "      <td>10</td>\n",
       "      <td>0</td>\n",
       "      <td>1</td>\n",
       "      <td>4</td>\n",
       "      <td>3</td>\n",
       "      <td>0</td>\n",
       "    </tr>\n",
       "    <tr>\n",
       "      <th>4</th>\n",
       "      <td>22</td>\n",
       "      <td>177</td>\n",
       "      <td>175</td>\n",
       "      <td>178</td>\n",
       "      <td>177</td>\n",
       "      <td>178</td>\n",
       "      <td>175</td>\n",
       "      <td>177</td>\n",
       "      <td>177</td>\n",
       "      <td>178</td>\n",
       "      <td>4</td>\n",
       "      <td>10</td>\n",
       "      <td>0</td>\n",
       "      <td>4</td>\n",
       "      <td>4</td>\n",
       "      <td>2</td>\n",
       "      <td>0</td>\n",
       "    </tr>\n",
       "  </tbody>\n",
       "</table>\n",
       "</div>"
      ],
      "text/plain": [
       "   site1  site2  site3  site4  site5  site6  site7  site8  site9  site10  \\\n",
       "0    718      0      0      0      0      0      0      0      0       0   \n",
       "1    890    941   3847    941    942   3846   3847   3846   1516    1518   \n",
       "2  14769     39  14768  14769     37     39  14768  14768  14768   14768   \n",
       "3    782    782    782    782    782    782    782    782    782     782   \n",
       "4     22    177    175    178    177    178    175    177    177     178   \n",
       "\n",
       "   week_day  start_hour  day_time  unique_sites  total_min_diff  month_array  \\\n",
       "0         3          10         0             1              30            2   \n",
       "1         5          11         0             7               1            2   \n",
       "2         0          16         1             4               0           12   \n",
       "3         4          10         0             1               4            3   \n",
       "4         4          10         0             4               4            2   \n",
       "\n",
       "   target  \n",
       "0       0  \n",
       "1       0  \n",
       "2       0  \n",
       "3       0  \n",
       "4       0  "
      ]
     },
     "execution_count": 81,
     "metadata": {},
     "output_type": "execute_result"
    }
   ],
   "source": [
    "data_sites = train_df[['site%d' % i for i in range(1, 11)]].fillna(0).astype('int')\n",
    "data_sites.index = range(0, 253561)\n",
    "target = train_df['target']\n",
    "target.index = range(0, 253561)\n",
    "total_data = pd.concat([data_sites, feats, target], axis = 1)\n",
    "total_data.head()"
   ]
  },
  {
   "cell_type": "markdown",
   "metadata": {},
   "source": [
    "As we can see, we also added __total_min_diff__ which denotes the total minutes spent for the session. For visual analysis, we split the data into Alice and Non-Alice parts."
   ]
  },
  {
   "cell_type": "code",
   "execution_count": 82,
   "metadata": {},
   "outputs": [],
   "source": [
    "alice_data = total_data[total_data['target'] == 1]\n",
    "non_alice_data = total_data[total_data['target'] == 0]"
   ]
  },
  {
   "cell_type": "markdown",
   "metadata": {},
   "source": [
    "__Let's plot the features. First feature is week day__."
   ]
  },
  {
   "cell_type": "code",
   "execution_count": 83,
   "metadata": {},
   "outputs": [
    {
     "data": {
      "image/png": "[encoded data removed]",
      "text/plain": [
       "<Figure size 432x288 with 2 Axes>"
      ]
     },
     "metadata": {},
     "output_type": "display_data"
    }
   ],
   "source": [
    "plt.subplot(1,2,1)\n",
    "plt.hist(alice_data['week_day'])\n",
    "plt.subplot(1,2,2)\n",
    "plt.hist(non_alice_data['week_day'])\n",
    "plt.tight_layout()"
   ]
  },
  {
   "cell_type": "markdown",
   "metadata": {},
   "source": [
    "__Next is starting hour__"
   ]
  },
  {
   "cell_type": "code",
   "execution_count": 84,
   "metadata": {},
   "outputs": [
    {
     "data": {
      "image/png": "[encoded data removed]",
      "text/plain": [
       "<Figure size 432x288 with 2 Axes>"
      ]
     },
     "metadata": {},
     "output_type": "display_data"
    }
   ],
   "source": [
    "plt.subplot(1,2,1)\n",
    "plt.hist(alice_data['start_hour'])\n",
    "plt.subplot(1,2,2)\n",
    "plt.hist(non_alice_data['start_hour'])\n",
    "plt.tight_layout()"
   ]
  },
  {
   "cell_type": "markdown",
   "metadata": {},
   "source": [
    "__Unique web-sites__"
   ]
  },
  {
   "cell_type": "code",
   "execution_count": 85,
   "metadata": {},
   "outputs": [
    {
     "data": {
      "image/png": "[encoded data removed]",
      "text/plain": [
       "<Figure size 432x288 with 2 Axes>"
      ]
     },
     "metadata": {},
     "output_type": "display_data"
    }
   ],
   "source": [
    "plt.subplot(1,2,1)\n",
    "plt.hist(alice_data['unique_sites'])\n",
    "plt.subplot(1,2,2)\n",
    "plt.hist(non_alice_data['unique_sites'])\n",
    "plt.tight_layout()"
   ]
  },
  {
   "cell_type": "markdown",
   "metadata": {},
   "source": [
    "__Day_time__"
   ]
  },
  {
   "cell_type": "code",
   "execution_count": 86,
   "metadata": {},
   "outputs": [
    {
     "data": {
      "image/png": "[encoded data removed]",
      "text/plain": [
       "<Figure size 432x288 with 2 Axes>"
      ]
     },
     "metadata": {},
     "output_type": "display_data"
    }
   ],
   "source": [
    "plt.subplot(1,2,1)\n",
    "plt.hist(alice_data['day_time'])\n",
    "plt.subplot(1,2,2)\n",
    "plt.hist(non_alice_data['day_time'])\n",
    "plt.tight_layout()"
   ]
  },
  {
   "cell_type": "markdown",
   "metadata": {},
   "source": [
    "__Total minutes difference__"
   ]
  },
  {
   "cell_type": "code",
   "execution_count": 87,
   "metadata": {},
   "outputs": [
    {
     "data": {
      "image/png": "[encoded data removed]",
      "text/plain": [
       "<Figure size 432x288 with 2 Axes>"
      ]
     },
     "metadata": {},
     "output_type": "display_data"
    }
   ],
   "source": [
    "plt.subplot(1,2,1)\n",
    "plt.hist(alice_data[alice_data['total_min_diff'] < 50]['total_min_diff'])\n",
    "plt.subplot(1,2,2)\n",
    "plt.hist(non_alice_data[non_alice_data['total_min_diff'] < 50]['total_min_diff'])\n",
    "plt.tight_layout()"
   ]
  },
  {
   "cell_type": "markdown",
   "metadata": {},
   "source": [
    "__Starting month__"
   ]
  },
  {
   "cell_type": "code",
   "execution_count": 88,
   "metadata": {},
   "outputs": [
    {
     "data": {
      "image/png": "[encoded data removed]",
      "text/plain": [
       "<Figure size 432x288 with 2 Axes>"
      ]
     },
     "metadata": {},
     "output_type": "display_data"
    }
   ],
   "source": [
    "plt.subplot(1,2,1)\n",
    "plt.hist(alice_data['month_array'], bins = 12)\n",
    "plt.subplot(1,2,2)\n",
    "plt.hist(non_alice_data['month_array'], bins = 12)\n",
    "plt.tight_layout()"
   ]
  },
  {
   "cell_type": "markdown",
   "metadata": {},
   "source": [
    "__Discussion__\n",
    "\n",
    "From the analysis, we can see that potentially __start_hour__ and __day_of_week__ can be useful features because we can see quite different patterns for Alice and Non-Alice users. Let's train the algorithm for each additonal feature and see if the hypothesis is correct and we get any help from the additonal features."
   ]
  },
  {
   "cell_type": "code",
   "execution_count": 89,
   "metadata": {},
   "outputs": [],
   "source": [
    "feats = features_extraction(train_test_df)"
   ]
  },
  {
   "cell_type": "code",
   "execution_count": 97,
   "metadata": {},
   "outputs": [
    {
     "name": "stdout",
     "output_type": "stream",
     "text": [
      "Wall time: 2.3 s\n"
     ]
    }
   ],
   "source": [
    "%%time\n",
    "\n",
    "auc_score = [0.934]\n",
    "feature = ['default']\n",
    "\n",
    "\n",
    "for column in feats:\n",
    "    feature.append(column)\n",
    "    sparce_column = csr_matrix(np.array(feats[column]).reshape((feats.shape[0],1)))\n",
    "    X_total = sp.hstack((train_test_sparse, sparce_column))\n",
    "    X_total = csr_matrix(X_total)\n",
    "    X_train_sparse = X_total[:train_df.shape[0], :]\n",
    "    X_test_sparse = X_total[train_df.shape[0]:, :]\n",
    "    y = train_df['target']\n",
    "    train_share = int(.7 * X_train_sparse.shape[0])\n",
    "    X_train, y_train = X_train_sparse[:train_share, :], y[:train_share]\n",
    "    X_valid, y_valid  = X_train_sparse[train_share:, :], y[train_share:]\n",
    "    \n",
    "    #Training\n",
    "    sgd_logit = SGDClassifier(loss = 'log', learning_rate='optimal', random_state=17, n_jobs = -1)\n",
    "    sgd_logit.fit(X_train, y_train)\n",
    "    logit_valid_pred_proba = sgd_logit.predict_proba(X_valid)\n",
    "    auc_score.append(roc_auc_score(y_valid, logit_valid_pred_proba[:,1]))\n",
    "\n",
    "\n",
    "auc_score = pd.DataFrame(auc_score)\n",
    "feature = pd.DataFrame(feature)\n",
    "\n",
    "result = pd.concat([feature, auc_score], axis = 1)\n",
    "result.columns = ['feature', 'auc_score']"
   ]
  },
  {
   "cell_type": "code",
   "execution_count": 98,
   "metadata": {},
   "outputs": [
    {
     "data": {
      "text/html": [
       "<div>\n",
       "<style scoped>\n",
       "    .dataframe tbody tr th:only-of-type {\n",
       "        vertical-align: middle;\n",
       "    }\n",
       "\n",
       "    .dataframe tbody tr th {\n",
       "        vertical-align: top;\n",
       "    }\n",
       "\n",
       "    .dataframe thead th {\n",
       "        text-align: right;\n",
       "    }\n",
       "</style>\n",
       "<table border=\"1\" class=\"dataframe\">\n",
       "  <thead>\n",
       "    <tr style=\"text-align: right;\">\n",
       "      <th></th>\n",
       "      <th>feature</th>\n",
       "      <th>auc_score</th>\n",
       "    </tr>\n",
       "  </thead>\n",
       "  <tbody>\n",
       "    <tr>\n",
       "      <th>0</th>\n",
       "      <td>default</td>\n",
       "      <td>0.934000</td>\n",
       "    </tr>\n",
       "    <tr>\n",
       "      <th>1</th>\n",
       "      <td>week_day</td>\n",
       "      <td>0.924717</td>\n",
       "    </tr>\n",
       "    <tr>\n",
       "      <th>2</th>\n",
       "      <td>start_hour</td>\n",
       "      <td>0.890104</td>\n",
       "    </tr>\n",
       "    <tr>\n",
       "      <th>3</th>\n",
       "      <td>day_time</td>\n",
       "      <td>0.936187</td>\n",
       "    </tr>\n",
       "    <tr>\n",
       "      <th>4</th>\n",
       "      <td>unique_sites</td>\n",
       "      <td>0.921548</td>\n",
       "    </tr>\n",
       "    <tr>\n",
       "      <th>5</th>\n",
       "      <td>total_min_diff</td>\n",
       "      <td>0.919726</td>\n",
       "    </tr>\n",
       "    <tr>\n",
       "      <th>6</th>\n",
       "      <td>month_array</td>\n",
       "      <td>0.921540</td>\n",
       "    </tr>\n",
       "  </tbody>\n",
       "</table>\n",
       "</div>"
      ],
      "text/plain": [
       "          feature  auc_score\n",
       "0         default   0.934000\n",
       "1        week_day   0.924717\n",
       "2      start_hour   0.890104\n",
       "3        day_time   0.936187\n",
       "4    unique_sites   0.921548\n",
       "5  total_min_diff   0.919726\n",
       "6     month_array   0.921540"
      ]
     },
     "execution_count": 98,
     "metadata": {},
     "output_type": "execute_result"
    }
   ],
   "source": [
    "result"
   ]
  },
  {
   "cell_type": "markdown",
   "metadata": {},
   "source": [
    "From the result we see that only __day_time__ feature improves the score. The second best is __week_day__. Let's check how these two perform together."
   ]
  },
  {
   "cell_type": "code",
   "execution_count": 99,
   "metadata": {},
   "outputs": [
    {
     "name": "stdout",
     "output_type": "stream",
     "text": [
      "Wall time: 421 ms\n"
     ]
    }
   ],
   "source": [
    "%%time\n",
    "\n",
    "auc_score = [0.934]\n",
    "feature = ['default','day_time + week_day']\n",
    "\n",
    "sparce_column = csr_matrix(np.array(feats[['day_time', 'week_day']]).reshape((feats.shape[0], 2)))\n",
    "X_total = sp.hstack((train_test_sparse, sparce_column))\n",
    "X_total = csr_matrix(X_total)\n",
    "X_train_sparse = X_total[:train_df.shape[0], :]\n",
    "X_test_sparse = X_total[train_df.shape[0]:, :]\n",
    "y = train_df['target']\n",
    "train_share = int(.7 * X_train_sparse.shape[0])\n",
    "X_train, y_train = X_train_sparse[:train_share, :], y[:train_share]\n",
    "X_valid, y_valid  = X_train_sparse[train_share:, :], y[train_share:]\n",
    "    \n",
    "#Training\n",
    "sgd_logit = SGDClassifier(loss = 'log', learning_rate='optimal', random_state=17, n_jobs = -1)\n",
    "sgd_logit.fit(X_train, y_train)\n",
    "logit_valid_pred_proba = sgd_logit.predict_proba(X_valid)\n",
    "auc_score.append(roc_auc_score(y_valid, logit_valid_pred_proba[:,1]))\n",
    "\n",
    "\n",
    "auc_score = pd.DataFrame(auc_score)\n",
    "feature = pd.DataFrame(feature)\n",
    "\n",
    "result = pd.concat([feature, auc_score], axis = 1)\n",
    "result.columns = ['feature', 'auc_score']"
   ]
  },
  {
   "cell_type": "code",
   "execution_count": 100,
   "metadata": {},
   "outputs": [
    {
     "data": {
      "text/html": [
       "<div>\n",
       "<style scoped>\n",
       "    .dataframe tbody tr th:only-of-type {\n",
       "        vertical-align: middle;\n",
       "    }\n",
       "\n",
       "    .dataframe tbody tr th {\n",
       "        vertical-align: top;\n",
       "    }\n",
       "\n",
       "    .dataframe thead th {\n",
       "        text-align: right;\n",
       "    }\n",
       "</style>\n",
       "<table border=\"1\" class=\"dataframe\">\n",
       "  <thead>\n",
       "    <tr style=\"text-align: right;\">\n",
       "      <th></th>\n",
       "      <th>feature</th>\n",
       "      <th>auc_score</th>\n",
       "    </tr>\n",
       "  </thead>\n",
       "  <tbody>\n",
       "    <tr>\n",
       "      <th>0</th>\n",
       "      <td>default</td>\n",
       "      <td>0.934000</td>\n",
       "    </tr>\n",
       "    <tr>\n",
       "      <th>1</th>\n",
       "      <td>day_time + week_day</td>\n",
       "      <td>0.924463</td>\n",
       "    </tr>\n",
       "  </tbody>\n",
       "</table>\n",
       "</div>"
      ],
      "text/plain": [
       "               feature  auc_score\n",
       "0              default   0.934000\n",
       "1  day_time + week_day   0.924463"
      ]
     },
     "execution_count": 100,
     "metadata": {},
     "output_type": "execute_result"
    }
   ],
   "source": [
    "result"
   ]
  },
  {
   "cell_type": "markdown",
   "metadata": {},
   "source": [
    "We see that the combination does not improve the core for the validation sample, but we will keep it for the submission to checkif this is correct."
   ]
  },
  {
   "cell_type": "markdown",
   "metadata": {},
   "source": [
    "The next step is to try finding a better hyperparametre, for example, __alpha__. We will do it with __GridSearch__ method."
   ]
  },
  {
   "cell_type": "code",
   "execution_count": 102,
   "metadata": {},
   "outputs": [
    {
     "name": "stdout",
     "output_type": "stream",
     "text": [
      "Wall time: 1min 36s\n"
     ]
    }
   ],
   "source": [
    "%%time\n",
    "alphas = {'alpha': np.linspace(0.00001, 0.0001, 100)}\n",
    "sgd_logit = SGDClassifier(loss = 'log', random_state=17, n_jobs = -1)\n",
    "svm_grid_searcher2 = GridSearchCV(sgd_logit ,param_grid = alphas)\n",
    "svm_grid_searcher2.fit(X_train_sparse, y)"
   ]
  },
  {
   "cell_type": "code",
   "execution_count": 103,
   "metadata": {},
   "outputs": [
    {
     "data": {
      "text/plain": [
       "{'alpha': 4e-05}"
      ]
     },
     "execution_count": 103,
     "metadata": {},
     "output_type": "execute_result"
    }
   ],
   "source": [
    "svm_grid_searcher2.best_params_"
   ]
  },
  {
   "cell_type": "markdown",
   "metadata": {},
   "source": [
    "Let's test the best parameter for two cases: with __day_time__ feature and __day_time + week_day__"
   ]
  },
  {
   "cell_type": "code",
   "execution_count": 108,
   "metadata": {},
   "outputs": [
    {
     "name": "stdout",
     "output_type": "stream",
     "text": [
      "Wall time: 369 ms\n"
     ]
    }
   ],
   "source": [
    "%%time\n",
    "\n",
    "auc_score = [0.934]\n",
    "feature = ['default','day_time']\n",
    "\n",
    "sparce_column = csr_matrix(np.array(feats[['day_time']]).reshape((feats.shape[0], 1)))\n",
    "X_total = sp.hstack((train_test_sparse, sparce_column))\n",
    "X_total = csr_matrix(X_total)\n",
    "X_train_sparse = X_total[:train_df.shape[0], :]\n",
    "X_test_sparse = X_total[train_df.shape[0]:, :]\n",
    "y = train_df['target']\n",
    "train_share = int(.7 * X_train_sparse.shape[0])\n",
    "X_train, y_train = X_train_sparse[:train_share, :], y[:train_share]\n",
    "X_valid, y_valid  = X_train_sparse[train_share:, :], y[train_share:]\n",
    "    \n",
    "#Training\n",
    "sgd_logit = SGDClassifier(loss = 'log', learning_rate='optimal', random_state=17, n_jobs = -1, alpha = 4e-05)\n",
    "sgd_logit.fit(X_train, y_train)\n",
    "logit_valid_pred_proba = sgd_logit.predict_proba(X_valid)\n",
    "auc_score.append(roc_auc_score(y_valid, logit_valid_pred_proba[:,1]))\n",
    "\n",
    "\n",
    "auc_score = pd.DataFrame(auc_score)\n",
    "feature = pd.DataFrame(feature)\n",
    "\n",
    "result = pd.concat([feature, auc_score], axis = 1)\n",
    "result.columns = ['feature', 'auc_score']"
   ]
  },
  {
   "cell_type": "code",
   "execution_count": 105,
   "metadata": {},
   "outputs": [
    {
     "data": {
      "text/html": [
       "<div>\n",
       "<style scoped>\n",
       "    .dataframe tbody tr th:only-of-type {\n",
       "        vertical-align: middle;\n",
       "    }\n",
       "\n",
       "    .dataframe tbody tr th {\n",
       "        vertical-align: top;\n",
       "    }\n",
       "\n",
       "    .dataframe thead th {\n",
       "        text-align: right;\n",
       "    }\n",
       "</style>\n",
       "<table border=\"1\" class=\"dataframe\">\n",
       "  <thead>\n",
       "    <tr style=\"text-align: right;\">\n",
       "      <th></th>\n",
       "      <th>feature</th>\n",
       "      <th>auc_score</th>\n",
       "    </tr>\n",
       "  </thead>\n",
       "  <tbody>\n",
       "    <tr>\n",
       "      <th>0</th>\n",
       "      <td>default</td>\n",
       "      <td>0.934000</td>\n",
       "    </tr>\n",
       "    <tr>\n",
       "      <th>1</th>\n",
       "      <td>day_time</td>\n",
       "      <td>0.949478</td>\n",
       "    </tr>\n",
       "  </tbody>\n",
       "</table>\n",
       "</div>"
      ],
      "text/plain": [
       "    feature  auc_score\n",
       "0   default   0.934000\n",
       "1  day_time   0.949478"
      ]
     },
     "execution_count": 105,
     "metadata": {},
     "output_type": "execute_result"
    }
   ],
   "source": [
    "result"
   ]
  },
  {
   "cell_type": "code",
   "execution_count": 106,
   "metadata": {},
   "outputs": [
    {
     "name": "stdout",
     "output_type": "stream",
     "text": [
      "Wall time: 422 ms\n"
     ]
    }
   ],
   "source": [
    "%%time\n",
    "\n",
    "auc_score = [0.934]\n",
    "feature = ['default','day_time + week_day']\n",
    "\n",
    "sparce_column = csr_matrix(np.array(feats[['day_time', 'week_day']]).reshape((feats.shape[0], 2)))\n",
    "X_total = sp.hstack((train_test_sparse, sparce_column))\n",
    "X_total = csr_matrix(X_total)\n",
    "X_train_sparse = X_total[:train_df.shape[0], :]\n",
    "X_test_sparse = X_total[train_df.shape[0]:, :]\n",
    "y = train_df['target']\n",
    "train_share = int(.7 * X_train_sparse.shape[0])\n",
    "X_train, y_train = X_train_sparse[:train_share, :], y[:train_share]\n",
    "X_valid, y_valid  = X_train_sparse[train_share:, :], y[train_share:]\n",
    "    \n",
    "#Training\n",
    "sgd_logit = SGDClassifier(loss = 'log', learning_rate='optimal', random_state=17, n_jobs = -1, alpha = 4e-05)\n",
    "sgd_logit.fit(X_train, y_train)\n",
    "logit_valid_pred_proba = sgd_logit.predict_proba(X_valid)\n",
    "auc_score.append(roc_auc_score(y_valid, logit_valid_pred_proba[:,1]))\n",
    "\n",
    "\n",
    "auc_score = pd.DataFrame(auc_score)\n",
    "feature = pd.DataFrame(feature)\n",
    "\n",
    "result = pd.concat([feature, auc_score], axis = 1)\n",
    "result.columns = ['feature', 'auc_score']"
   ]
  },
  {
   "cell_type": "code",
   "execution_count": 107,
   "metadata": {},
   "outputs": [
    {
     "data": {
      "text/html": [
       "<div>\n",
       "<style scoped>\n",
       "    .dataframe tbody tr th:only-of-type {\n",
       "        vertical-align: middle;\n",
       "    }\n",
       "\n",
       "    .dataframe tbody tr th {\n",
       "        vertical-align: top;\n",
       "    }\n",
       "\n",
       "    .dataframe thead th {\n",
       "        text-align: right;\n",
       "    }\n",
       "</style>\n",
       "<table border=\"1\" class=\"dataframe\">\n",
       "  <thead>\n",
       "    <tr style=\"text-align: right;\">\n",
       "      <th></th>\n",
       "      <th>feature</th>\n",
       "      <th>auc_score</th>\n",
       "    </tr>\n",
       "  </thead>\n",
       "  <tbody>\n",
       "    <tr>\n",
       "      <th>0</th>\n",
       "      <td>default</td>\n",
       "      <td>0.934000</td>\n",
       "    </tr>\n",
       "    <tr>\n",
       "      <th>1</th>\n",
       "      <td>day_time + week_day</td>\n",
       "      <td>0.947922</td>\n",
       "    </tr>\n",
       "  </tbody>\n",
       "</table>\n",
       "</div>"
      ],
      "text/plain": [
       "               feature  auc_score\n",
       "0              default   0.934000\n",
       "1  day_time + week_day   0.947922"
      ]
     },
     "execution_count": 107,
     "metadata": {},
     "output_type": "execute_result"
    }
   ],
   "source": [
    "result"
   ]
  },
  {
   "cell_type": "markdown",
   "metadata": {},
   "source": [
    "__We see that tuning alpha significantly improved the results. When the predictions for these two cases are submitted, the following scores are obtained__\n",
    "\n",
    " - default  + day_time: __0.91520__ \n",
    " - default + day_time + week_day: __0.93124__"
   ]
  },
  {
   "cell_type": "markdown",
   "metadata": {},
   "source": [
    "__As we can see, on the test set, two features performed better even though on the validation set, one additional feature was preferable.__"
   ]
  },
  {
   "cell_type": "markdown",
   "metadata": {},
   "source": [
    "### 3.4 Conclusions"
   ]
  },
  {
   "cell_type": "markdown",
   "metadata": {},
   "source": [
    "We participated in Kaggle competion on identifying a user based on the given data about the web-sites and time stamps. First, SGDClassifer was fitted with defaiult settings and site features. Afterwards, seprate features were added to the training set and tested. Also, hyperparameter searched was perfromed. As the result, the default score was overperformed and the final score is __0.93124__. This can be found under the name __[YDF & MIPT] Timur Bikmukhametov__ on the leaderboard."
   ]
  },
  {
   "cell_type": "markdown",
   "metadata": {},
   "source": [
    "# Part 4 - Vowpal Wabbit application"
   ]
  },
  {
   "cell_type": "markdown",
   "metadata": {},
   "source": [
    "In this part, we will apply Vowpal Wabbit library for user identification based on another Kaggle competition which you can find [here](https://inclass.kaggle.com/c/identify-me-if-you-can4/data)."
   ]
  },
  {
   "cell_type": "markdown",
   "metadata": {},
   "source": [
    "### 4.1 Data preprocessing"
   ]
  },
  {
   "cell_type": "markdown",
   "metadata": {},
   "source": [
    "First, we download the data."
   ]
  },
  {
   "cell_type": "code",
   "execution_count": 116,
   "metadata": {},
   "outputs": [],
   "source": [
    "train_df_400 = pd.read_csv(os.path.join(path_to_data,'train_sessions_400users.csv'), \n",
    "                           index_col='session_id')"
   ]
  },
  {
   "cell_type": "code",
   "execution_count": 117,
   "metadata": {},
   "outputs": [],
   "source": [
    "test_df_400 = pd.read_csv(os.path.join(path_to_data,'test_sessions_400users.csv'), \n",
    "                           index_col='session_id')"
   ]
  },
  {
   "cell_type": "code",
   "execution_count": 118,
   "metadata": {},
   "outputs": [
    {
     "data": {
      "text/html": [
       "<div>\n",
       "<style scoped>\n",
       "    .dataframe tbody tr th:only-of-type {\n",
       "        vertical-align: middle;\n",
       "    }\n",
       "\n",
       "    .dataframe tbody tr th {\n",
       "        vertical-align: top;\n",
       "    }\n",
       "\n",
       "    .dataframe thead th {\n",
       "        text-align: right;\n",
       "    }\n",
       "</style>\n",
       "<table border=\"1\" class=\"dataframe\">\n",
       "  <thead>\n",
       "    <tr style=\"text-align: right;\">\n",
       "      <th></th>\n",
       "      <th>site1</th>\n",
       "      <th>time1</th>\n",
       "      <th>site2</th>\n",
       "      <th>time2</th>\n",
       "      <th>site3</th>\n",
       "      <th>time3</th>\n",
       "      <th>site4</th>\n",
       "      <th>time4</th>\n",
       "      <th>site5</th>\n",
       "      <th>time5</th>\n",
       "      <th>...</th>\n",
       "      <th>time6</th>\n",
       "      <th>site7</th>\n",
       "      <th>time7</th>\n",
       "      <th>site8</th>\n",
       "      <th>time8</th>\n",
       "      <th>site9</th>\n",
       "      <th>time9</th>\n",
       "      <th>site10</th>\n",
       "      <th>time10</th>\n",
       "      <th>user_id</th>\n",
       "    </tr>\n",
       "    <tr>\n",
       "      <th>session_id</th>\n",
       "      <th></th>\n",
       "      <th></th>\n",
       "      <th></th>\n",
       "      <th></th>\n",
       "      <th></th>\n",
       "      <th></th>\n",
       "      <th></th>\n",
       "      <th></th>\n",
       "      <th></th>\n",
       "      <th></th>\n",
       "      <th></th>\n",
       "      <th></th>\n",
       "      <th></th>\n",
       "      <th></th>\n",
       "      <th></th>\n",
       "      <th></th>\n",
       "      <th></th>\n",
       "      <th></th>\n",
       "      <th></th>\n",
       "      <th></th>\n",
       "      <th></th>\n",
       "    </tr>\n",
       "  </thead>\n",
       "  <tbody>\n",
       "    <tr>\n",
       "      <th>1</th>\n",
       "      <td>23713</td>\n",
       "      <td>2014-03-24 15:22:40</td>\n",
       "      <td>23720.0</td>\n",
       "      <td>2014-03-24 15:22:48</td>\n",
       "      <td>23713.0</td>\n",
       "      <td>2014-03-24 15:22:48</td>\n",
       "      <td>23713.0</td>\n",
       "      <td>2014-03-24 15:22:54</td>\n",
       "      <td>23720.0</td>\n",
       "      <td>2014-03-24 15:22:54</td>\n",
       "      <td>...</td>\n",
       "      <td>2014-03-24 15:22:55</td>\n",
       "      <td>23713.0</td>\n",
       "      <td>2014-03-24 15:23:01</td>\n",
       "      <td>23713.0</td>\n",
       "      <td>2014-03-24 15:23:03</td>\n",
       "      <td>23713.0</td>\n",
       "      <td>2014-03-24 15:23:04</td>\n",
       "      <td>23713.0</td>\n",
       "      <td>2014-03-24 15:23:05</td>\n",
       "      <td>653</td>\n",
       "    </tr>\n",
       "    <tr>\n",
       "      <th>2</th>\n",
       "      <td>8726</td>\n",
       "      <td>2014-04-17 14:25:58</td>\n",
       "      <td>8725.0</td>\n",
       "      <td>2014-04-17 14:25:59</td>\n",
       "      <td>665.0</td>\n",
       "      <td>2014-04-17 14:25:59</td>\n",
       "      <td>8727.0</td>\n",
       "      <td>2014-04-17 14:25:59</td>\n",
       "      <td>45.0</td>\n",
       "      <td>2014-04-17 14:25:59</td>\n",
       "      <td>...</td>\n",
       "      <td>2014-04-17 14:26:01</td>\n",
       "      <td>45.0</td>\n",
       "      <td>2014-04-17 14:26:01</td>\n",
       "      <td>5320.0</td>\n",
       "      <td>2014-04-17 14:26:18</td>\n",
       "      <td>5320.0</td>\n",
       "      <td>2014-04-17 14:26:47</td>\n",
       "      <td>5320.0</td>\n",
       "      <td>2014-04-17 14:26:48</td>\n",
       "      <td>198</td>\n",
       "    </tr>\n",
       "    <tr>\n",
       "      <th>3</th>\n",
       "      <td>303</td>\n",
       "      <td>2014-03-21 10:12:24</td>\n",
       "      <td>19.0</td>\n",
       "      <td>2014-03-21 10:12:36</td>\n",
       "      <td>303.0</td>\n",
       "      <td>2014-03-21 10:12:54</td>\n",
       "      <td>303.0</td>\n",
       "      <td>2014-03-21 10:13:01</td>\n",
       "      <td>303.0</td>\n",
       "      <td>2014-03-21 10:13:24</td>\n",
       "      <td>...</td>\n",
       "      <td>2014-03-21 10:13:36</td>\n",
       "      <td>303.0</td>\n",
       "      <td>2014-03-21 10:13:54</td>\n",
       "      <td>309.0</td>\n",
       "      <td>2014-03-21 10:14:01</td>\n",
       "      <td>303.0</td>\n",
       "      <td>2014-03-21 10:14:06</td>\n",
       "      <td>303.0</td>\n",
       "      <td>2014-03-21 10:14:24</td>\n",
       "      <td>34</td>\n",
       "    </tr>\n",
       "    <tr>\n",
       "      <th>4</th>\n",
       "      <td>1359</td>\n",
       "      <td>2013-12-13 09:52:28</td>\n",
       "      <td>925.0</td>\n",
       "      <td>2013-12-13 09:54:34</td>\n",
       "      <td>1240.0</td>\n",
       "      <td>2013-12-13 09:54:34</td>\n",
       "      <td>1360.0</td>\n",
       "      <td>2013-12-13 09:54:34</td>\n",
       "      <td>1344.0</td>\n",
       "      <td>2013-12-13 09:54:34</td>\n",
       "      <td>...</td>\n",
       "      <td>2013-12-13 09:54:34</td>\n",
       "      <td>1346.0</td>\n",
       "      <td>2013-12-13 09:54:34</td>\n",
       "      <td>1345.0</td>\n",
       "      <td>2013-12-13 09:54:34</td>\n",
       "      <td>1344.0</td>\n",
       "      <td>2013-12-13 09:58:19</td>\n",
       "      <td>1345.0</td>\n",
       "      <td>2013-12-13 09:58:19</td>\n",
       "      <td>601</td>\n",
       "    </tr>\n",
       "    <tr>\n",
       "      <th>5</th>\n",
       "      <td>11</td>\n",
       "      <td>2013-11-26 12:35:29</td>\n",
       "      <td>85.0</td>\n",
       "      <td>2013-11-26 12:35:31</td>\n",
       "      <td>52.0</td>\n",
       "      <td>2013-11-26 12:35:31</td>\n",
       "      <td>85.0</td>\n",
       "      <td>2013-11-26 12:35:32</td>\n",
       "      <td>11.0</td>\n",
       "      <td>2013-11-26 12:35:32</td>\n",
       "      <td>...</td>\n",
       "      <td>2013-11-26 12:35:32</td>\n",
       "      <td>11.0</td>\n",
       "      <td>2013-11-26 12:37:03</td>\n",
       "      <td>85.0</td>\n",
       "      <td>2013-11-26 12:37:03</td>\n",
       "      <td>10.0</td>\n",
       "      <td>2013-11-26 12:37:03</td>\n",
       "      <td>85.0</td>\n",
       "      <td>2013-11-26 12:37:04</td>\n",
       "      <td>273</td>\n",
       "    </tr>\n",
       "  </tbody>\n",
       "</table>\n",
       "<p>5 rows × 21 columns</p>\n",
       "</div>"
      ],
      "text/plain": [
       "            site1                time1    site2                time2    site3  \\\n",
       "session_id                                                                      \n",
       "1           23713  2014-03-24 15:22:40  23720.0  2014-03-24 15:22:48  23713.0   \n",
       "2            8726  2014-04-17 14:25:58   8725.0  2014-04-17 14:25:59    665.0   \n",
       "3             303  2014-03-21 10:12:24     19.0  2014-03-21 10:12:36    303.0   \n",
       "4            1359  2013-12-13 09:52:28    925.0  2013-12-13 09:54:34   1240.0   \n",
       "5              11  2013-11-26 12:35:29     85.0  2013-11-26 12:35:31     52.0   \n",
       "\n",
       "                          time3    site4                time4    site5  \\\n",
       "session_id                                                               \n",
       "1           2014-03-24 15:22:48  23713.0  2014-03-24 15:22:54  23720.0   \n",
       "2           2014-04-17 14:25:59   8727.0  2014-04-17 14:25:59     45.0   \n",
       "3           2014-03-21 10:12:54    303.0  2014-03-21 10:13:01    303.0   \n",
       "4           2013-12-13 09:54:34   1360.0  2013-12-13 09:54:34   1344.0   \n",
       "5           2013-11-26 12:35:31     85.0  2013-11-26 12:35:32     11.0   \n",
       "\n",
       "                          time5   ...                  time6    site7  \\\n",
       "session_id                        ...                                   \n",
       "1           2014-03-24 15:22:54   ...    2014-03-24 15:22:55  23713.0   \n",
       "2           2014-04-17 14:25:59   ...    2014-04-17 14:26:01     45.0   \n",
       "3           2014-03-21 10:13:24   ...    2014-03-21 10:13:36    303.0   \n",
       "4           2013-12-13 09:54:34   ...    2013-12-13 09:54:34   1346.0   \n",
       "5           2013-11-26 12:35:32   ...    2013-11-26 12:35:32     11.0   \n",
       "\n",
       "                          time7    site8                time8    site9  \\\n",
       "session_id                                                               \n",
       "1           2014-03-24 15:23:01  23713.0  2014-03-24 15:23:03  23713.0   \n",
       "2           2014-04-17 14:26:01   5320.0  2014-04-17 14:26:18   5320.0   \n",
       "3           2014-03-21 10:13:54    309.0  2014-03-21 10:14:01    303.0   \n",
       "4           2013-12-13 09:54:34   1345.0  2013-12-13 09:54:34   1344.0   \n",
       "5           2013-11-26 12:37:03     85.0  2013-11-26 12:37:03     10.0   \n",
       "\n",
       "                          time9   site10               time10 user_id  \n",
       "session_id                                                             \n",
       "1           2014-03-24 15:23:04  23713.0  2014-03-24 15:23:05     653  \n",
       "2           2014-04-17 14:26:47   5320.0  2014-04-17 14:26:48     198  \n",
       "3           2014-03-21 10:14:06    303.0  2014-03-21 10:14:24      34  \n",
       "4           2013-12-13 09:58:19   1345.0  2013-12-13 09:58:19     601  \n",
       "5           2013-11-26 12:37:03     85.0  2013-11-26 12:37:04     273  \n",
       "\n",
       "[5 rows x 21 columns]"
      ]
     },
     "execution_count": 118,
     "metadata": {},
     "output_type": "execute_result"
    }
   ],
   "source": [
    "train_df_400.head()"
   ]
  },
  {
   "cell_type": "markdown",
   "metadata": {},
   "source": [
    "To apply Vowpal Wabbit, we need to label the classes within the range 1 - K, where K - the number of classes. We do that using __LabelEncoder__."
   ]
  },
  {
   "cell_type": "code",
   "execution_count": 119,
   "metadata": {},
   "outputs": [],
   "source": [
    "y = train_df_400['user_id']\n",
    "class_encoder = LabelEncoder()\n",
    "y_for_vw = class_encoder.fit_transform(y) + 1"
   ]
  },
  {
   "cell_type": "markdown",
   "metadata": {},
   "source": [
    "We will comapre __VW__ results with __SGDClassifier__ and __LogisticRegressor__. Before that, we need to preprocess the data as we didi before. This time the procedure is similar."
   ]
  },
  {
   "cell_type": "code",
   "execution_count": 122,
   "metadata": {},
   "outputs": [],
   "source": [
    "sites = ['site' + str(i) for i in range(1, 11)]"
   ]
  },
  {
   "cell_type": "code",
   "execution_count": 123,
   "metadata": {},
   "outputs": [],
   "source": [
    "train_test_df = pd.concat([train_df_400, test_df_400], axis = 0)\n",
    "train_test_df_sites = train_test_df[sites].fillna(0).astype(int)"
   ]
  },
  {
   "cell_type": "code",
   "execution_count": 124,
   "metadata": {},
   "outputs": [
    {
     "name": "stdout",
     "output_type": "stream",
     "text": [
      "(182793, 36656)\n",
      "(46473, 36656)\n",
      "(182793L,)\n",
      "Wall time: 1.52 s\n"
     ]
    }
   ],
   "source": [
    "%%time\n",
    "X_sparse_data = make_sparse(train_test_df_sites)\n",
    "X_train_sparse = X_sparse_data[:train_df_400.shape[0], :]\n",
    "X_test_sparse = X_sparse_data[train_df_400.shape[0]:, :]\n",
    "y = y_for_vw\n",
    "\n",
    "print X_train_sparse.shape\n",
    "print X_test_sparse.shape\n",
    "print y.shape"
   ]
  },
  {
   "cell_type": "markdown",
   "metadata": {},
   "source": [
    "__Then, we need to split the data into training and validation parts__."
   ]
  },
  {
   "cell_type": "code",
   "execution_count": 125,
   "metadata": {},
   "outputs": [],
   "source": [
    "train_df = train_df_400[sites].fillna(0).astype(int)\n",
    "test_df = test_df_400[sites].fillna(0).astype(int)"
   ]
  },
  {
   "cell_type": "code",
   "execution_count": 126,
   "metadata": {},
   "outputs": [],
   "source": [
    "train_share = int(.7 * train_df_400.shape[0])\n",
    "train_df_part = train_df_400[sites].iloc[:train_share, :].fillna(0).astype(int)\n",
    "valid_df = train_df_400[sites].iloc[train_share:, :].fillna(0).astype(int)\n",
    "X_train_part_sparse = X_train_sparse[:train_share, :]\n",
    "X_valid_sparse = X_train_sparse[train_share:, :]"
   ]
  },
  {
   "cell_type": "code",
   "execution_count": 127,
   "metadata": {},
   "outputs": [],
   "source": [
    "y_train_part = y[:train_share]\n",
    "y_valid = y[train_share:]\n",
    "y_train_part_for_vw = y_for_vw[:train_share]\n",
    "y_valid_for_vw = y_for_vw[train_share:]"
   ]
  },
  {
   "cell_type": "markdown",
   "metadata": {},
   "source": [
    "Then, we need to trainform the data into the VW-like format. We do this with __arrays_to_vw__ function from __Appendix D.__"
   ]
  },
  {
   "cell_type": "code",
   "execution_count": 131,
   "metadata": {},
   "outputs": [
    {
     "name": "stdout",
     "output_type": "stream",
     "text": [
      "Wall time: 2.94 s\n"
     ]
    }
   ],
   "source": [
    "%%time\n",
    "arrays_to_vw(train_df_part.values, y = y_train_part_for_vw, out_file = 'train_part.vw')\n",
    "arrays_to_vw(valid_df.values, y = y_valid_for_vw, out_file = 'valid.vw')\n",
    "arrays_to_vw(train_df.values, y = y_for_vw, out_file = 'train.vw')\n",
    "arrays_to_vw(test_df.values, out_file = 'test.vw')"
   ]
  },
  {
   "cell_type": "markdown",
   "metadata": {},
   "source": [
    "An example of the VW format data is below."
   ]
  },
  {
   "cell_type": "code",
   "execution_count": 132,
   "metadata": {},
   "outputs": [
    {
     "data": {
      "text/plain": [
       "['262 | 23713 23720 23713 23713 23720 23713 23713 23713 23713 23713\\n',\n",
       " '82 | 8726 8725 665 8727 45 8725 45 5320 5320 5320\\n',\n",
       " '16 | 303 19 303 303 303 303 303 309 303 303\\n',\n",
       " '241 | 1359 925 1240 1360 1344 1359 1346 1345 1344 1345\\n',\n",
       " '106 | 11 85 52 85 11 52 11 85 10 85\\n',\n",
       " '148 | 83 1344 1240 1359 1345 85 1346 83 925 1359\\n',\n",
       " '397 | 13585 13585 13585 13585 13585 13585 13585 13585 13586 13585\\n',\n",
       " '352 | 29312 29311 29312 29312 0 0 0 0 0 0\\n',\n",
       " '142 | 21 62 18 1387 7 72 1386 1384 10 22\\n',\n",
       " '10 | 1563 1563 1563 1563 1563 1563 1563 1563 1563 1563\\n',\n",
       " '130 | 337 337 337 337 13917 337 553 51 13917 337\\n',\n",
       " '355 | 18 1105 1635 49 1104 21 11 52 22 1104\\n',\n",
       " '309 | 125 1269 221 49 19 1275 7 51 7 10\\n',\n",
       " '76 | 11 692 227 27 692 11 7 49 839 844\\n',\n",
       " '176 | 7 10 11 10 11 7 7 11 10 11\\n',\n",
       " '156 | 91 91 91 91 91 11 91 91 91 91\\n',\n",
       " '135 | 303 303 303 303 303 303 303 295 296 295\\n',\n",
       " '191 | 5443 5443 5443 5443 5443 5443 5443 5443 5443 5443\\n',\n",
       " '48 | 108 109 109 0 0 0 0 0 0 0\\n',\n",
       " '377 | 22 27 3033 27 22 3033 811 21 3034 27\\n',\n",
       " '202 | 19364 5474 5408 19362 9350 5392 5407 9488 9530 18571\\n',\n",
       " '338 | 3158 3158 3083 3083 11 7 52 10 88 1112\\n',\n",
       " '96 | 52 11 876 11 22 91 307 308 21 308\\n',\n",
       " '192 | 10 44 18770 46 5788 18770 76 22 27 18770\\n',\n",
       " '81 | 612 616 17 619 619 618 621 621 612 615\\n',\n",
       " '2 | 296 303 303 303 303 296 303 296 296 295\\n',\n",
       " '247 | 52 88 89 79 23061 23061 23064 85 23061 23061\\n',\n",
       " '213 | 1589 265 1588 264 48 3187 1313 11 1313 1311\\n',\n",
       " '112 | 697 697 0 0 0 0 0 0 0 0\\n',\n",
       " '41 | 310 311 310 91 302 304 6298 6299 6300 6299\\n',\n",
       " '166 | 8 8 14 8 17 15 14 9260 2885 3733\\n',\n",
       " '243 | 670 679 677 431 9 8 13 8 188 8\\n',\n",
       " '394 | 286 286 286 11426 11427 286 286 11426 286 286\\n',\n",
       " '131 | 296 296 296 295 295 295 295 295 296 295\\n',\n",
       " '71 | 9295 9297 9285 9295 9392 9285 9295 9276 0 0\\n',\n",
       " '199 | 118 118 118 118 7995 118 118 118 118 88\\n',\n",
       " '345 | 3062 3062 3062 3062 3062 3062 3062 3062 3062 3065\\n',\n",
       " '397 | 1345 1346 1344 1344 1240 6847 6846 6847 6846 1240\\n',\n",
       " '110 | 79 52 0 0 0 0 0 0 0 0\\n',\n",
       " '243 | 22691 22692 22691 22690 793 173 7 173 11 811\\n',\n",
       " '208 | 11 10 242 7 7 2129 10 0 0 0\\n',\n",
       " '394 | 124 125 27 671 27 19 684 22 21 27\\n',\n",
       " '42 | 22 10 6553 27 21 6587 3822 6588 805 51\\n',\n",
       " '260 | 6196 23567 6197 6594 6197 312 27 7 2770 11\\n',\n",
       " '259 | 230 5047 27 115 23536 10 115 10 52 10\\n',\n",
       " '82 | 26 78 7 40 26 39 26 39 39 40\\n',\n",
       " '157 | 22 91 178 304 686 177 11 179 177 178\\n',\n",
       " '240 | 128 293 0 0 0 0 0 0 0 0\\n',\n",
       " '261 | 4380 614 4380 612 614 614 616 4380 620 619\\n',\n",
       " '167 | 16821 16821 16820 16822 690 236 61 16823 46 44\\n',\n",
       " '189 | 5414 7822 5414 7822 9374 7822 18604 9543 18603 7822\\n',\n",
       " '99 | 78 0 0 0 0 0 0 0 0 0\\n',\n",
       " '178 | 17279 17279 17279 22 17279 21 17279 17279 17279 22\\n',\n",
       " '92 | 433 133 173 173 7 11 11011 11012 1626 1626\\n',\n",
       " '99 | 11538 11538 11538 11538 11538 11538 11538 11538 11538 11538\\n',\n",
       " '204 | 1113 7 7 11 85 52 10 52 85 11\\n',\n",
       " '99 | 186 183 186 186 186 183 183 186 186 186\\n',\n",
       " '59 | 3005 3005 3005 3005 3005 3005 3005 3062 3005 3070\\n',\n",
       " '231 | 7 53 925 1240 53 7 7 7 175 175\\n',\n",
       " '102 | 183 4 2 4 3 1161 1161 91 1161 1161\\n',\n",
       " '162 | 516 63 430 433 27 4551 4553 516 4550 66\\n',\n",
       " '9 | 18 1470 160 165 19 27 155 1467 169 10\\n',\n",
       " '332 | 8376 224 8376 51 7 28211 7 28211 28211 11\\n',\n",
       " '79 | 91 7 9987 261 9988 9989 9987 9987 9987 261\\n',\n",
       " '110 | 1137 1136 12887 1137 11 1138 1137 48 1623 48\\n',\n",
       " '394 | 286 286 286 286 286 286 286 286 286 286\\n',\n",
       " '304 | 303 303 303 303 303 303 303 303 303 303\\n',\n",
       " '162 | 27 513 512 27 21 511 22 47 515 27\\n',\n",
       " '9 | 1527 381 381 1527 1527 381 1527 381 381 1527\\n',\n",
       " '226 | 1360 12 6847 6846 811 1344 1240 1344 1360 1344\\n',\n",
       " '358 | 5077 7 6262 5077 5077 5077 1608 5077 5077 5077\\n',\n",
       " '96 | 2765 27 2765 22 21 2763 27 668 517 51\\n',\n",
       " '399 | 307 308 307 308 308 0 0 0 0 0\\n',\n",
       " '103 | 7 12212 12212 12212 12212 12212 12212 12212 3464 32\\n',\n",
       " '215 | 18885 51 18885 18885 18885 18885 18885 18885 18885 18885\\n',\n",
       " '252 | 79 296 296 296 295 295 296 88 296 296\\n',\n",
       " '393 | 31778 795 796 793 795 796 61 61 86 61\\n',\n",
       " '325 | 217 217 183 183 217 217 217 183 217 217\\n',\n",
       " '76 | 308 307 308 0 0 0 0 0 0 0\\n',\n",
       " '310 | 7 8043 11 52 111 85 80 8018 6669 126\\n',\n",
       " '132 | 307 308 881 869 872 881 881 872 872 881\\n',\n",
       " '232 | 126 88 85 85 0 0 0 0 0 0\\n',\n",
       " '320 | 174 174 174 174 81 174 174 174 174 174\\n',\n",
       " '82 | 2806 2807 2807 2807 2807 2807 2807 10 11 7\\n',\n",
       " '213 | 21 10 20384 20385 179 177 52 179 641 20385\\n',\n",
       " '362 | 303 306 303 305 303 307 308 308 303 303\\n',\n",
       " '261 | 27 51 27 1644 10 1641 11 7 7 1643\\n',\n",
       " '266 | 88 81 79 81 467 79 81 81 88 81\\n',\n",
       " '164 | 227 11 4408 226 63 0 0 0 0 0\\n',\n",
       " '290 | 303 299 299 299 303 299 303 299 299 299\\n',\n",
       " '20 | 2472 2473 52 2472 2472 51 10 52 227 591\\n',\n",
       " '119 | 299 299 303 299 299 299 299 299 299 299\\n',\n",
       " '393 | 7 85 7 7 11 10 88 7 7 7\\n',\n",
       " '370 | 22 80 3306 27 11 87 126 642 640 640\\n',\n",
       " '275 | 217 217 217 183 179 217 217 217 217 183\\n',\n",
       " '121 | 673 670 680 680 9 670 172 671 675 670\\n',\n",
       " '25 | 27 7 7 10 52 10 52 697 0 0\\n',\n",
       " '148 | 15412 417 417 1798 1798 415 415 8 11643 8979\\n',\n",
       " '186 | 4382 880 618 4380 619 4380 611 612 7 7\\n',\n",
       " '374 | 230 11 1343 1343 7 7 7 1188 17 17\\n',\n",
       " '85 | 295 295 295 296 295 0 0 0 0 0\\n',\n",
       " '371 | 299 299 299 303 299 299 299 299 299 299\\n',\n",
       " '59 | 3624 3624 8336 8336 8336 8336 8079 60 3624 8342\\n',\n",
       " '218 | 302 7 13524 13524 803 304 805 380 27 335\\n',\n",
       " '287 | 303 303 303 306 303 303 303 303 303 303\\n',\n",
       " '152 | 119 8 8 8 17 16 8 8 17 85\\n',\n",
       " '360 | 4348 7 7 11 177 178 179 177 177 83\\n',\n",
       " '245 | 22784 22787 22794 22781 22784 22787 22781 22785 22781 22794\\n',\n",
       " '246 | 308 11 91 302 91 0 0 0 0 0\\n',\n",
       " '96 | 4520 4522 250 839 4524 3856 11 4522 4520 4525\\n',\n",
       " '46 | 6899 6899 6899 6899 6899 6899 6899 6899 6899 6899\\n',\n",
       " '277 | 24867 24867 24867 24867 24868 24868 312 24869 24869 24869\\n',\n",
       " '292 | 303 303 296 303 296 303 296 295 296 295\\n',\n",
       " '312 | 308 308 308 308 10 838 11 68 764 764\\n',\n",
       " '328 | 7 7 27934 27934 27934 27934 27934 7 1010 1009\\n',\n",
       " '345 | 10561 10561 7 310 91 311 11 7 91 91\\n',\n",
       " '346 | 10 7 79 52 111 10 7 7 80 79\\n',\n",
       " '84 | 884 1395 35 1211 1209 35 64 27 125 35\\n',\n",
       " '14 | 312 304 308 307 302 91 91 838 7 838\\n',\n",
       " '208 | 2840 1112 1113 91 302 91 7 7 692 692\\n',\n",
       " '105 | 7493 869 7494 7493 7494 7493 7494 7494 7493 7494\\n',\n",
       " '23 | 253 257 51 88 7 11 52 253 257 257\\n',\n",
       " '360 | 21845 244 2036 2036 244 2033 2036 2036 2036 2033\\n',\n",
       " '81 | 51 243 828 243 19 243 243 0 0 0\\n',\n",
       " '31 | 5361 5366 5357 5359 4695 5361 5372 5371 5359 5373\\n',\n",
       " '334 | 19 1113 1113 1113 51 10 876 1672 875 7\\n',\n",
       " '157 | 324 21 3957 22 805 243 51 3957 244 19\\n',\n",
       " '298 | 2805 2805 2805 2805 2805 300 2805 0 0 0\\n',\n",
       " '185 | 13142 13142 13142 13143 13142 307 308 308 13142 13143\\n',\n",
       " '96 | 11187 11189 11188 330 331 3884 2761 328 377 6625\\n',\n",
       " '345 | 11 11 91 11 838 11 838 68 504 2000\\n',\n",
       " '281 | 10 11 11 10 1250 7 1248 1246 1248 1251\\n',\n",
       " '208 | 2843 2843 2843 1114 1114 2821 304 302 91 698\\n',\n",
       " '142 | 613 0 0 0 0 0 0 0 0 0\\n',\n",
       " '34 | 47 45 27 1217 1217 45 19 45 4223 19\\n',\n",
       " '400 | 88 307 308 308 2821 2821 2821 2821 2821 2821\\n',\n",
       " '30 | 307 308 308 307 0 0 0 0 0 0\\n',\n",
       " '20 | 2614 2614 2614 2614 2614 2614 2614 2614 2614 2614\\n',\n",
       " '128 | 79 10275 19 27 10275 11 19 10275 27 10275\\n',\n",
       " '305 | 85 86 89 85 86 86 89 88 85 86\\n',\n",
       " '202 | 19343 19344 9521 5408 5407 9350 9530 19365 9499 19388\\n',\n",
       " '348 | 111 85 10 274 29232 9 1 10 11 7\\n',\n",
       " '162 | 3750 27 11 7 27 307 91 682 683 19\\n',\n",
       " '177 | 303 85 303 303 303 303 303 303 303 303\\n',\n",
       " '238 | 11 4421 4421 22463 22463 22463 22463 22463 19610 22463\\n',\n",
       " '144 | 183 179 183 178 186 178 485 178 183 179\\n',\n",
       " '350 | 91 5480 11 5480 11 11 11 309 308 307\\n',\n",
       " '126 | 2097 2098 2098 2098 79 2300 2098 430 2336 179\\n',\n",
       " '42 | 3822 224 6355 3755 6355 381 6356 6357 6371 6592\\n',\n",
       " '21 | 1051 1049 1048 3279 1041 1050 1044 1041 1044 1047\\n',\n",
       " '25 | 243 243 243 243 243 243 243 308 307 308\\n',\n",
       " '295 | 83 996 1112 1113 7 81 82 307 308 4143\\n',\n",
       " '328 | 10 22 21 27 667 4384 667 133 666 667\\n',\n",
       " '188 | 1345 1345 83 1345 1240 1346 925 1345 1345 1346\\n',\n",
       " '10 | 557 554 10 51 52 51 10 52 7 7\\n',\n",
       " '244 | 1137 1138 1137 1 9 7 175 0 0 0\\n',\n",
       " '101 | 11996 8 11994 8 8 11964 192 8 192 11997\\n',\n",
       " '155 | 10 11 85 10 111 52 11 80 15715 15715\\n',\n",
       " '370 | 26118 308 307 88 85 88 88 308 307 0\\n',\n",
       " '345 | 6441 6442 49 6441 18 886 56 6442 6441 19\\n',\n",
       " '188 | 925 1240 0 0 0 0 0 0 0 0\\n',\n",
       " '374 | 179 179 178 177 181 182 179 1243 1244 183\\n',\n",
       " '356 | 22 179 66 52 393 434 264 1106 476 1299\\n',\n",
       " '124 | 9 7 7 10 11 49 13360 7 10 11\\n',\n",
       " '142 | 622 612 293 612 610 610 610 610 17 621\\n',\n",
       " '351 | 45 45 338 2813 10 10 2814 2813 2813 1300\\n',\n",
       " '344 | 294 295 295 295 294 295 294 295 295 295\\n',\n",
       " '21 | 53 269 52 309 7 1009 1010 441 1153 441\\n',\n",
       " '380 | 11 7 308 307 305 309 0 0 0 0\\n',\n",
       " '6 | 1186 1187 7 11 10 10 11 7 1214 7\\n',\n",
       " '345 | 2255 51 2910 22 2909 21 2258 2255 2909 27\\n',\n",
       " '394 | 227 692 27 692 11 7 7 8007 3758 2821\\n',\n",
       " '383 | 6971 6971 6971 6971 79 79 6971 6971 6971 6971\\n',\n",
       " '230 | 8 8 16 8 0 0 0 0 0 0\\n',\n",
       " '166 | 83 88 81 113 10 116 0 0 0 0\\n',\n",
       " '136 | 697 312 304 310 91 302 311 307 308 304\\n',\n",
       " '96 | 286 286 286 286 286 286 286 286 286 286\\n',\n",
       " '313 | 11 7346 91 11 7345 91 7345 677 673 678\\n',\n",
       " '48 | 118 118 118 118 118 118 118 118 118 118\\n',\n",
       " '106 | 1556 1556 85 0 0 0 0 0 0 0\\n',\n",
       " '354 | 85 88 111 1186 1186 1187 3765 3765 3765 2996\\n',\n",
       " '272 | 24591 7 24591 441 446 444 434 2985 24591 1154\\n',\n",
       " '288 | 308 307 302 91 91 91 91 91 91 7\\n',\n",
       " '178 | 17390 27 17279 1963 7 11 7 10 177 7\\n',\n",
       " '394 | 1087 49 3013 1086 51 51 11 3020 7 19\\n',\n",
       " '260 | 22 537 288 537 537 537 27 426 537 27\\n',\n",
       " '224 | 10 1267 10 7 22 7 4132 4133 4134 4131\\n',\n",
       " '396 | 2805 2805 2805 2805 2805 2805 10 7 300 11\\n',\n",
       " '25 | 27 21 22 51 19 517 51 517 2842 2842\\n',\n",
       " '317 | 10 7655 2967 5222 2968 2083 7653 7653 7655 27\\n',\n",
       " '306 | 377 22488 27 22488 22488 51 22488 2282 19 7\\n',\n",
       " '104 | 296 295 296 295 296 295 296 295 296 295\\n',\n",
       " '84 | 471 471 53 178 177 179 10 470 53 177\\n',\n",
       " '72 | 1635 1635 21 22 27 9640 457 1764 1764 1104\\n',\n",
       " '11 | 52 308 307 81 1113 1114 1113 1114 1113 79\\n',\n",
       " '155 | 697 697 1108 0 0 0 0 0 0 0\\n',\n",
       " '317 | 7649 27 325 7649 7653 7649 7649 7649 7649 7649\\n',\n",
       " '289 | 539 5672 3904 1005 25351 558 476 264 25352 25328\\n',\n",
       " '241 | 1240 925 1346 1345 1240 1344 1345 1346 925 1344\\n',\n",
       " '304 | 303 1349 1349 1349 303 1349 1349 303 303 1349\\n',\n",
       " '129 | 183 186 186 186 178 183 177 179 179 179\\n',\n",
       " '360 | 27 52 224 579 7 224 27 29857 224 56\\n',\n",
       " '21 | 3069 3005 3070 2934 619 3083 1113 1112 1113 1112\\n',\n",
       " '42 | 6356 6357 6364 6356 6364 6357 381 3822 6356 6358\\n',\n",
       " '397 | 10 13819 13819 19 51 10 22 21 27 27\\n',\n",
       " '59 | 8174 6192 243 8174 243 8174 7 11 10 52\\n',\n",
       " '256 | 2216 330 2216 299 330 299 303 299 299 303\\n',\n",
       " '317 | 9535 27435 27435 9535 27435 27435 27435 27413 27435 27411\\n',\n",
       " '354 | 21498 2673 2673 2674 7 2674 22 51 2676 21\\n',\n",
       " '357 | 686 729 729 729 729 309 729 51 729 614\\n',\n",
       " '131 | 299 299 299 299 299 299 299 299 303 299\\n',\n",
       " '181 | 17952 5073 17952 17952 17952 17952 8174 17952 17952 17952\\n',\n",
       " '323 | 2888 727 2888 622 626 730 880 731 1220 2888\\n',\n",
       " '333 | 295 296 295 296 295 295 295 303 296 295\\n',\n",
       " '395 | 59 1456 1369 59 1456 1369 1369 1456 1369 59\\n',\n",
       " '146 | 1340 1340 1340 15358 17 662 1340 613 3313 8\\n',\n",
       " '162 | 6403 3755 6403 3755 3755 6404 3755 66 3755 3755\\n',\n",
       " '148 | 5187 5186 793 793 5186 5186 5186 9 5187 5186\\n',\n",
       " '59 | 8110 3624 8079 8110 60 8110 8079 60 8083 8110\\n',\n",
       " '336 | 1747 4616 4612 227 4616 133 227 4612 1217 178\\n',\n",
       " '262 | 189 190 192 8 8 192 8 17 192 189\\n',\n",
       " '128 | 13775 13774 4173 5073 13774 13774 4173 13774 13774 4173\\n',\n",
       " '114 | 124 3828 1251 1246 6125 1259 517 1260 6125 1249\\n',\n",
       " '67 | 295 295 295 295 296 296 296 296 296 296\\n',\n",
       " '319 | 1047 22 21 1047 1047 19 1050 27 1051 1044\\n',\n",
       " '360 | 85 88 4349 88 10 127 4349 85 85 85\\n',\n",
       " '186 | 18137 18137 22 21 27 18137 39 41 26 26\\n',\n",
       " '51 | 183 186 11 178 183 177 178 179 183 178\\n',\n",
       " '197 | 19086 254 18 19086 19 19086 21 19086 22 48\\n',\n",
       " '213 | 2678 32 884 64 1211 35 27 32 49 35\\n',\n",
       " '370 | 7 26 39 39 40 7 39 26 40 40\\n',\n",
       " '314 | 992 875 2402 994 2403 11 6338 83 10 6339\\n',\n",
       " '220 | 21341 21342 21343 21339 21344 21342 21345 21345 91 21346\\n',\n",
       " '46 | 6900 6900 6902 6899 6899 6900 6899 6900 6902 6899\\n',\n",
       " '42 | 6418 6417 6418 6411 6412 6417 6412 6418 6411 6416\\n',\n",
       " '181 | 17900 5073 5073 7 17900 9848 5073 5073 17900 17900\\n',\n",
       " '162 | 746 751 5175 750 746 309 746 91 16282 91\\n',\n",
       " '88 | 7 7 10 11 11 10 7 7 10749 236\\n',\n",
       " '216 | 289 289 289 289 289 289 289 289 289 289\\n',\n",
       " '10 | 697 0 0 0 0 0 0 0 0 0\\n',\n",
       " '42 | 6367 6366 6355 6357 6356 6359 6592 6361 6355 6355\\n',\n",
       " '25 | 4685 613 51 17 17 308 307 698 308 305\\n',\n",
       " '302 | 1397 19 26475 51 2660 221 223 49 369 177\\n',\n",
       " '56 | 87 88 88 85 126 10 127 88 126 85\\n',\n",
       " '274 | 8018 111 52 85 85 80 8018 87 11 88\\n',\n",
       " '59 | 1690 1114 1692 49 1690 4717 1114 1690 1114 1690\\n',\n",
       " '393 | 88 81 85 61 61 79 61 61 61 61\\n',\n",
       " '148 | 111 80 11 52 0 0 0 0 0 0\\n',\n",
       " '23 | 177 178 177 183 217 183 178 178 183 178\\n',\n",
       " '362 | 303 303 11 296 295 7 296 303 296 295\\n',\n",
       " '305 | 51 10 51 10 1060 227 19169 27 27 19169\\n',\n",
       " '59 | 88 7 49 11 7 8509 311 91 312 1229\\n',\n",
       " '87 | 7 291 10555 291 2482 10556 2482 2482 2482 2482\\n',\n",
       " '80 | 10075 27 110 8 8 32 885 884 324 125\\n',\n",
       " '30 | 178 183 217 217 217 183 217 217 183 183\\n',\n",
       " '383 | 6971 6971 6971 6971 6971 6971 6971 88 6974 6971\\n',\n",
       " '42 | 6367 10 1788 398 6367 6366 6355 11 7 19\\n',\n",
       " '83 | 10227 10230 10229 10231 10230 10231 10229 10227 10229 10227\\n',\n",
       " '390 | 179 183 183 183 178 177 179 179 183 183\\n',\n",
       " '391 | 89 86 85 467 467 11 81 117 81 81\\n',\n",
       " '148 | 5186 5186 5187 5186 5186 5187 5186 5187 5186 5186\\n',\n",
       " '354 | 618 612 614 7900 18768 614 1194 614 7900 7900\\n',\n",
       " '119 | 303 303 303 303 303 296 303 303 303 303\\n',\n",
       " '95 | 295 303 303 303 303 303 303 303 303 303\\n',\n",
       " '400 | 4792 686 953 51 391 390 4792 4792 47 4792\\n',\n",
       " '149 | 697 697 0 0 0 0 0 0 0 0\\n',\n",
       " '253 | 80 87 10 11 88 126 52 269 2996 2996\\n',\n",
       " '361 | 2829 2829 2829 2829 2829 2829 2829 2829 2829 2829\\n',\n",
       " '253 | 792 91 308 307 308 308 11 10 7 697\\n',\n",
       " '249 | 5073 1665 1665 7411 7395 36 1053 36 5074 36\\n',\n",
       " '326 | 27862 27863 7 11 52 998 994 10 11 993\\n',\n",
       " '175 | 10318 10318 22 21 27 7195 697 7 7 115\\n',\n",
       " '22 | 1324 3399 3372 264 3399 48 2100 264 476 390\\n',\n",
       " '92 | 11 3296 3296 11 10969 11 3296 11 3296 11\\n',\n",
       " '102 | 10 1244 182 111 8018 80 87 11 10 52\\n',\n",
       " '125 | 7 91 91 303 303 303 303 303 7 85\\n',\n",
       " '132 | 87 87 87 87 87 87 87 87 87 87\\n',\n",
       " '58 | 10 79 81 88 11 81 79 88 81 81\\n',\n",
       " '99 | 1108 0 0 0 0 0 0 0 0 0\\n',\n",
       " '178 | 178 17421 839 17422 877 878 17422 17421 839 878\\n',\n",
       " '59 | 60 8533 3624 8533 3624 3624 3624 8079 60 3624\\n',\n",
       " '126 | 10 10 52 53 53 53 7 53 7 682\\n',\n",
       " '356 | 925 1345 1240 1345 1344 1346 1240 925 1346 1344\\n',\n",
       " '202 | 18695 9498 9476 19343 5474 19352 5388 9481 19340 19355\\n',\n",
       " '67 | 295 296 295 296 295 296 295 296 295 296\\n',\n",
       " '382 | 295 174 296 295 296 295 296 296 296 295\\n',\n",
       " '56 | 68 504 11 430 476 838 11 504 68 11\\n',\n",
       " '364 | 30019 30019 30020 30044 30019 30043 30019 30042 30043 30019\\n',\n",
       " '160 | 7896 7896 7896 7896 7896 7896 7896 7896 7896 7896\\n',\n",
       " '114 | 1910 1910 1910 1910 1910 1910 1910 1910 1910 1910\\n',\n",
       " '294 | 1346 1344 1240 925 1345 1346 1346 1345 1344 1240\\n',\n",
       " '265 | 303 295 295 295 295 295 295 295 295 295\\n',\n",
       " '266 | 8 11 7 11 10 88 11 10 88 7\\n',\n",
       " '265 | 303 303 303 303 303 303 303 303 303 19\\n',\n",
       " '35 | 673 11 672 679 678 676 172 11 612 5719\\n',\n",
       " '368 | 7 7 7 10 11 10 11 7 9 0\\n',\n",
       " '304 | 10 7 11 7 7 295 10 11 11 7\\n',\n",
       " '54 | 608 17 17 613 613 17 17 4378 609 4378\\n',\n",
       " '211 | 1113 1113 1112 1113 7 11 7 844 846 839\\n',\n",
       " '254 | 377 2759 122 123 1349 27 18 27 1349 19\\n',\n",
       " '21 | 309 2934 727 2934 697 727 619 2934 0 0\\n',\n",
       " '165 | 5073 5073 5073 5073 13659 1665 36 4473 36 5074\\n',\n",
       " '343 | 2583 11547 11459 11459 11547 2583 2583 2583 11547 11459\\n',\n",
       " '187 | 1053 848 7 7696 7696 7700 7699 7697 7698 27\\n',\n",
       " '144 | 1240 1346 1345 1345 1346 1345 1346 1346 1345 1346\\n',\n",
       " '375 | 2820 613 613 17 17 609 8172 31134 8172 613\\n',\n",
       " '249 | 838 504 11 838 125 694 693 695 269 307\\n',\n",
       " '171 | 8352 8352 8354 8352 48 48 8352 264 1107 264\\n',\n",
       " '119 | 295 296 295 296 296 296 295 296 296 303\\n',\n",
       " '34 | 27 21 22 5690 10 5690 793 21 5690 811\\n',\n",
       " '194 | 3314 8 4392 305 19 8 175 729 3314 304\\n',\n",
       " '144 | 178 183 181 178 1244 183 181 179 181 179\\n',\n",
       " '316 | 88 308 307 88 85 0 0 0 0 0\\n',\n",
       " '59 | 8155 886 552 65 65 886 8141 8143 8140 8139\\n',\n",
       " '354 | 177 177 91 91 91 91 11 177 10 182\\n',\n",
       " '336 | 1747 18829 4616 1747 133 132 1747 1747 18829 227\\n',\n",
       " '202 | 1232 17 17 17 17 609 829 19336 616 611\\n',\n",
       " '134 | 318 0 0 0 0 0 0 0 0 0\\n',\n",
       " '101 | 11 11 11 11 11 10 52 1335 4980 81\\n',\n",
       " '334 | 11 1706 7 7 11 10 7 7 10 7\\n',\n",
       " '182 | 53 88 7 88 85 0 0 0 0 0\\n',\n",
       " '122 | 178 184 10 184 184 184 52 79 83 184\\n',\n",
       " '251 | 534 534 886 7 23150 23150 23150 7 23151 23151\\n',\n",
       " '295 | 2821 2843 2821 2821 2843 2843 0 0 0 0\\n',\n",
       " '20 | 129 7 7 10 11 8 7 11 10 27\\n',\n",
       " '192 | 31 690 3168 3173 3168 31 690 3173 3174 27\\n',\n",
       " '262 | 178 183 183 179 179 179 183 183 179 183\\n',\n",
       " '324 | 318 3752 3751 4938 4937 6612 318 3751 4938 3751\\n',\n",
       " '96 | 312 11155 11155 7 10 11 10071 11167 49 10074\\n',\n",
       " '384 | 299 303 303 697 303 299 303 303 303 303\\n',\n",
       " '208 | 307 308 308 242 7 111 80 87 11 126\\n',\n",
       " '252 | 296 296 296 295 296 296 296 296 296 296\\n',\n",
       " '139 | 9776 9776 9776 14819 4766 4767 4765 4767 14819 4767\\n',\n",
       " '126 | 324 27 5683 5683 19 4219 793 82 117 4219\\n',\n",
       " '165 | 18 5100 5100 5101 36 5110 7395 36 36 5072\\n',\n",
       " '278 | 8 175 175 7 7 11 10 7 11 10\\n',\n",
       " '48 | 552 672 673 679 676 675 677 674 678 670\\n',\n",
       " '144 | 186 183 10 18 22 21 179 183 179 179\\n',\n",
       " '223 | 11 1061 79 81 88 1061 1062 11 81 11\\n',\n",
       " '296 | 7 7 11 10 85 7 52 7 111 7\\n',\n",
       " '341 | 17 612 613 622 2888 611 22607 2888 2891 1554\\n',\n",
       " '23 | 198 27 27 3001 3004 51 198 3957 22 3957\\n',\n",
       " '399 | 7 681 27 682 91 683 684 684 21 18\\n',\n",
       " '273 | 52 87 85 11 85 10 88 85 87 79\\n',\n",
       " '231 | 178 183 179 178 185 181 1156 179 181 183\\n',\n",
       " '166 | 3 4 5 2 1 6 3 2 4 11\\n',\n",
       " '168 | 295 303 296 296 296 296 296 296 296 296\\n',\n",
       " '162 | 678 552 670 678 676 676 679 672 679 679\\n',\n",
       " '241 | 7 11 9 1 230 7 17 7 612 7\\n',\n",
       " '342 | 190 192 191 8 189 8 175 191 190 192\\n',\n",
       " '162 | 7 11 7 7 1009 1009 1010 441 1153 11\\n',\n",
       " '389 | 8055 8054 31592 875 49 876 31593 31592 876 875\\n',\n",
       " '231 | 178 217 179 183 178 217 178 183 217 183\\n',\n",
       " '212 | 1345 1344 1346 1345 1344 1240 1240 1345 1346 1344\\n',\n",
       " '126 | 91 11 91 11 692 11 49 692 49 11\\n',\n",
       " '37 | 841 842 843 22 1217 19 21 27 1320 1217\\n',\n",
       " '83 | 2830 2824 2822 2824 7481 2822 7482 7483 7481 11\\n',\n",
       " '109 | 7 11 1269 12810 803 805 3027 7 7 10\\n',\n",
       " '358 | 183 183 183 183 183 217 183 178 217 178\\n',\n",
       " '84 | 51 886 470 53 470 470 178 53 470 470\\n',\n",
       " '44 | 1240 1344 1344 1345 1346 1240 1346 1240 1346 925\\n',\n",
       " '333 | 303 303 303 303 303 303 303 296 296 303\\n',\n",
       " '332 | 7 2968 10 15066 11265 3822 27 11265 10 7\\n',\n",
       " '48 | 27 7204 27 224 3348 10 88 4045 7 4045\\n',\n",
       " '233 | 191 8 190 192 189 191 190 110 189 21997\\n',\n",
       " '394 | 3005 3005 3005 3005 3005 3005 3005 3005 3005 3005\\n',\n",
       " '172 | 697 1108 0 0 0 0 0 0 0 0\\n',\n",
       " '137 | 7 7 11 10 9 88 88 7 7 11\\n',\n",
       " '16 | 299 299 299 303 299 303 299 303 299 303\\n',\n",
       " '247 | 2806 289 9 290 289 289 0 0 0 0\\n',\n",
       " '38 | 7 296 296 295 296 296 296 296 295 296\\n',\n",
       " '2 | 295 296 295 296 295 296 295 296 295 296\\n',\n",
       " '19 | 296 295 8 296 8 8 17 296 0 0\\n',\n",
       " '22 | 3657 457 51 457 3409 3409 3409 51 244 244\\n',\n",
       " '354 | 662 7900 17727 17653 11 7 29477 6010 6010 457\\n',\n",
       " '309 | 182 91 10 7 179 183 26798 217 178 308\\n',\n",
       " '231 | 7 88 88 7 88 53 7 53 7 88\\n',\n",
       " '237 | 5417 5420 5420 5412 5421 5420 5421 5416 5422 5421\\n',\n",
       " '294 | 12 1362 1361 1363 925 1361 12 11 1362 925\\n',\n",
       " '189 | 7 7 10 11 85 52 7 111 7 9\\n',\n",
       " '14 | 1107 902 48 2074 2071 2072 2072 2070 2072 27\\n',\n",
       " '173 | 7 53 242 10 7 39 26 40 26 39\\n',\n",
       " '293 | 82 88 91 88 86 88 89 91 89 88\\n',\n",
       " '374 | 864 4 1412 865 7 7 10578 7 10579 7\\n',\n",
       " '11 | 19 18 22 1722 19 21 10 19 27 19\\n',\n",
       " '35 | 5904 7 7 5905 5905 1217 243 5905 5905 1217\\n',\n",
       " '246 | 22851 22850 22896 91 4326 1053 22896 22896 11 11\\n',\n",
       " '317 | 9524 5427 9312 9527 9535 27413 27413 9535 27413 9535\\n',\n",
       " '219 | 21227 21226 21227 5306 21226 21227 5306 21226 21227 21226\\n',\n",
       " '143 | 87 52 14919 89 79 14919 14919 300 14919 14919\\n',\n",
       " '354 | 7126 172 172 14584 7126 7126 172 172 27 172\\n',\n",
       " '160 | 1243 1156 1244 178 10 185 178 179 1156 185\\n',\n",
       " '22 | 3444 21 3447 22 3453 3444 3454 3456 27 19\\n',\n",
       " '96 | 286 286 286 286 286 242 88 7 286 286\\n',\n",
       " '317 | 5474 7834 5408 5474 7834 5474 5474 9535 9535 7834\\n',\n",
       " '353 | 29325 29325 29326 29326 29325 29326 29322 29322 29326 29325\\n',\n",
       " '126 | 7 839 844 49 845 309 846 845 844 847\\n',\n",
       " '259 | 52 115 8 17 8 8 5761 8 10211 9972\\n',\n",
       " '223 | 838 11 392 392 11 838 11 838 11 269\\n',\n",
       " '161 | 5074 36 0 0 0 0 0 0 0 0\\n',\n",
       " '52 | 1665 79 126 79 85 11 126 1665 1665 7424\\n',\n",
       " '332 | 217 217 217 183 183 217 217 217 183 217\\n',\n",
       " '182 | 17998 17998 17998 17998 10 79 83 89 11 53\\n',\n",
       " '202 | 19583 27 19592 19581 19591 19583 19584 19595 19596 19597\\n',\n",
       " '231 | 1245 185 178 185 1156 217 183 178 217 183\\n',\n",
       " '212 | 1346 1344 1345 1240 1345 1344 1346 1240 1344 1240\\n',\n",
       " '248 | 672 679 172 678 680 680 672 15080 680 671\\n',\n",
       " '340 | 693 695 694 91 302 11 91 11 311 310\\n',\n",
       " '154 | 303 295 295 295 295 294 303 295 303 303\\n',\n",
       " '44 | 1343 7 7 811 7 6847 6846 1240 1344 811\\n',\n",
       " '167 | 310 7318 7320 893 311 7318 91 7318 7319 392\\n',\n",
       " '258 | 198 2382 1020 2381 2381 91 1020 2381 2381 48\\n',\n",
       " '288 | 26 11 39 26 41 10 40 39 26 26\\n',\n",
       " '205 | 27 22 11884 51 10 64 19813 1285 3409 2097\\n',\n",
       " '54 | 613 611 611 4378 7620 616 619 612 4378 7621\\n',\n",
       " '186 | 18004 18004 18004 18004 18004 401 401 27 22 19\\n',\n",
       " '79 | 304 261 9994 9994 11 261 9995 9996 9997 9998\\n',\n",
       " '262 | 4008 2018 2794 2018 2794 3999 4008 2798 27 3999\\n',\n",
       " '30 | 217 183 5201 183 217 217 5201 217 5201 217\\n',\n",
       " '292 | 303 303 303 303 303 303 303 303 303 303\\n',\n",
       " '192 | 18727 18727 88 18727 18727 27 1187 18727 18727 18727\\n',\n",
       " '192 | 9776 9776 9776 9776 9776 9776 9776 9776 9776 9776\\n',\n",
       " '178 | 11905 178 17460 17458 750 47 45 27 17460 11905\\n',\n",
       " '5 | 128 996 998 998 1000 998 1003 998 10 1003\\n',\n",
       " '268 | 21 19 22 10 27 27 27 10 19 19\\n',\n",
       " '222 | 1114 1231 1114 0 0 0 0 0 0 0\\n',\n",
       " '79 | 850 850 309 850 236 61 11 7 7 692\\n',\n",
       " '354 | 1232 17 17 613 613 17 17 609 7900 614\\n',\n",
       " '53 | 18 423 682 21 22 125 27 48 684 122\\n',\n",
       " '21 | 673 671 11 172 670 671 675 677 678 678\\n',\n",
       " '32 | 7 3021 133 132 3021 125 3021 560 27 1269\\n',\n",
       " '154 | 304 304 704 91 7 303 303 303 303 303\\n',\n",
       " '266 | 88 79 81 117 467 81 82 79 0 0\\n',\n",
       " '286 | 299 299 299 299 299 303 299 299 299 299\\n',\n",
       " '283 | 129 7 11 10 1678 1677 7 814 1679 11\\n',\n",
       " '317 | 7649 7655 11 27 21 22 7 7649 7653 7\\n',\n",
       " '178 | 585 17425 584 582 304 584 580 893 27 19\\n',\n",
       " '77 | 303 303 303 303 303 303 303 303 303 303\\n',\n",
       " '23 | 19 21 4076 4077 22 27 27 374 4076 4077\\n',\n",
       " '202 | 19343 19343 19343 19343 307 308 19343 19343 19343 19389\\n',\n",
       " '295 | 19 11 27 47 2113 11 45 91 45 2112\\n',\n",
       " '23 | 27 22 27 793 3981 3981 3981 51 3981 3981\\n',\n",
       " '43 | 296 296 296 296 296 296 296 296 295 296\\n',\n",
       " '183 | 613 728 728 614 729 18018 611 614 614 620\\n',\n",
       " '153 | 359 362 359 361 8 362 361 17 361 361\\n',\n",
       " '162 | 668 311 264 308 307 1113 1112 3750 11 7\\n',\n",
       " '118 | 299 299 299 296 296 299 299 299 296 299\\n',\n",
       " '333 | 303 303 303 303 79 303 303 303 303 303\\n',\n",
       " '83 | 7 7 1022 1023 1021 7 1023 1024 1023 1023\\n',\n",
       " '338 | 302 91 91 91 7 11 10 85 52 111\\n',\n",
       " '217 | 1851 1853 11 1851 793 10983 1853 27 22 27\\n',\n",
       " '57 | 7781 5349 7796 7796 7781 7795 5418 7781 7796 7795\\n',\n",
       " '79 | 2 4 6 3 8 175 175 175 175 8\\n',\n",
       " '54 | 490 816 3168 3168 816 490 567 3168 495 4266\\n',\n",
       " '148 | 10 10 89 88 126 9 88 10 89 85\\n',\n",
       " '234 | 1240 1344 1345 1346 1240 1344 1345 1344 1240 1346\\n',\n",
       " '169 | 299 303 299 299 299 299 299 303 299 299\\n',\n",
       " '364 | 872 30279 27 30280 22 45 45 30279 51 305\\n',\n",
       " '54 | 727 17 609 7620 4378 611 727 4378 616 612\\n',\n",
       " '244 | 3766 3766 3766 1136 1138 1568 3766 1 3766 3766\\n',\n",
       " '381 | 1346 1346 1359 1360 1240 925 1344 1345 1240 1344\\n',\n",
       " '358 | 177 179 178 179 178 177 1244 178 179 178\\n',\n",
       " '335 | 299 299 299 299 299 299 299 299 299 299\\n',\n",
       " '346 | 2999 2999 2996 2999 2999 2996 2996 2999 2999 1112\\n',\n",
       " '291 | 186 183 178 183 178 181 179 183 178 179\\n',\n",
       " '118 | 21 18 22 27 335 2586 13132 1635 6841 1104\\n',\n",
       " '199 | 118 118 118 118 118 118 118 79 118 118\\n',\n",
       " '329 | 181 183 181 181 183 181 183 181 181 79\\n',\n",
       " '178 | 27 7 11 7 17369 17370 17370 17370 27 10899\\n',\n",
       " '78 | 616 612 613 614 614 17 621 619 243 613\\n',\n",
       " '235 | 1971 838 838 53 53 53 53 7 53 7\\n',\n",
       " '71 | 1369 110 8 8 17 8 8 8 17 8\\n',\n",
       " '350 | 11 1121 52 11 1013 1013 49 11 29279 29280\\n',\n",
       " '96 | 11157 11157 11157 614 517 838 11 504 842 125\\n',\n",
       " '144 | 5285 1193 5285 21 18 22 27 1349 186 186\\n',\n",
       " '40 | 6234 6234 6234 6234 11 7 6234 6234 6235 6236\\n',\n",
       " '171 | 7 49 12899 12899 12899 12899 838 7 68 504\\n',\n",
       " '347 | 4295 4295 2681 10 4295 52 19 21 22 4295\\n',\n",
       " '230 | 1231 1114 697 0 0 0 0 0 0 0\\n',\n",
       " '178 | 27 24 17247 17247 17249 27 3176 170 170 17247\\n',\n",
       " '63 | 88 126 1114 1231 1114 10 88 1114 1114 1231\\n',\n",
       " '31 | 5411 5400 5402 5411 5400 5403 5411 5403 5414 5414\\n',\n",
       " '19 | 295 296 295 296 295 296 303 296 295 295\\n',\n",
       " '27 | 3766 3766 1138 11 875 875 11 876 1138 1138\\n',\n",
       " '267 | 8 2376 192 191 190 8 189 8 17 192\\n',\n",
       " '382 | 303 303 295 295 295 295 295 295 295 303\\n',\n",
       " '103 | 52 52 534 12197 1898 1756 1756 1287 1287 1287\\n',\n",
       " '295 | 7 1113 1112 1113 1112 1113 1112 1112 1113 1113\\n',\n",
       " '374 | 179 244 243 51 243 19 0 0 0 0\\n',\n",
       " '23 | 178 22 27 265 22 27 22 27 88 183\\n',\n",
       " '37 | 330 4220 5683 4219 324 811 27 4219 897 5683\\n',\n",
       " '400 | 7 844 49 846 847 309 844 309 309 848\\n',\n",
       " '96 | 609 3010 987 987 625 3010 618 611 17 11157\\n',\n",
       " '272 | 16021 17 618 615 622 614 621 17 16021 612\\n',\n",
       " '128 | 36 5073 36 5079 36 5079 0 0 0 0\\n',\n",
       " '126 | 53 11 7 7 53 7 53 53 53 53\\n',\n",
       " '231 | 7 10 14134 52 7 21944 1229 85 80 111\\n',\n",
       " '162 | 125 3884 27 11 7 0 0 0 0 0\\n',\n",
       " '346 | 692 49 11 227 692 27 8 0 0 0\\n',\n",
       " '151 | 925 1240 1344 1345 1346 1345 1346 1346 1346 83\\n',\n",
       " '76 | 841 27 842 841 423 843 2822 49 2824 2826\\n',\n",
       " '79 | 9956 183 178 183 183 183 183 7 44 178\\n',\n",
       " '21 | 882 684 51 19 7 53 49 686 699 309\\n',\n",
       " '152 | 117 81 52 10 11 88 86 89 81 79\\n',\n",
       " '57 | 3751 3751 3751 3751 3752 3752 3751 3751 3752 3751\\n',\n",
       " '257 | 80 52 80 85 85 85 11 87 87 11\\n',\n",
       " '286 | 8 175 8 8 8 16 8 8 8 14\\n',\n",
       " '137 | 288 5189 5189 5189 5189 5189 5189 14659 14659 14659\\n',\n",
       " '211 | 20053 10 61 19 61 20053 19 91 27 844\\n',\n",
       " '259 | 19 2525 110 27 8 17 8 23553 8 23553\\n',\n",
       " '397 | 32188 2756 51 22 21 220 32188 2758 125 3658\\n',\n",
       " '298 | 5187 5186 5186 5186 5186 5187 5186 5187 5186 5186\\n',\n",
       " '28 | 398 403 2681 402 398 5086 400 398 401 49\\n',\n",
       " '19 | 295 295 295 295 295 295 303 295 295 303\\n',\n",
       " '252 | 296 296 296 296 296 296 296 296 296 296\\n',\n",
       " '176 | 7 1713 1713 1665 1665 1665 1665 1665 10234 9848\\n',\n",
       " '345 | 76 21 27 29070 29069 29070 19 29069 22 21\\n',\n",
       " '377 | 119 1934 11 5197 11 5197 7 7 7 7\\n',\n",
       " '298 | 1106 836 10 11 7 7 26382 7 789 868\\n',\n",
       " '223 | 79 10 11 79 82 11 79 79 81 88\\n',\n",
       " '7 | 296 296 303 296 296 296 296 296 303 303\\n',\n",
       " '207 | 302 91 304 470 32 35 2678 35 32 35\\n',\n",
       " '376 | 226 226 227 308 307 7 441 1010 1009 1011\\n',\n",
       " '181 | 5073 5073 8 8 8 16 118 118 118 118\\n',\n",
       " '21 | 727 727 27 10 727 3072 2312 2312 19 2258\\n',\n",
       " '245 | 4466 2999 4468 2999 3005 3005 2999 2999 1112 2999\\n',\n",
       " '66 | 303 303 303 303 303 303 303 303 303 303\\n',\n",
       " '334 | 9569 9569 9569 9569 9569 9569 9569 9569 9569 9569\\n',\n",
       " '23 | 318 318 312 304 91 302 304 704 91 91\\n',\n",
       " '230 | 8 192 8 8 192 8 8 189 192 8\\n',\n",
       " '225 | 51 178 179 177 179 11 178 183 217 183\\n',\n",
       " '108 | 119 7 10 11 7 7 7 12718 12718 7\\n',\n",
       " '295 | 52 10 91 302 308 307 308 7 11 0\\n',\n",
       " '270 | 7649 7649 7649 7649 7649 7653 7649 7649 7649 7649\\n',\n",
       " '35 | 2154 0 0 0 0 0 0 0 0 0\\n',\n",
       " '172 | 81 88 79 81 81 81 81 10 11 81\\n',\n",
       " '328 | 7 5582 49 5582 1134 26 7 4402 844 7\\n',\n",
       " '79 | 8298 8059 8060 8059 8060 8060 8059 8060 8059 8059\\n',\n",
       " '394 | 122 684 307 308 308 7 4327 4326 4326 4327\\n',\n",
       " '285 | 53 7 7 15657 307 308 0 0 0 0\\n',\n",
       " '25 | 318 318 696 304 686 698 698 17 698 699\\n',\n",
       " '374 | 793 31129 31130 31129 31129 31130 21 22 31130 31129\\n',\n",
       " '154 | 295 295 296 296 303 303 303 303 303 303\\n',\n",
       " '90 | 14 14 14 14 14 14 14 14 14 14\\n',\n",
       " '50 | 175 175 175 175 8 8 8 8 17 8\\n',\n",
       " '81 | 616 612 17 613 621 619 618 619 2887 615\\n',\n",
       " '327 | 11 87 126 52 89 11 82 85 7 79\\n',\n",
       " '175 | 304 91 302 11 91 11 91 7 17106 49\\n',\n",
       " '70 | 7 9140 9140 9140 119 9140 9140 9140 424 11\\n',\n",
       " '183 | 1189 1189 614 623 1189 1195 1189 1189 1195 623\\n',\n",
       " '67 | 303 303 303 303 303 296 303 296 296 296\\n',\n",
       " '181 | 1499 1500 1504 1500 1503 1499 1497 1499 1504 1500\\n',\n",
       " '46 | 3313 27 8 175 51 828 244 175 4672 729\\n',\n",
       " '133 | 299 299 299 299 8 8 8 17 8 7\\n',\n",
       " '399 | 19 27 22 122 686 681 51 11 7 49\\n',\n",
       " '121 | 1355 3672 1354 3673 3554 3683 3678 3677 3676 3675\\n',\n",
       " '30 | 184 178 183 183 184 184 184 183 184 184\\n',\n",
       " '353 | 10 0 0 0 0 0 0 0 0 0\\n',\n",
       " '59 | 60 3624 60 3624 307 308 308 8079 8079 8079\\n',\n",
       " '101 | 8 11989 8 8 192 11997 192 8 192 11931\\n',\n",
       " '147 | 128 89 88 7719 85 7 1169 7 1169 15391\\n',\n",
       " '338 | 242 52 10 7 49 28517 28517 28517 3158 304\\n',\n",
       " '208 | 52 10 992 2402 998 83 2403 7 269 11\\n',\n",
       " '59 | 8077 47 8077 2402 8081 45 8077 8083 45 8084\\n',\n",
       " '59 | 3624 8079 60 60 8079 8079 60 60 60 3624\\n',\n",
       " '397 | 111 80 85 126 10 11 87 88 126 10\\n',\n",
       " '128 | 85 87 10 6669 85 87 88 10 52 11\\n',\n",
       " '30 | 217 183 10 11 178 179 10 91 179 10\\n',\n",
       " '313 | 670 672 678 671 674 673 172 676 676 172\\n',\n",
       " '29 | 27 19 527 1271 1275 49 10 1273 1274 1269\\n',\n",
       " '290 | 295 296 296 296 296 295 296 296 296 303\\n',\n",
       " '94 | 1963 1963 1963 1963 1963 11 7 11129 7 7\\n',\n",
       " '357 | 701 703 701 701 701 701 5719 701 701 701\\n',\n",
       " '162 | 1051 1052 1048 1050 1046 1045 1052 1051 1044 1041\\n',\n",
       " '21 | 2909 2909 27 21 2258 22 51 2255 2909 51\\n',\n",
       " '328 | 8 8 16 1608 8 175 11 8 7 1963\\n',\n",
       " '282 | 88 85 85 10 2006 8 8 8 7 7\\n',\n",
       " '39 | 7 11 80 7 11 52 111 80 10 85\\n',\n",
       " '208 | 838 68 91 838 838 7 11 692 49 692\\n',\n",
       " '252 | 23255 51 27 22 27 23256 51 10 52 19\\n',\n",
       " '190 | 295 295 296 295 303 296 296 296 296 296\\n',\n",
       " '303 | 11459 8 18417 11459 18417 26533 26533 26533 49 26533\\n',\n",
       " '80 | 10092 9 10092 10092 8 16 8 17 175 8\\n',\n",
       " '187 | 11 11 504 68 1743 838 11 838 838 91\\n',\n",
       " '207 | 21 22 19833 19833 331 13588 125 19833 19833 19833\\n',\n",
       " '397 | 7 80 7 11 80 85 52 111 87 85\\n',\n",
       " '231 | 119 108 109 109 9 0 0 0 0 0\\n',\n",
       " '83 | 175 9 175 10178 36 36 36 5074 36 5072\\n',\n",
       " '44 | 697 0 0 0 0 0 0 0 0 0\\n',\n",
       " '52 | 2806 2805 5525 247 5525 2805 2806 2806 2806 2805\\n',\n",
       " '394 | 286 286 286 286 286 286 286 286 286 286\\n',\n",
       " '96 | 286 286 286 286 1112 1113 286 1113 1112 286\\n',\n",
       " '64 | 303 303 296 295 295 295 303 303 303 303\\n',\n",
       " '57 | 616 6083 618 622 619 612 7739 6083 6083 612\\n',\n",
       " '159 | 226 27 226 3812 3812 51 3812 3812 11 7\\n',\n",
       " '257 | 296 296 295 296 296 296 296 296 109 175\\n',\n",
       " '340 | 11 91 838 302 11 393 91 11 11 838\\n',\n",
       " '262 | 2125 2122 2124 23706 2126 2126 23706 23706 2122 2125\\n',\n",
       " '132 | 87 87 87 87 87 87 87 87 87 87\\n',\n",
       " '347 | 7 9 697 697 0 0 0 0 0 0\\n',\n",
       " '51 | 515 4550 119 10 51 52 4551 4551 303 4553\\n',\n",
       " '229 | 21845 21845 21845 0 0 0 0 0 0 0\\n',\n",
       " '356 | 18055 18055 18055 7 7 3313 8 728 175 8\\n',\n",
       " '397 | 1364 1363 1361 1364 1361 1363 1362 925 925 1362\\n',\n",
       " '94 | 87 89 126 11 82 83 79 79 79 79\\n',\n",
       " '48 | 86 89 88 86 85 89 86 85 89 86\\n',\n",
       " '317 | 7 40 15633 7 7 7 21978 21978 7 27545\\n',\n",
       " '365 | 183 91 91 91 11 178 179 179 178 181\\n',\n",
       " '208 | 3005 3005 3005 3005 3005 3005 3005 3005 3005 3005\\n',\n",
       " '295 | 717 682 11 684 683 838 682 122 123 681\\n',\n",
       " '41 | 613 17 17 609 614 987 6254 611 4380 987\\n',\n",
       " '3 | 340 47 341 339 27 340 339 45 342 10\\n',\n",
       " '345 | 21 2312 308 307 308 7 7 2257 3957 28978\\n',\n",
       " '237 | 7896 7896 7896 7896 7896 7896 7 7896 7896 7896\\n',\n",
       " '380 | 838 11 504 68 27 64 840 843 841 304\\n',\n",
       " '87 | 6209 10 27 63 265 6209 750 6209 8088 10\\n',\n",
       " '149 | 304 309 686 15545 309 15545 305 15545 15545 15545\\n',\n",
       " '48 | 1568 7 7 0 0 0 0 0 0 0\\n',\n",
       " '300 | 303 303 303 303 303 303 26433 715 26433 26433\\n',\n",
       " '234 | 1361 1361 1364 1362 1363 925 1363 1362 1364 1361\\n',\n",
       " '199 | 118 118 118 118 118 118 118 118 81 85\\n',\n",
       " '210 | 9776 9776 9776 9776 9776 9776 9776 9776 9776 9776\\n',\n",
       " '73 | 649 5298 5296 5297 5296 10 649 5298 5296 5298\\n',\n",
       " '208 | 1113 1112 1112 1113 1112 312 91 302 7 4402\\n',\n",
       " '358 | 181 181 183 183 181 181 181 181 183 181\\n',\n",
       " '394 | 7 304 305 309 308 307 308 0 0 0\\n',\n",
       " '193 | 11 11 11 11 11 11 11 11 11 11\\n',\n",
       " '334 | 28313 22 27 27 21684 7 21685 11 17089 7339\\n',\n",
       " '101 | 993 998 10 2403 993 992 2402 11905 998 10\\n',\n",
       " '15 | 82 83 88 79 147 81 83 2151 11 7\\n',\n",
       " '255 | 299 7 299 299 299 0 0 0 0 0\\n',\n",
       " '348 | 11 10 7 11 10 7 1 9 0 0\\n',\n",
       " '338 | 307 308 308 1112 1113 1113 1112 1113 1112 1113\\n',\n",
       " '246 | 22957 22958 22959 22960 22961 686 22962 22963 22964 22955\\n',\n",
       " '339 | 7 10 11 1249 1247 7 1246 1248 1256 1252\\n',\n",
       " '162 | 242 11 7 11877 11 7 11877 6694 6210 897\\n',\n",
       " '107 | 91 11 11 968 11 91 11 11 1009 1010\\n',\n",
       " '193 | 1382 1391 1390 1385 1391 1385 1386 1382 1384 1384\\n',\n",
       " '25 | 661 1194 662 613 8 3313 3314 728 175 4386\\n',\n",
       " '1 | 30 35 30 36 30 30 30 7 7 7\\n',\n",
       " '23 | 3956 3956 21 21 22 27 22 3956 27 3956\\n',\n",
       " '317 | 7119 7117 2300 133 27 7117 7117 7 11 7117\\n',\n",
       " '137 | 7 1026 14462 14464 1026 14464 14462 7 14462 1026\\n',\n",
       " '253 | 183 7 23338 226 11 227 226 23338 7 7\\n',\n",
       " '326 | 1364 1362 1361 83 1364 1363 1361 1362 1359 1361\\n',\n",
       " '106 | 1134 26 1134 88 88 85 88 88 85 89\\n',\n",
       " '55 | 27 1349 1354 1351 27 1351 1354 1355 1355 1355\\n',\n",
       " '179 | 27 51 27 51 7 17545 126 8 8 9018\\n',\n",
       " '144 | 10071 10074 27 10071 76 27 10074 10071 11169 10\\n',\n",
       " '354 | 6301 0 0 0 0 0 0 0 0 0\\n',\n",
       " '269 | 848 307 308 308 391 11 10 7 312 305\\n',\n",
       " '338 | 792 392 304 1112 1113 11 10 7 269 0\\n',\n",
       " '59 | 312 8487 8488 7 11 8487 85 307 308 7\\n',\n",
       " '343 | 11 1702 391 11 791 88 7 28832 28831 182\\n',\n",
       " '160 | 10 83 79 79 82 0 0 0 0 0\\n',\n",
       " '33 | 304 84 91 302 85 91 307 308 308 308\\n',\n",
       " '235 | 1455 1455 1369 1369 1369 59 1456 53 53 53\\n',\n",
       " '312 | 308 307 0 0 0 0 0 0 0 0\\n',\n",
       " '277 | 2403 992 2402 994 27 19 24845 24846 992 2402\\n',\n",
       " '55 | 27 1352 27 27 27 2817 1352 27 27 27\\n',\n",
       " '30 | 5286 18 5287 5286 5287 5288 5289 5288 5287 5289\\n',\n",
       " '17 | 186 2237 178 2237 2237 186 178 183 179 186\\n',\n",
       " '25 | 4874 4892 500 4879 61 4879 4893 4879 4879 4894\\n',\n",
       " '257 | 303 303 303 303 303 303 303 303 303 303\\n',\n",
       " '311 | 79 52 89 11 88 7 89 79 308 307\\n',\n",
       " '67 | 296 296 295 303 295 296 296 295 303 296\\n',\n",
       " '135 | 2214 2214 49 2214 2214 2214 2214 2214 2214 2214\\n',\n",
       " '32 | 122 51 7 27 681 2084 4982 179 11 684\\n',\n",
       " '46 | 7 4920 4920 0 0 0 0 0 0 0\\n',\n",
       " '213 | 1317 1556 1556 1278 1278 2609 1313 1285 1313 1311\\n',\n",
       " '363 | 11 80 7 52 79 111 10 80 79 79\\n',\n",
       " '72 | 27 22 9671 1104 1811 1635 1811 1635 27 21\\n',\n",
       " '316 | 14982 14982 14982 14982 14982 0 0 0 0 0\\n',\n",
       " '348 | 1114 1114 697 697 0 0 0 0 0 0\\n',\n",
       " '150 | 80 8018 80 52 111 11 87 85 88 10\\n',\n",
       " '23 | 51 19 4332 27 22 21 393 27 430 4332\\n',\n",
       " '35 | 5736 5736 5736 5736 5736 5736 5736 5737 5736 17\\n',\n",
       " '323 | 39 3475 7 3475 7 7 39 40 26 7\\n',\n",
       " '197 | 309 88 307 308 308 304 305 309 7 1674\\n',\n",
       " '233 | 189 190 191 192 189 192 190 191 8 8\\n',\n",
       " '380 | 5658 278 5656 8103 27 5657 44 305 18746 278\\n',\n",
       " '41 | 7 1369 1369 1369 59 1456 1456 1369 274 26\\n',\n",
       " '187 | 82 79 10 52 79 80 111 11 9 0\\n',\n",
       " '94 | 619 0 0 0 0 0 0 0 0 0\\n',\n",
       " '202 | 9483 19350 19354 19346 9494 19357 18571 19351 9488 9488\\n',\n",
       " '150 | 11 91 177 179 177 177 177 91 91 91\\n',\n",
       " '266 | 79 79 81 87 10 88 81 79 81 112\\n',\n",
       " '107 | 232 2885 3731 3732 3730 3733 3731 3732 3733 3730\\n',\n",
       " '297 | 306 303 303 303 303 303 303 303 303 303\\n',\n",
       " '207 | 373 18 378 27 51 373 178 53 470 373\\n',\n",
       " '225 | 280 19870 17141 17140 7 178 325 19 17141 10\\n',\n",
       " '305 | 53 7 4133 4132 4135 4135 4131 7 4133 21\\n',\n",
       " '398 | 224 3884 27 331 221 32260 125 22 19 56\\n',\n",
       " '254 | 23390 407 23390 5690 119 23390 17 23390 23390 407\\n',\n",
       " '394 | 5908 5907 5906 52 126 10 88 304 7 11\\n',\n",
       " '397 | 6847 6846 1240 6846 6847 6847 1240 1344 6846 925\\n',\n",
       " '245 | 7821 7821 5412 22763 5414 18713 22766 88 256 12858\\n',\n",
       " '31 | 186 186 183 186 186 186 179 183 186 183\\n',\n",
       " '220 | 307 308 310 311 7 85 91 91 91 7\\n',\n",
       " '46 | 4956 4958 4957 4958 4957 4956 4958 4956 4956 4958\\n',\n",
       " '48 | 7136 1344 6847 6846 6846 925 1344 83 6847 1240\\n',\n",
       " '168 | 295 295 295 303 295 296 296 296 296 296\\n',\n",
       " '136 | 307 308 1006 21 22 27 1006 1006 18 19\\n',\n",
       " '141 | 5073 5073 13659 5073 13659 5073 5073 4685 4685 5073\\n',\n",
       " '298 | 81 88 7 79 81 81 79 88 81 81\\n',\n",
       " '35 | 10 51 5729 5729 5729 5729 5729 51 5729 5729\\n',\n",
       " '101 | 7 123 121 122 14 8951 2757 2758 122 2758\\n',\n",
       " '129 | 177 182 8532 179 184 183 11 177 83 8532\\n',\n",
       " '181 | 17662 1567 422 422 0 0 0 0 0 0\\n',\n",
       " '308 | 8 16 10 8 118 118 118 118 118 118\\n',\n",
       " '387 | 27 31549 67 65 1678 886 227 1678 307 308\\n',\n",
       " '322 | 11 7 7 14037 14037 14037 14037 14037 14037 14037\\n',\n",
       " '84 | 119 0 0 0 0 0 0 0 0 0\\n',\n",
       " '6 | 7 7 10 11 1188 10 7 17 11 7\\n',\n",
       " '208 | 1112 1112 1113 302 91 7 996 91 91 91\\n',\n",
       " '358 | 183 178 186 179 186 178 178 183 186 186\\n',\n",
       " '286 | 303 295 303 303 303 303 306 303 303 303\\n',\n",
       " '296 | 88 11 11 10 11 11 11 52 10 52\\n',\n",
       " '178 | 183 179 11 178 177 91 179 7 17280 17281\\n',\n",
       " '332 | 7408 7408 7408 7 7408 7408 7408 7408 7408 7408\\n',\n",
       " '278 | 311 85 88 88 175 175 8 8 16 8\\n',\n",
       " '147 | 304 91 302 91 91 91 308 307 308 308\\n',\n",
       " '62 | 6 2 3 4 11 7 7 10 11 11\\n',\n",
       " '59 | 60 3594 8079 60 60 3594 8079 60 3594 3624\\n',\n",
       " '224 | 190 192 189 192 8 190 191 190 191 189\\n',\n",
       " '156 | 47 178 45 48 177 179 178 179 686 45\\n',\n",
       " '332 | 4088 4088 182 177 179 91 183 91 91 183\\n',\n",
       " '15 | 83 117 117 52 81 89 81 81 81 2153\\n',\n",
       " '250 | 513 337 337 337 337 337 337 337 337 337\\n',\n",
       " '134 | 14041 14041 14041 14041 14041 14041 14041 14041 14041 14041\\n',\n",
       " '128 | 133 10223 27 49 10208 10208 133 10223 49 27\\n',\n",
       " '160 | 11 682 684 681 684 11 424 682 1204 424\\n',\n",
       " '3 | 10 537 21 10 18 19 65 537 22 537\\n',\n",
       " '174 | 1928 1877 1877 51 49 825 667 7 1934 119\\n',\n",
       " '96 | 318 318 318 318 696 304 608 17 698 686\\n',\n",
       " '34 | 3176 3174 27 3174 690 3177 3174 31 3174 3174\\n',\n",
       " '298 | 1287 26366 1287 462 2585 464 464 2585 1593 1593\\n',\n",
       " '21 | 3 8 1 9 91 302 312 91 9 307\\n',\n",
       " '175 | 52 307 308 308 470 470 53 178 178 178\\n',\n",
       " '96 | 7119 7117 871 27 22 7489 7488 3306 21 132\\n',\n",
       " '360 | 10 7 7 39 26 7 26 7 7 29791\\n',\n",
       " '92 | 51 11 5529 91 11 1206 27 5529 10 269\\n',\n",
       " '66 | 303 303 296 303 303 303 303 303 303 303\\n',\n",
       " '208 | 1679 27 1681 19906 11 224 27 22 56 21\\n',\n",
       " '166 | 7872 7882 7876 7872 7884 16791 7890 7891 9500 7872\\n',\n",
       " '397 | 7 11 7 11 53 11 7 53 7 53\\n',\n",
       " '240 | 119 7395 36 5072 5072 1665 1665 1665 1665 5073\\n',\n",
       " '286 | 295 294 303 295 296 295 295 295 303 296\\n',\n",
       " '40 | 10 52 113 81 11 81 89 81 79 1063\\n',\n",
       " '23 | 4255 55 19 4256 4252 49 4257 4252 59 309\\n',\n",
       " '332 | 183 183 217 183 183 217 217 217 183 183\\n',\n",
       " '131 | 303 299 303 299 299 299 299 303 299 299\\n',\n",
       " '181 | 12959 5073 1665 17817 17817 17817 9848 17817 4685 17817\\n',\n",
       " '231 | 183 183 181 183 181 183 183 183 181 181\\n',\n",
       " '145 | 1638 7 311 699 312 91 893 668 800 11\\n',\n",
       " '360 | 178 179 178 177 11 179 177 83 182 10\\n',\n",
       " '203 | 22 21 27 22 21 6208 6212 65 27 65\\n',\n",
       " '126 | 332 753 758 753 73 91 11 694 32 2471\\n',\n",
       " '193 | 11 7 312 88 27 11 52 80 85 111\\n',\n",
       " '59 | 3594 8079 48 8573 5139 60 264 48 8574 8575\\n',\n",
       " '164 | 1388 1387 7 686 793 1689 1394 517 51 1026\\n',\n",
       " '264 | 612 622 619 615 614 614 6790 625 0 0\\n',\n",
       " '202 | 9344 9344 40 19343 19353 19343 19458 19343 9344 26\\n',\n",
       " '345 | 1114 457 533 1558 2571 1558 2571 85 1114 470\\n',\n",
       " '103 | 5652 591 12180 1319 1319 370 1319 369 370 7238\\n',\n",
       " '59 | 8107 3624 8079 646 60 8107 647 3624 8079 48\\n',\n",
       " '134 | 49 14007 2281 14007 2282 119 179 4989 4989 49\\n',\n",
       " '253 | 13358 1137 1137 13358 1137 1136 1138 1568 1137 13358\\n',\n",
       " '30 | 5320 5320 5320 183 186 27 5320 183 5320 186\\n',\n",
       " '171 | 1010 441 1153 16919 16920 441 1011 1009 1154 444\\n',\n",
       " '256 | 303 303 303 303 303 303 303 303 303 303\\n',\n",
       " '55 | 26 40 39 40 7 7 7 7681 7 288\\n',\n",
       " '83 | 91 11 179 186 83 1245 179 1245 178 179\\n',\n",
       " '30 | 86 88 86 85 10 89 308 307 0 0\\n',\n",
       " '345 | 1112 1112 1113 7 7 838 838 11 68 504\\n',\n",
       " '42 | 19 52 10 52 398 398 398 401 51 224\\n',\n",
       " '21 | 2910 2909 2258 2909 19 2258 21 27 2909 22\\n',\n",
       " '159 | 307 308 0 0 0 0 0 0 0 0\\n',\n",
       " '84 | 7 11 10419 4722 10416 10420 10419 10419 10419 4722\\n',\n",
       " '144 | 76 10 10074 10074 27 10074 27 11170 10074 10071\\n',\n",
       " '311 | 85 116 0 0 0 0 0 0 0 0\\n',\n",
       " '19 | 303 0 0 0 0 0 0 0 0 0\\n',\n",
       " '121 | 2805 91 310 302 311 2806 2805 91 2805 2806\\n',\n",
       " '269 | 91 91 91 307 308 308 304 88 10 11\\n',\n",
       " '96 | 3083 3083 3083 3083 3083 3083 3083 3083 3083 3083\\n',\n",
       " '394 | 286 286 286 286 286 286 286 286 286 286\\n',\n",
       " '306 | 26725 26725 26725 26725 26725 26725 26725 26725 26725 26725\\n',\n",
       " '76 | 2822 7477 11 2822 2826 11 11 2824 2826 2822\\n',\n",
       " '97 | 119 1 2 3 6 4 5 293 0 0\\n',\n",
       " '329 | 22 19 21 578 3401 3401 3400 390 430 27\\n',\n",
       " '338 | 88 119 5 6 2 1 3 4 3 6\\n',\n",
       " '162 | 308 308 308 7 14313 14313 330 19 18 14313\\n',\n",
       " '63 | 318 318 696 304 304 91 302 704 91 91\\n',\n",
       " '113 | 619 623 0 0 0 0 0 0 0 0\\n',\n",
       " '319 | 27 27586 27 5056 21 178 27 27586 27 27586\\n',\n",
       " '224 | 7263 7260 27 110 377 423 66 7263 7262 7260\\n',\n",
       " '99 | 302 310 311 668 91 2805 2807 2806 289 289\\n',\n",
       " '282 | 2036 244 2036 2036 2036 2033 2036 244 2036 2036\\n',\n",
       " '212 | 925 1345 1240 1345 1346 1240 1345 1346 925 1344\\n',\n",
       " '316 | 10 10 85 52 85 87 88 79 126 88\\n',\n",
       " '237 | 179 4155 51 51 51 88 53 7 5308 7\\n',\n",
       " '128 | 441 3059 7 667 441 667 348 441 667 3059\\n',\n",
       " '11 | 179 83 307 308 308 11 7 81 79 81\\n',\n",
       " '150 | 87 126 85 11 52 10 79 126 85 85\\n',\n",
       " '144 | 180 182 182 177 178 181 10 178 83 181\\n',\n",
       " '35 | 49 331 424 51 10 7 269 52 7 5800\\n',\n",
       " '394 | 286 286 286 286 0 0 0 0 0 0\\n',\n",
       " '201 | 295 296 295 296 295 296 296 296 296 296\\n',\n",
       " '394 | 79 116 11 302 91 113 118 7 2999 118\\n',\n",
       " '190 | 296 295 295 294 294 295 303 303 295 295\\n',\n",
       " '177 | 303 303 303 303 303 303 303 175 175 303\\n',\n",
       " '266 | 91 91 91 307 308 7 88 52 10 89\\n',\n",
       " '52 | 7 88 88 7 7 11 7 11 7 878\\n',\n",
       " '330 | 89 53 88 7 53 88 53 7 7 53\\n',\n",
       " '167 | 49 19 307 1217 66 27 1217 51 19 307\\n',\n",
       " '228 | 21662 19 10 21662 21662 10 52 21662 22 51\\n',\n",
       " '370 | 337 337 337 337 10 52 511 514 337 513\\n',\n",
       " '148 | 11640 15484 11640 11640 11640 886 886 11640 11640 11640\\n',\n",
       " '348 | 88 85 127 88 126 85 87 10 11 85\\n',\n",
       " '22 | 51 244 244 51 51 244 51 51 244 244\\n',\n",
       " '205 | 127 11 0 0 0 0 0 0 0 0\\n',\n",
       " '175 | 172 677 673 672 678 674 675 676 679 552\\n',\n",
       " '118 | 296 296 296 296 296 296 296 296 296 295\\n',\n",
       " '59 | 3592 60 3593 8079 8111 60 8079 60 8111 8079\\n',\n",
       " '157 | 302 91 85 7 91 91 91 1 6 4\\n',\n",
       " '21 | 49 2909 27 27 2258 21 22 7 51 3062\\n',\n",
       " '258 | 7 269 39 26 41 39 40 26 307 308\\n',\n",
       " '156 | 91 11 11 91 11 11 7 53 0 0\\n',\n",
       " '96 | 10074 11170 10074 11169 10071 27 10074 10071 27 21\\n',\n",
       " '270 | 7 5222 7649 11 7 2967 2968 5222 7649 7649\\n',\n",
       " '307 | 52 51 179 11 26750 51 10 647 19 391\\n',\n",
       " '140 | 14871 14872 14871 14871 14871 14871 14871 14871 1063 14871\\n',\n",
       " '135 | 72 14106 381 72 27 14105 14106 21 72 14106\\n',\n",
       " '137 | 179 179 177 91 91 91 91 91 91 91\\n',\n",
       " '397 | 111 7 7 10 11 39 10 11 26 7\\n',\n",
       " '202 | 9498 9488 5474 9471 5436 9488 5474 9471 9480 19343\\n',\n",
       " '132 | 87 87 87 87 87 87 87 87 87 87\\n',\n",
       " '31 | 89 89 85 88 5 6 3 2 1 2\\n',\n",
       " '241 | 1240 1344 1344 1240 925 1344 1240 1344 925 1344\\n',\n",
       " '144 | 10 27 22 51 392 51 243 392 19 243\\n',\n",
       " '317 | 7856 27022 9379 27022 7826 27427 27022 27022 9369 27022\\n',\n",
       " '96 | 875 11 27 11 91 875 875 91 875 27\\n',\n",
       " '311 | 192 192 188 8 191 189 190 2376 190 192\\n',\n",
       " '339 | 7408 7408 7408 7408 7408 7408 7408 7408 7408 7408\\n',\n",
       " '56 | 53 51 7 838 838 504 68 11 838 838\\n',\n",
       " '78 | 811 5508 5508 243 79 5508 5508 1240 925 3313\\n',\n",
       " '220 | 308 307 302 91 304 91 310 311 300 697\\n',\n",
       " '368 | 11 9 1 230 0 0 0 0 0 0\\n',\n",
       " '159 | 304 304 704 91 91 302 10 11 307 308\\n',\n",
       " '255 | 303 303 307 308 303 303 303 303 303 303\\n',\n",
       " '10 | 1563 1563 1563 1563 1563 1563 1563 1563 1563 1563\\n',\n",
       " '270 | 24554 24572 24554 24572 24554 24572 24554 24572 24554 24554\\n',\n",
       " '249 | 5073 5073 5073 1608 5073 1608 5073 5073 5079 5073\\n',\n",
       " '57 | 7822 7833 7825 7831 7834 7841 7808 7842 7808 5436\\n',\n",
       " '148 | 126 88 85 85 85 10 89 88 89 10\\n',\n",
       " '147 | 11 7 0 0 0 0 0 0 0 0\\n',\n",
       " '135 | 431 179 177 10 177 179 184 180 178 178\\n',\n",
       " '359 | 6513 11 10 51 52 7 7 29729 29729 7\\n',\n",
       " '19 | 303 303 299 303 303 303 303 303 303 303\\n',\n",
       " '61 | 303 303 303 303 303 303 303 303 303 303\\n',\n",
       " '138 | 8 175 175 175 175 1 9 9 175 175\\n',\n",
       " '325 | 10 6669 80 80 52 111 6669 85 87 11\\n',\n",
       " '295 | 7 52 10 7 3106 226 11 1118 11 3106\\n',\n",
       " '374 | 10580 10580 10580 998 11 49 993 31105 995 10579\\n',\n",
       " '169 | 295 296 295 296 295 296 295 296 296 296\\n',\n",
       " '272 | 109 7 7 7 681 7 684 682 123 682\\n',\n",
       " '213 | 11 1313 1313 1313 1313 48 517 476 1623 264\\n',\n",
       " '225 | 21667 1248 1246 21668 21669 330 1251 1246 21669 328\\n',\n",
       " '204 | 6221 177 13734 13734 13734 13734 13734 4615 13736 4615\\n',\n",
       " '38 | 304 303 306 310 311 303 7 295 295 295\\n',\n",
       " '5 | 11 11 49 11 1066 1066 1066 1066 1066 309\\n',\n",
       " '300 | 303 303 306 303 295 295 294 294 295 294\\n',\n",
       " '226 | 1344 1240 1345 925 1344 1240 1344 925 1240 1344\\n',\n",
       " '175 | 308 308 308 308 308 308 308 308 308 308\\n',\n",
       " '25 | 59 4604 7 746 751 4605 7 4606 4606 686\\n',\n",
       " '70 | 126 88 85 127 88 52 111 80 11 7\\n',\n",
       " '289 | 25373 25374 25373 25374 25373 128 25376 256 25376 254\\n',\n",
       " '276 | 1396 1261 2585 1397 329 330 331 328 2585 7\\n',\n",
       " '231 | 177 182 183 119 177 177 1244 179 185 178\\n',\n",
       " '128 | 84 85 52 111 85 6669 80 52 111 80\\n',\n",
       " '37 | 1320 1537 1217 1320 1537 1217 1217 1217 0 0\\n',\n",
       " '162 | 3957 22 27 805 51 27 22 21 198 3957\\n',\n",
       " '282 | 925 1240 7 6262 1364 1363 1361 1362 1240 1344\\n',\n",
       " '126 | 838 838 269 11 838 838 68 27 307 308\\n',\n",
       " '393 | 236 236 236 236 88 85 85 236 236 236\\n',\n",
       " '394 | 286 286 286 286 286 286 286 286 286 286\\n',\n",
       " '180 | 48 2381 3322 27 392 264 392 665 681 7\\n',\n",
       " '131 | 295 296 296 296 296 296 296 296 296 295\\n',\n",
       " '227 | 7 7 21735 7 12995 243 7 21764 243 7\\n',\n",
       " '202 | 5414 7821 7822 7822 5355 7825 7826 7826 7824 7821\\n',\n",
       " '225 | 183 181 178 181 181 124 181 181 181 181\\n',\n",
       " '80 | 884 884 884 884 884 884 884 884 884 884\\n',\n",
       " '128 | 36 5072 5072 36 36 5074 36 5072 1665 1665\\n',\n",
       " '310 | 27 19 682 686 27 684 27 686 19 21\\n',\n",
       " '34 | 690 3174 31 3177 690 3174 3176 690 31 3177\\n',\n",
       " '336 | 10 85 85 10 7 88 8043 11 52 80\\n',\n",
       " '204 | 11 7 1 9 0 0 0 0 0 0\\n',\n",
       " '126 | 308 7 3768 11 118 11 3768 3768 2338 12892\\n',\n",
       " '349 | 56 29262 19 61 18 62 236 10 29262 27\\n',\n",
       " '24 | 296 295 296 296 296 296 295 296 296 303\\n',\n",
       " '237 | 2118 7 49 22406 22407 27 22406 21 45 22\\n',\n",
       " '364 | 30094 7 30094 11 7 7 14597 14597 7 26\\n',\n",
       " '317 | 16165 16167 16164 16156 16162 16157 16156 16163 16165 16171\\n',\n",
       " '231 | 22 47 52 13188 21942 177 13191 19 45 13191\\n',\n",
       " '298 | 21 1175 3187 2264 1623 48 27 265 1176 1173\\n',\n",
       " '52 | 118 118 118 118 118 0 0 0 0 0\\n',\n",
       " '356 | 27 28997 73 51 843 840 64 841 842 793\\n',\n",
       " '266 | 88 7 88 7 24120 24120 24120 24120 18879 18880\\n',\n",
       " '281 | 39 26 39 40 7 39 26 39 40 7\\n',\n",
       " '59 | 3005 3005 3005 3005 3005 3005 3005 3005 3005 3005\\n',\n",
       " '186 | 620 614 1366 1366 614 1366 1366 1366 1194 178\\n',\n",
       " '249 | 1665 13129 1665 5073 5073 13129 9848 13129 4685 9848\\n',\n",
       " '164 | 308 0 0 0 0 0 0 0 0 0\\n',\n",
       " '213 | 20602 20603 1558 1319 1287 1558 1319 1763 3502 3502\\n',\n",
       " '96 | 1113 1112 1113 1112 1113 1112 11 91 302 7\\n',\n",
       " '213 | 10092 793 1851 793 11 1853 1853 1851 1851 1853\\n',\n",
       " '391 | 18 69 2182 59 27 21 22 573 19 572\\n',\n",
       " '216 | 8 240 8 240 240 8 1053 110 10 1053\\n',\n",
       " '329 | 6790 612 6790 79 611 4381 88 27989 17 614\\n',\n",
       " '74 | 10 89 88 88 7 224 1129 1130 224 18\\n',\n",
       " '278 | 7446 4249 122 2758 7445 123 122 4249 123 11\\n',\n",
       " '160 | 9363 5409 9363 5409 5410 4695 9363 5411 9363 5409\\n',\n",
       " '59 | 60 3624 44 44 8079 60 3624 60 8079 60\\n',\n",
       " '30 | 217 179 88 179 183 178 183 217 179 10\\n',\n",
       " '332 | 16269 27 48 28262 34 9854 33 49 15473 15474\\n',\n",
       " '381 | 1240 1345 925 1346 1346 1345 1360 1359 1240 1344\\n',\n",
       " '47 | 6955 6957 6959 517 862 793 6960 6955 27 6956\\n',\n",
       " '238 | 91 11 91 91 11 91 11 11 838 838\\n',\n",
       " '151 | 1344 1240 1346 1344 1240 1360 1359 1359 1360 1240\\n',\n",
       " '370 | 304 380 309 309 309 7 11 30630 30631 21\\n',\n",
       " '317 | 16169 16161 16179 27527 27540 27540 27540 27540 16161 16161\\n',\n",
       " '71 | 5474 9535 9535 9535 9551 9535 9551 7 9551 7\\n',\n",
       " '354 | 2830 2822 2822 2822 13789 2830 2822 9176 2824 11\\n',\n",
       " '301 | 3296 3296 3296 3297 3300 3300 3296 839 10969 3296\\n',\n",
       " '192 | 308 307 91 11 11 11 18767 793 91 11\\n',\n",
       " '44 | 1365 1240 6847 1363 11 12 1359 6846 6847 811\\n',\n",
       " '384 | 299 299 7 295 296 299 299 299 7 7\\n',\n",
       " '232 | 10 22 19 52 51 1173 10 11 1175 19\\n',\n",
       " '209 | 8 8 51 10 108 109 109 8 8 19990\\n',\n",
       " '4 | 609 614 614 829 7 895 49 614 611 895\\n',\n",
       " '294 | 11 9 1 119 9 0 0 0 0 0\\n',\n",
       " '45 | 1156 178 185 179 179 183 217 178 11 178\\n',\n",
       " '147 | 89 88 7 8023 839 8023 8023 3758 2843 8023\\n',\n",
       " '252 | 318 318 318 318 696 309 304 91 302 91\\n',\n",
       " '23 | 257 253 253 254 59 3984 253 309 256 3985\\n',\n",
       " '377 | 111 80 52 111 80 85 10 85 87 11\\n',\n",
       " '96 | 11335 11335 11337 11335 11337 11336 11334 11335 11 7\\n',\n",
       " '332 | 27 11 10 27 51 936 8166 8165 27 19\\n',\n",
       " '128 | 11 5073 5073 13693 5073 5073 5073 5073 5073 3291\\n',\n",
       " '78 | 79 7 80 111 11 10 52 79 82 79\\n',\n",
       " '130 | 26 39 39 26 40 39 40 39 39 40\\n',\n",
       " '69 | 1240 1345 1346 1344 1346 1240 1345 1240 1344 925\\n',\n",
       " '214 | 925 1344 1346 10 22 20834 20833 21 8123 19\\n',\n",
       " '137 | 305 1309 1308 309 1647 14550 1287 1287 311 871\\n',\n",
       " '199 | 88 10 86 88 89 10 52 86 11 88\\n',\n",
       " '253 | 88 307 308 308 88 88 0 0 0 0\\n',\n",
       " '270 | 72 27 7653 7649 22 21 7655 27 11 7650\\n',\n",
       " '207 | 6629 21 2146 2148 6628 2146 2528 265 684 6629\\n',\n",
       " '269 | 391 7 4967 4966 4968 4968 4968 312 24508 91\\n',\n",
       " '379 | 11 91 838 11 504 11 970 838 11 504\\n',\n",
       " '122 | 186 88 178 178 88 7 7 7 79 82\\n',\n",
       " '178 | 7 51 307 308 10 27 17369 17370 17369 11\\n',\n",
       " '297 | 296 296 296 296 303 296 296 296 296 296\\n',\n",
       " '3 | 81 240 8 240 8 10 564 89 564 11\\n',\n",
       " '357 | 3313 8 3313 19 19 51 4415 882 591 591\\n',\n",
       " '28 | 5072 5072 1665 1665 1665 1665 1665 1665 1665 5073\\n',\n",
       " '298 | 1175 7 1176 1173 1176 1175 1173 1173 7 1176\\n',\n",
       " '155 | 1344 1240 925 925 925 1240 1344 925 1240 1344\\n',\n",
       " '299 | 6303 6303 6303 7 178 180 177 181 7 179\\n',\n",
       " '181 | 7 7 11 7 11 7 15410 15410 15410 15410\\n',\n",
       " '30 | 111 10 7 7 80 85 7 11 85 85\\n',\n",
       " '189 | 7 7 7 10 11 11 7 10 7 85\\n',\n",
       " '46 | 133 6876 11 88 88 88 793 88 7 27\\n',\n",
       " '35 | 11 6006 6007 51 6007 6007 6007 6007 6006 172\\n',\n",
       " '199 | 88 81 118 118 118 118 118 85 79 81\\n',\n",
       " '293 | 309 694 32 2471 3789 11 310 311 91 668\\n',\n",
       " '358 | 181 181 183 181 183 181 181 181 183 183\\n',\n",
       " '262 | 889 890 869 686 791 10 686 309 309 686\\n',\n",
       " '186 | 11 431 3520 11 1173 52 1173 1175 19 18\\n',\n",
       " '72 | 3467 3467 1287 1287 1104 1104 1319 1319 1319 1635\\n',\n",
       " '282 | 85 10 111 80 52 111 80 10 87 88\\n',\n",
       " '280 | 7 11 91 302 308 307 308 7 91 310\\n',\n",
       " '311 | 192 8 190 189 189 190 191 192 8 191\\n',\n",
       " '248 | 671 680 939 939 680 939 939 680 939 939\\n',\n",
       " '187 | 11703 2705 2703 2702 18269 2702 18269 18269 2702 2705\\n',\n",
       " '380 | 308 307 308 838 11 504 393 11 838 504\\n',\n",
       " '394 | 3768 11 10 7 52 7 1009 1009 1010 441\\n',\n",
       " '394 | 3005 3005 3005 3005 3005 3005 3005 3005 49 3005\\n',\n",
       " '284 | 83 178 183 182 177 179 185 177 184 11\\n',\n",
       " '193 | 11 11 11 11 11 11 11 11 11 11\\n',\n",
       " '354 | 1244 1245 179 186 183 183 179 177 178 184\\n',\n",
       " '164 | 16687 16687 16687 11 91 11 1034 18 19 1034\\n',\n",
       " '275 | 308 4351 0 0 0 0 0 0 0 0\\n',\n",
       " '345 | 2821 10561 307 308 11 2821 2843 3759 3760 11\\n',\n",
       " '301 | 91 302 7 26437 26437 26437 10 186 7 177\\n',\n",
       " '290 | 303 303 303 303 303 8 8 1232 8 1232\\n',\n",
       " '183 | 609 728 4380 728 729 614 18018 613 4380 611\\n',\n",
       " '248 | 678 676 172 6877 217 172 6877 11 217 6877\\n',\n",
       " '47 | 186 186 183 186 186 183 183 186 186 179\\n',\n",
       " '366 | 303 303 303 303 303 303 303 303 303 303\\n',\n",
       " ...]"
      ]
     },
     "execution_count": 132,
     "metadata": {},
     "output_type": "execute_result"
    }
   ],
   "source": [
    "VW_format = open(os.path.join(path_to_data, 'train_part.vw'), 'r')\n",
    "VW_format.readlines()"
   ]
  },
  {
   "cell_type": "code",
   "execution_count": 133,
   "metadata": {},
   "outputs": [],
   "source": [
    "VW_format.close()"
   ]
  },
  {
   "cell_type": "markdown",
   "metadata": {},
   "source": [
    "### 4.2 Model training"
   ]
  },
  {
   "cell_type": "markdown",
   "metadata": {},
   "source": [
    "__Next, we train VW model__."
   ]
  },
  {
   "cell_type": "code",
   "execution_count": 134,
   "metadata": {},
   "outputs": [],
   "source": [
    "train_part_vw = os.path.join(path_to_data, 'train_part.vw')\n",
    "valid_vw = os.path.join(path_to_data, 'valid.vw')\n",
    "train_vw = os.path.join(path_to_data, 'train.vw')\n",
    "test_vw = os.path.join(path_to_data, 'test.vw')\n",
    "model = os.path.join(path_to_data, 'vw_model.vw')\n",
    "pred = os.path.join(path_to_data, 'vw_pred.csv')"
   ]
  },
  {
   "cell_type": "code",
   "execution_count": 135,
   "metadata": {},
   "outputs": [
    {
     "name": "stdout",
     "output_type": "stream",
     "text": [
      "Wall time: 37.8 s\n"
     ]
    }
   ],
   "source": [
    "%%time\n",
    "!vw -d train_part.vw \\\n",
    "--oaa 400 \\\n",
    "--passes 3 \\\n",
    "-c \\\n",
    "-k \\\n",
    "-b 26 \\\n",
    "--random_seed 17 \\\n",
    "-f train_model.vw \\\n",
    "--quiet \\"
   ]
  },
  {
   "cell_type": "markdown",
   "metadata": {},
   "source": [
    "__Make predictions with the fittied model__"
   ]
  },
  {
   "cell_type": "code",
   "execution_count": 137,
   "metadata": {},
   "outputs": [
    {
     "name": "stdout",
     "output_type": "stream",
     "text": [
      "Wall time: 794 ms\n"
     ]
    }
   ],
   "source": [
    "%%time\n",
    "!vw -i train_model.vw -t -d valid.vw \\\n",
    "-p vw_valid_pred.csv \\\n",
    "--quiet \\"
   ]
  },
  {
   "cell_type": "markdown",
   "metadata": {},
   "source": [
    "__For comparsion, we fit the SGDClassifer and LogisticRegressor.__"
   ]
  },
  {
   "cell_type": "code",
   "execution_count": 138,
   "metadata": {},
   "outputs": [],
   "source": [
    "logit = LogisticRegression(random_state = 17, n_jobs =-1)\n",
    "sgd_logit = SGDClassifier(loss = 'log', max_iter = 3, random_state = 17, n_jobs =-1)"
   ]
  },
  {
   "cell_type": "code",
   "execution_count": 139,
   "metadata": {},
   "outputs": [
    {
     "name": "stdout",
     "output_type": "stream",
     "text": [
      "Wall time: 21min 5s\n"
     ]
    }
   ],
   "source": [
    "%%time\n",
    "logit.fit(X_train_part_sparse, y_train_part)\n",
    "y_logit_predict = logit.predict(X_valid_sparse)"
   ]
  },
  {
   "cell_type": "code",
   "execution_count": 140,
   "metadata": {},
   "outputs": [
    {
     "name": "stdout",
     "output_type": "stream",
     "text": [
      "Wall time: 11.2 s\n"
     ]
    }
   ],
   "source": [
    "%%time\n",
    "sgd_logit.fit(X_train_part_sparse, y_train_part)\n",
    "y_sgd_logit_predict = sgd_logit.predict(X_valid_sparse)"
   ]
  },
  {
   "cell_type": "markdown",
   "metadata": {},
   "source": [
    "So, let's compare the results on the validation sample."
   ]
  },
  {
   "cell_type": "code",
   "execution_count": 142,
   "metadata": {},
   "outputs": [
    {
     "name": "stdout",
     "output_type": "stream",
     "text": [
      "VW score is 0.34541741128414605\n",
      "SGD score is 0.2910755315657026\n",
      "LogReg 3 is 0.36292352018673185\n"
     ]
    }
   ],
   "source": [
    "with open('vw_valid_pred.csv') as prediction_file:\n",
    "    predictions = [int(label) for label in prediction_file.readlines()]\n",
    "\n",
    "vw_valid_acc = accuracy_score(y_valid_for_vw, predictions)\n",
    "print 'VW score is', vw_valid_acc\n",
    "sgd_valid_acc = accuracy_score(y_valid, y_sgd_logit_predict)\n",
    "print 'SGD score is', sgd_valid_acc\n",
    "logit_valid_acc = accuracy_score(y_valid, y_logit_predict)\n",
    "print 'LogReg 3 is', logit_valid_acc"
   ]
  },
  {
   "cell_type": "markdown",
   "metadata": {},
   "source": [
    "From the results we see that __LogisticReggressor__ has the highest score, however, the ddiference from __VW__ is not big while the training time is much larger."
   ]
  },
  {
   "cell_type": "markdown",
   "metadata": {},
   "source": [
    "Next, we compare the classifers using the test data from the competition. Let's train them using entire training sample and make predictions using the test set."
   ]
  },
  {
   "cell_type": "markdown",
   "metadata": {},
   "source": [
    "__VW__"
   ]
  },
  {
   "cell_type": "code",
   "execution_count": 143,
   "metadata": {},
   "outputs": [
    {
     "name": "stdout",
     "output_type": "stream",
     "text": [
      "Wall time: 43.9 s\n"
     ]
    }
   ],
   "source": [
    "%%time\n",
    "!vw -d train.vw \\\n",
    "--oaa 400 \\\n",
    "--passes 3 \\\n",
    "-c \\\n",
    "-k \\\n",
    "-b 26 \\\n",
    "--random_seed 17 \\\n",
    "-f vw_model.vw \\\n",
    "--quiet \\"
   ]
  },
  {
   "cell_type": "code",
   "execution_count": 144,
   "metadata": {},
   "outputs": [
    {
     "name": "stdout",
     "output_type": "stream",
     "text": [
      "Wall time: 750 ms\n"
     ]
    }
   ],
   "source": [
    "%%time\n",
    "!vw -i vw_model.vw -t -d test.vw \\\n",
    "-p vw_pred.txt \\\n",
    "--quiet \\"
   ]
  },
  {
   "cell_type": "markdown",
   "metadata": {},
   "source": [
    "__SGD and LogReg__"
   ]
  },
  {
   "cell_type": "code",
   "execution_count": 145,
   "metadata": {},
   "outputs": [
    {
     "name": "stdout",
     "output_type": "stream",
     "text": [
      "Wall time: 35min 21s\n"
     ]
    }
   ],
   "source": [
    "%%time\n",
    "logit.fit(X_train_sparse, train_df_400['user_id'])\n",
    "y_logit_predict = logit.predict(X_test_sparse)"
   ]
  },
  {
   "cell_type": "code",
   "execution_count": 146,
   "metadata": {},
   "outputs": [],
   "source": [
    "sgd_logit.fit(X_train_sparse, train_df_400['user_id'])\n",
    "y_sgd_logit_predict = sgd_logit.predict(X_test_sparse)"
   ]
  },
  {
   "cell_type": "markdown",
   "metadata": {},
   "source": [
    "__When the predictions uploaded, we obtain the following scores:__\n",
    "\n",
    " - VW - 0.18768\n",
    " - SGD - 0.17490\n",
    " - LogReg - 0.19887"
   ]
  },
  {
   "cell_type": "markdown",
   "metadata": {},
   "source": [
    "We see the same tendency as we saw during training. __LogReg__ gives the highest score. However, we must pay for this by the computational time."
   ]
  },
  {
   "cell_type": "markdown",
   "metadata": {},
   "source": [
    "### 4.3 Conclusions"
   ]
  },
  {
   "cell_type": "markdown",
   "metadata": {},
   "source": [
    "We learned VW library. The library gives an opportunity to solve problems much faster than __LogReg__ classifier losing some accuracy. However, for the same compuational time as for __SGDClassifier__, __VW__ gives a more accurate solution. Further improvements of the scores can be made using feature extraction as in the previous part."
   ]
  },
  {
   "cell_type": "markdown",
   "metadata": {},
   "source": [
    "# Part 5 - Overall project conclusions"
   ]
  },
  {
   "cell_type": "markdown",
   "metadata": {},
   "source": [
    "In this project, we perfomed many steps which required in data science: data preprocessing, features extraction and visualization, algorithm selsection, algorithm tuning, making conlcusions from the obtained results. All these steps are important to use the data efficiently and make a use of it in real life applications. More specifically, making representable data features and finding good hyperparameters are extremely useful. At the same time, depending on the task, we may sacrifice model accuracy but use faster algorithms and libraries such as SGDClassifier or VW. Generally, we can say that the skills obtained in the project can be applied for any data science task."
   ]
  },
  {
   "cell_type": "markdown",
   "metadata": {},
   "source": [
    "# Appendix A - Part 1 functions"
   ]
  },
  {
   "cell_type": "code",
   "execution_count": 6,
   "metadata": {},
   "outputs": [],
   "source": [
    "def prepare_train_set(path_to_csv_files, session_length = 10):\n",
    "    \n",
    "    my_dict = defaultdict( int )\n",
    "    data_frames = []\n",
    "    user_id_frame = []\n",
    "    site_id = 0\n",
    "    user_id = 0\n",
    "    \n",
    "    \n",
    "    #for file_ in tqdm_notebook(glob(path_to_csv_files + '/*.csv')): #Can be used to see iterations\n",
    "    for file_ in glob(path_to_csv_files + '/*.csv'):\n",
    "        \n",
    "        data = pd.read_csv(file_)\n",
    "        data = data['site']\n",
    "        site_list = []\n",
    "        \n",
    "        #Iterate over the dictionary\n",
    "        for site in data:\n",
    "            my_dict[site] += 1\n",
    "    \n",
    "    #Order the dictionary and enumerate the sites\n",
    "    ordered_dict = OrderedDict(sorted(my_dict.items(), key=lambda t: t[1]))\n",
    "    i = 0\n",
    "    for key, value in ordered_dict.iteritems():\n",
    "        i += 1\n",
    "        ordered_dict[key] = (i, value)\n",
    "    my_dict = dict(ordered_dict)\n",
    "\n",
    "    \n",
    "    #for file_ in tqdm_notebook(glob(path_to_csv_files + '/*.csv')): #Can be used to see iterations\n",
    "    for file_ in glob(path_to_csv_files + '/*.csv'):\n",
    "        #Here we extract the user id \n",
    "        file_name = file_\n",
    "        user_id = int(filter(str.isdigit, file_name)[-4:])\n",
    "        \n",
    "        data = pd.read_csv(file_)\n",
    "        data = data['site']\n",
    "        site_list = []\n",
    "        \n",
    "        for site in data:\n",
    "            site_list.append(my_dict[site][0])\n",
    "        \n",
    "        total_site_num = data.shape[0]   \n",
    "        \n",
    "        if int(total_site_num) % int(session_length) == 0:\n",
    "            ses_num = int(total_site_num) / int(session_length)\n",
    "            site_list_full = site_list\n",
    "            \n",
    "        else:\n",
    "            ses_num = int(total_site_num) / int(session_length) + 1\n",
    "            zeros_list = [0] * (ses_num*session_length - total_site_num)\n",
    "            site_list_full = site_list + zeros_list\n",
    "        \n",
    "        site_list_array = np.array(site_list_full).reshape((ses_num, session_length))\n",
    "        frame = pd.DataFrame(site_list_array)\n",
    "        data_frames.append(frame)\n",
    "        \n",
    "        user_id_array = pd.DataFrame(np.full((ses_num, 1), user_id), columns = ['user_id'])\n",
    "        user_id_frame.append(user_id_array)\n",
    "        \n",
    "    final_data_frames = pd.concat(data_frames, ignore_index=True)\n",
    "    final_data_frames.columns = ['site%d' % i for i in range(1, 11)]\n",
    "    final_user_frames = pd.concat(user_id_frame, ignore_index=True)\n",
    "    final_frame = pd.concat([final_data_frames, final_user_frames], axis=1)\n",
    "\n",
    "    return final_frame, my_dict"
   ]
  },
  {
   "cell_type": "code",
   "execution_count": 7,
   "metadata": {},
   "outputs": [],
   "source": [
    "def dropcols_coo(M, idx_to_drop):\n",
    "    idx_to_drop = np.unique(idx_to_drop)\n",
    "    C = M.tocoo()\n",
    "    keep = ~np.in1d(C.col, idx_to_drop)\n",
    "    C.data, C.row, C.col = C.data[keep], C.row[keep], C.col[keep]\n",
    "    C.col -= idx_to_drop.searchsorted(C.col)    # decrement column indices\n",
    "    C._shape = (C.shape[0], C.shape[1] - len(idx_to_drop))\n",
    "    return C.tocsr()"
   ]
  },
  {
   "cell_type": "code",
   "execution_count": 8,
   "metadata": {},
   "outputs": [],
   "source": [
    "def make_sparse(X_train):\n",
    "    X_train = np.array(X_train)\n",
    "    zeros = np.zeros((X_train.shape[0], 1))\n",
    "    X_train = np.hstack((X_train, zeros))\n",
    "    X_train = np.sort(X_train, axis = 1)\n",
    "\n",
    "    indptr = [0]\n",
    "    indices = []\n",
    "    data = []\n",
    "    vocabulary = {}\n",
    "\n",
    "    for each_session in X_train:\n",
    "        for each_site in each_session:\n",
    "            index = vocabulary.setdefault(each_site, len(vocabulary))\n",
    "            indices.append(index)\n",
    "            data.append(1)\n",
    "        indptr.append(len(indices))\n",
    "\n",
    "    X_sparse = csr_matrix((data, indices, indptr))\n",
    "    X_sparse  = dropcols_coo(X_sparse, 0)\n",
    "    return X_sparse"
   ]
  },
  {
   "cell_type": "code",
   "execution_count": 9,
   "metadata": {},
   "outputs": [],
   "source": [
    "def prepare_sparse_train_set_window(path_to_csv_files, site_freq_path, \n",
    "                                    session_length=10, window_size=10, show_matrix = True):\n",
    "    \n",
    "    #with open(site_freq_path, 'rb') as f: #If path to data is given, use this code\n",
    "        #site_freq = pickle.load(f)\n",
    "        \n",
    "    site_freq = site_freq_path #If the data from notebook used, use this code\n",
    "        \n",
    "    data_frames = []\n",
    "    user_id_array = []\n",
    "    site_id = 0\n",
    "    user_id = 0\n",
    "    \n",
    "    total_sessions = []\n",
    "\n",
    "\n",
    "    #for file_ in tqdm_notebook(glob(path_to_csv_files + '/*.csv')): #If iteration procedure is wanted, use this line\n",
    "    \n",
    "    for file_ in glob(path_to_csv_files + '/*.csv'):\n",
    "            \n",
    "        #Here we extract the user id \n",
    "        file_name = file_\n",
    "        user_id = int(filter(str.isdigit, file_name)[-4:])  \n",
    "        \n",
    "        data = pd.read_csv(file_)\n",
    "        data = data['site']\n",
    "        site_list = []\n",
    "        \n",
    "        #Make the list of all the sites sequentially\n",
    "        for site in data:\n",
    "            site_list.append(site_freq[site][0])\n",
    "        \n",
    "        site_list_array = np.array(site_list)                \n",
    "        #Total site number\n",
    "        total_site_num = data.shape[0]\n",
    "        \n",
    "        i = 0\n",
    "        while i*window_size < site_list_array.shape[0]:\n",
    "            \n",
    "            if i*window_size + session_length < site_list_array.shape[0]:\n",
    "                current_ses = site_list[0 + i*window_size : i*window_size + session_length]\n",
    "                i += 1\n",
    "                             \n",
    "                if len(current_ses) < session_length:\n",
    "                    zeros = [0] * (session_length - len(current_ses))\n",
    "                    tot_current_ses = current_ses + zeros\n",
    "                    total_sessions.append(tot_current_ses)\n",
    "                    user_id_array.append(user_id)\n",
    "                    \n",
    "                else:\n",
    "                    total_sessions.append( current_ses)\n",
    "                    user_id_array.append(user_id)\n",
    "            \n",
    "            else:\n",
    "                current_ses = site_list[0 + i*window_size : site_list_array.shape[0]]\n",
    "                zeros = [0] * (session_length - len(current_ses))\n",
    "                tot_current_ses  = current_ses + zeros\n",
    "                i += 1\n",
    "                total_sessions.append(tot_current_ses)\n",
    "                user_id_array.append(user_id)\n",
    "       \n",
    "    total_ses_array = np.array(total_sessions)\n",
    "    \n",
    "    if show_matrix == True:\n",
    "        print 'This is the matrix with sites \\n', total_ses_array\n",
    "        \n",
    "    users_ids = np.array(user_id_array)\n",
    "    X_sparse = make_sparse(total_ses_array)\n",
    "    return X_sparse, users_ids"
   ]
  },
  {
   "cell_type": "code",
   "execution_count": 10,
   "metadata": {},
   "outputs": [],
   "source": [
    "def prepare_train_set_with_fe(path_to_csv_files, site_freq_path, feature_names,\n",
    "                                    session_length = 10, window_size=10):\n",
    "    \n",
    "    #with open(site_freq_path, 'rb') as f:\n",
    "        #site_freq = pickle.load(f)\n",
    "    \n",
    "    site_freq = site_freq_path #If the data from notebook used, use this code\n",
    "\n",
    "    #Create empty lists for features and target variables\n",
    "    total_sessions = []\n",
    "    total_diff = []\n",
    "    unique_sites = []\n",
    "    starting_hour = []\n",
    "    total_week_day = []\n",
    "    session_timespan = []\n",
    "    user_id_array = [] \n",
    "\n",
    "    for file_ in tqdm_notebook(glob(path_to_csv_files + '/*.csv')):\n",
    "        \n",
    "        #Here we extract the user id \n",
    "        user_id = int(filter(str.isdigit, file_)[-4:]) #User if is the last 4 values of the file name\n",
    "        \n",
    "        #Read the data\n",
    "        data = pd.read_csv(file_, parse_dates=[0]) #Data itself\n",
    "        time_stamps = data.iloc[:, 0] #Read time stamps as np.datetime64      \n",
    "        data = data['site'] #Read the web-sites\n",
    "        \n",
    "        #Create empty lists for \n",
    "        site_list = [] \n",
    "        time_list = []       \n",
    "        time_diff = []\n",
    "        hours_list = []\n",
    "        week_day_list = []\n",
    "        \n",
    "        #Make the list of all the sites sequentially\n",
    "        for site in data:\n",
    "            site_list.append(site_freq[site][0])      \n",
    "        \n",
    "        ################################ Session time handling ###############################\n",
    "        for stemp in time_stamps:\n",
    "            hours_list.append(stemp.hour) #Starting hours of each web-site\n",
    "            week_day_list.append(stemp.dayofweek) #Week day\n",
    "            \n",
    "        for i in range(time_stamps.shape[0] - 1):\n",
    "            difference = (np.datetime64(time_stamps[i+1]) - np.datetime64(time_stamps[i])) / np.timedelta64(1, 's')\n",
    "            time_diff.append(difference)\n",
    "\n",
    "        ############################## Main body of the algorithm ###########################\n",
    "        i = 0\n",
    "        while i*window_size < len(site_list):\n",
    "            \n",
    "            if i*window_size + session_length < len(site_list):\n",
    "                current_ses = site_list[i*window_size : i*window_size + session_length] #Make current session list\n",
    "                unique_site = np.unique(current_ses).shape[0] #Count number of unique web-sites\n",
    "                unique_sites.append(unique_site) #Append to total uniqe web-site list\n",
    "                current_diff = time_diff[i*window_size : i*window_size + session_length - 1] #Choose respective time differences\n",
    "                starting_hour.append(hours_list[i*window_size]) #Mark the starting hour of the session\n",
    "                total_week_day.append(week_day_list[i*window_size]) #Mark the week day of the session\n",
    "                session_timespan.append(sum(current_diff)) #Time duration of the session\n",
    "                i += 1 #Switch to next session\n",
    "                             \n",
    "                if len(current_ses) < session_length:\n",
    "                    zeros = [0] * (session_length - len(current_ses)) #Create list of zeros with required length for sessions\n",
    "                    zeros_time = [0] * (session_length - len(current_ses)) #Create list of zeros for time differences\n",
    "                    tot_current_ses = current_ses + zeros #Create total session including zeros\n",
    "                    tot_current_diff = current_diff + zeros_time #Create total time differences including zeros\n",
    "                    \n",
    "                    total_sessions.append(tot_current_ses) #Append the values of sessions to the total list\n",
    "                    total_diff.append(tot_current_diff) #Append the values of time differences to the total list\n",
    "                    user_id_array.append(user_id) #Append the values user ids to the total list\n",
    "                    \n",
    "                #The rest of the algorithm is clear from the comments above\n",
    "                \n",
    "                else:\n",
    "                    total_sessions.append(current_ses)  \n",
    "                    total_diff.append(current_diff) \n",
    "                    user_id_array.append(user_id)\n",
    "            \n",
    "            else:\n",
    "                current_ses = site_list[i*window_size : len(site_list)]\n",
    "                current_diff = time_diff[i*window_size : len(site_list) - 1] \n",
    "                starting_hour.append(hours_list[i*window_size]) \n",
    "                total_week_day.append(week_day_list[i*window_size])\n",
    "                unique_site = np.unique(current_ses).shape[0]\n",
    "                unique_sites.append(unique_site) \n",
    "                session_timespan.append(sum(current_diff))\n",
    "                               \n",
    "                zeros = [0] * (session_length - len(current_ses)) \n",
    "                zeros_time = [0] * (session_length - len(current_ses)) \n",
    "                tot_current_ses  = current_ses + zeros \n",
    "                tot_current_diff = current_diff + zeros_time \n",
    "        \n",
    "                total_sessions.append(tot_current_ses)\n",
    "                total_diff.append(tot_current_diff) \n",
    "                user_id_array.append(user_id) \n",
    "                i += 1 #Switch to the next session\n",
    "                \n",
    "    ########################### Create data frames for each feature list and target variable ##################  \n",
    "    total_ses_array = pd.DataFrame(total_sessions)\n",
    "    total_diff_array = pd.DataFrame(total_diff)\n",
    "    session_timespan_array = pd.DataFrame(session_timespan)\n",
    "    unique_sites_array = pd.DataFrame(np.array(unique_sites).reshape(total_ses_array.shape[0], 1))\n",
    "    starting_hour_array = pd.DataFrame(starting_hour)\n",
    "    week_day_array = pd.DataFrame(total_week_day)\n",
    "    users_ids = pd.DataFrame(user_id_array)\n",
    "    \n",
    "    #Make the resulting data frame with the features and target variable\n",
    "    result = pd.concat([total_ses_array, total_diff_array, session_timespan_array,\n",
    "                       unique_sites_array, starting_hour_array, week_day_array, users_ids], axis = 1)\n",
    "    result.columns = feature_names #Assign the colums to the feature names\n",
    "    return result"
   ]
  },
  {
   "cell_type": "code",
   "execution_count": 11,
   "metadata": {},
   "outputs": [],
   "source": [
    "def feature_engineering(path_to_csv_files, site_freq_path, feature_names, \n",
    "                        session_length=10, window_size = 10):\n",
    "    \n",
    "    #with open(site_freq_path, 'rb') as f: #If path to data is given, use this code\n",
    "        #site_freq = pickle.load(f)\n",
    "    \n",
    "    site_freq = site_freq_path #If the data from notebook used, use this code\n",
    "\n",
    "    #Create empty lists for features and target variables\n",
    "    total_sessions = []\n",
    "    user_id_array = []\n",
    "    start_day_time = []\n",
    "    most_common_site = []\n",
    "    aver_time = []\n",
    "\n",
    "    for file_ in tqdm_notebook(glob(path_to_csv_files + '/*.csv')):\n",
    "        \n",
    "        #Here we extract the user id \n",
    "        user_id = int(filter(str.isdigit, file_)[-4:]) #User if is the last 4 values of the file name\n",
    "        \n",
    "        #Read the data\n",
    "        data = pd.read_csv(file_, parse_dates=[0]) #Data itself\n",
    "        time_stamps = data.iloc[:, 0] #Read time stamps as np.datetime64      \n",
    "        data = data['site'] #Read the web-sites\n",
    "          \n",
    "        #Create empty lists for \n",
    "        site_list = [] \n",
    "        time_list = []       \n",
    "        hours_list = []\n",
    "        time_diff = []\n",
    "        day_time = []\n",
    "\n",
    "        \n",
    "        #Make the list of all the sites sequentially\n",
    "        for site in data:\n",
    "            site_list.append(site_freq[site][0])      \n",
    "        \n",
    "        #Sort top 30 web-sites\n",
    "        sorted_full = sorted(site_freq.values(), key = lambda x: x[1], reverse = True)\n",
    "        sorted_30 = pd.DataFrame(sorted_full[:30])\n",
    "        top_30_sites = list(sorted_30[0])\n",
    "\n",
    "        \n",
    "        ################################ Session time handling ###############################\n",
    "        for stemp in time_stamps:\n",
    "            hours_list.append(stemp.hour) #Starting hours of each web-site\n",
    "        \n",
    "        for each_hour in hours_list:\n",
    "            if each_hour > 18:\n",
    "                day_time.append(2) #Evening\n",
    "            elif each_hour > 12:\n",
    "                day_time.append(1) #Afternoon\n",
    "            elif each_hour > 6:\n",
    "                day_time.append(0) #Morning\n",
    "            \n",
    "        for i in range(time_stamps.shape[0] - 1):\n",
    "            difference = (np.datetime64(time_stamps[i+1]) - np.datetime64(time_stamps[i])) / np.timedelta64(1, 's')\n",
    "            time_diff.append(difference)\n",
    "            \n",
    "            \n",
    "            ############################## Main body of the algorithm ###########################\n",
    "        i = 0\n",
    "        while i*window_size < len(site_list):\n",
    "            \n",
    "            if i*window_size + session_length < len(site_list):\n",
    "                current_ses = site_list[i*window_size : i*window_size + session_length] #Make current session list\n",
    "                start_day_time.append(day_time[i*window_size]) #Mark the time of the day of the session start\n",
    "                most_common_site.append(Counter(current_ses).most_common(1)[0][0]) #Mark the most often web-site in the session\n",
    "                current_diff = time_diff[i*window_size : i*window_size + session_length - 1] #Choose respective time differences\n",
    "                aver_time.append(sum(current_diff) / float(session_length)) #Average time for site\n",
    "                \n",
    "                i += 1 #Switch to next session\n",
    "                             \n",
    "                if len(current_ses) < session_length:\n",
    "                    zeros = [0] * (session_length - len(current_ses)) #Create list of zeros with required length for sessions\n",
    "                    tot_current_ses = current_ses + zeros #Create total session including zeros\n",
    "                    total_sessions.append(tot_current_ses)\n",
    "                    user_id_array.append(user_id) #Append the values user ids to the total list                                      \n",
    "                    \n",
    "                #The rest of the algorithm is clear from the comments above\n",
    "                \n",
    "                else:\n",
    "                    total_sessions.append(current_ses)  \n",
    "                    user_id_array.append(user_id)\n",
    "            \n",
    "            else:\n",
    "                current_ses = site_list[i*window_size : len(site_list)]\n",
    "                most_common_site.append(Counter(current_ses).most_common(1)[0][0]) #Most common web-site\n",
    "                aver_time.append(sum(current_diff) / float(len(current_ses))) #Average time for site\n",
    "                start_day_time.append(day_time[i*window_size]) #Mart the time of the day\n",
    "                zeros = [0] * (session_length - len(current_ses)) \n",
    "                zeros_time = [0] * (session_length - len(current_ses)) \n",
    "                tot_current_ses  = current_ses + zeros            \n",
    "                total_sessions.append(tot_current_ses)\n",
    "                user_id_array.append(user_id)           \n",
    "                i += 1 #Switch to the next session\n",
    "    \n",
    "    #Compute number of visitions of top 30 web-sites\n",
    "    total_ses_array = np.array(total_sessions)\n",
    "    top_sites_in_ses = []\n",
    "    for row in total_ses_array:\n",
    "        top_site_num = 0\n",
    "        for site in row:\n",
    "            if site in top_30_sites:\n",
    "                top_site_num += 1\n",
    "        top_sites_in_ses.append(top_site_num)              \n",
    "    \n",
    "    \n",
    "    \n",
    "    ########################### Create data frames for each feature list and target variable ##################  \n",
    "    total_ses_array = pd.DataFrame(total_sessions)\n",
    "    day_time_array = pd.DataFrame(start_day_time)\n",
    "    users_ids = pd.DataFrame(user_id_array)\n",
    "    most_common_site_array = pd.DataFrame(most_common_site)\n",
    "    aver_time_array = pd.DataFrame(aver_time)\n",
    "    top_sites_in_ses_array = pd.DataFrame(top_sites_in_ses)\n",
    "\n",
    "    \n",
    "    #Make the resulting data frame with the features and target variable\n",
    "    result = pd.concat([total_ses_array, day_time_array, most_common_site_array, \n",
    "                        aver_time_array, top_sites_in_ses_array, users_ids], axis = 1)\n",
    "    \n",
    "    result.columns = feature_names #Assign the colums to the feature names\n",
    "\n",
    "    return result"
   ]
  },
  {
   "cell_type": "markdown",
   "metadata": {},
   "source": [
    "# Appendix B - Part 2 functions"
   ]
  },
  {
   "cell_type": "code",
   "execution_count": 12,
   "metadata": {},
   "outputs": [],
   "source": [
    "def model_assessment(estimator, path_to_X_pickle, path_to_y_pickle, cv, random_state=17, test_size=0.3, path = 'True'):\n",
    "    '''\n",
    "    Estimates CV-accuracy for (1 - test_size) share of (X_sparse, y) \n",
    "    loaded from path_to_X_pickle and path_to_y_pickle and holdout accuracy for (test_size) share of (X_sparse, y).\n",
    "    The split is made with stratified train_test_split with params random_state and test_size.\n",
    "    \n",
    "    :param estimator – Scikit-learn estimator (classifier or regressor)\n",
    "    :param path_to_X_pickle – path to pickled sparse X (instances and their features)\n",
    "    :param path_to_y_pickle – path to pickled y (responses)\n",
    "    :param cv – cross-validation as in cross_val_score (use StratifiedKFold here)\n",
    "    :param random_state –  for train_test_split\n",
    "    :param test_size –  for train_test_split\n",
    "    \n",
    "    :returns mean CV-accuracy for (X_train, y_train) and accuracy for (X_valid, y_valid) where (X_train, y_train)\n",
    "    and (X_valid, y_valid) are (1 - test_size) and (testsize) shares of (X_sparse, y).\n",
    "    '''\n",
    "    \n",
    "    if path == 'True':\n",
    "        with open(path_to_X_pickle, 'rb') as f:\n",
    "            X = pickle.load(f)\n",
    "    \n",
    "        with open(path_to_y_pickle, 'rb') as f:\n",
    "            y = pickle.load(f)\n",
    "    \n",
    "    else:\n",
    "        X = path_to_X_pickle\n",
    "        y = path_to_y_pickle\n",
    "        \n",
    "    X_train, X_valid, y_train, y_valid = train_test_split(X, y, test_size=0.3, \n",
    "                                                          random_state=random_state, stratify=y)\n",
    "    \n",
    "    #clf = estimator(random_state = random_state)\n",
    "    estimator.fit(X_train, y_train)\n",
    "    score_train = cross_val_score(estimator, X_train, y_train, cv = cv, scoring = 'accuracy')\n",
    "    y_pred = estimator.predict(X_valid)\n",
    "    valid_score = accuracy_score(y_valid, y_pred)\n",
    "    \n",
    "    return score_train.mean(), valid_score"
   ]
  },
  {
   "cell_type": "markdown",
   "metadata": {},
   "source": [
    "# Appendix C - Part 3 functions"
   ]
  },
  {
   "cell_type": "code",
   "execution_count": 79,
   "metadata": {},
   "outputs": [],
   "source": [
    "def features_extraction(train_data, session_length = 10, window_size=10):\n",
    " \n",
    "    ## Read the data\n",
    "    data_sites = train_data[['site%d' % i for i in range(1, 11)]].fillna(0).astype('int')\n",
    "    time_stamps = train_data[['time%d' % i for i in range(1, 11)]].fillna(0) #Read time stamps as np.datetime64\n",
    "    user_id = train_data['target'] #User id\n",
    "    time_stamps['start_date'] = pd.to_datetime(time_stamps['time1'])\n",
    "    time_stamps['end_date'] = pd.to_datetime(time_stamps['time10'])\n",
    "    \n",
    "    ## Week-day\n",
    "    week_day_array = np.array(time_stamps.start_date.dt.weekday).reshape(time_stamps['start_date'].shape[0], 1)\n",
    "    \n",
    "    ##Month\n",
    "    month_array = np.array(time_stamps.start_date.dt.month).reshape(time_stamps['start_date'].shape[0], 1)\n",
    "    \n",
    "    ## Starting hour\n",
    "    time_stamps_hour = np.array(time_stamps.start_date.dt.hour).reshape(time_stamps['start_date'].shape[0], 1)\n",
    "    \n",
    "    \n",
    "    #################################### Total minute difference ################################################\n",
    "    time_stamps_hour_last = np.array(time_stamps.end_date.dt.hour).reshape(time_stamps['start_date'].shape[0], 1)\n",
    "    \n",
    "    time_stamp_min = np.array(time_stamps.start_date.dt.minute).reshape(time_stamps['start_date'].shape[0], 1)\n",
    "    time_stamp_min_last = np.array(time_stamps.end_date.dt.minute).reshape(time_stamps['start_date'].shape[0], 1)\n",
    "    \n",
    "    \n",
    "    hour_diff = []\n",
    "    for i in range(time_stamps_hour_last.shape[0]):\n",
    "        if time_stamps_hour_last[i, 0] == 0:\n",
    "            hour_diff.append(0)\n",
    "        else:\n",
    "            hour_diff.append(time_stamps_hour_last[i, 0] - time_stamps_hour[i, 0])\n",
    "            \n",
    "    hour_diff = np.array(hour_diff) \n",
    "   \n",
    "    min_diff = []\n",
    "    for i in range(time_stamps['time10'].shape[0]):\n",
    "        if time_stamps['time10'].iloc[i] == 0:\n",
    "            min_diff.append(30)\n",
    "        else:\n",
    "            min_diff.append(time_stamp_min_last[i, 0] - time_stamp_min[i, 0])         \n",
    "\n",
    "    total_min_diff = hour_diff*60  + min_diff\n",
    "    total_min_diff = np.array(total_min_diff).reshape(time_stamps['start_date'].shape[0], 1)\n",
    "\n",
    "    \n",
    "    ###################################################### Day time ############################################\n",
    "    day_time = []\n",
    "    for each_hour in time_stamps_hour:\n",
    "        if each_hour > 18:\n",
    "            day_time.append(int(2)) #Evening\n",
    "        elif each_hour > 12:\n",
    "            day_time.append(int(1)) #Afternoon\n",
    "        elif each_hour > 6:\n",
    "            day_time.append(int(0)) #Morning\n",
    "    day_time_array = np.array(day_time).reshape(time_stamps['start_date'].shape[0], 1)\n",
    "\n",
    "\n",
    "    #################################################### Unique web-sites ####################################\n",
    "\n",
    "    unique_sites = []\n",
    "    for i, row in data_sites.iterrows():\n",
    "        row = list(row)\n",
    "        x = 0\n",
    "        if x in row:\n",
    "            unique_site = np.unique(row).shape[0] - 1\n",
    "            unique_sites.append(unique_site)\n",
    "        else:\n",
    "            unique_site = np.unique(row).shape[0]\n",
    "            unique_sites.append(unique_site)      \n",
    "    unique_sites = np.array(unique_sites).reshape(time_stamps['start_date'].shape[0], 1)\n",
    "          \n",
    "    \n",
    "    week_day_array = pd.DataFrame(week_day_array)\n",
    "    month_array = pd.DataFrame(month_array)\n",
    "    time_stamps_hour = pd.DataFrame(time_stamps_hour) \n",
    "    day_time_array = pd.DataFrame(day_time_array) \n",
    "    unique_sites = pd.DataFrame(unique_sites) \n",
    "    total_min_diff = pd.DataFrame(total_min_diff)\n",
    "\n",
    "    result = pd.concat([week_day_array, time_stamps_hour, day_time_array, unique_sites, total_min_diff, month_array], axis = 1)\n",
    "    \n",
    "    result.columns = ['week_day','start_hour', 'day_time', 'unique_sites', 'total_min_diff', 'month_array']\n",
    "    \n",
    "    return result"
   ]
  },
  {
   "cell_type": "markdown",
   "metadata": {},
   "source": [
    "# Appendix D - Part 4 functions"
   ]
  },
  {
   "cell_type": "code",
   "execution_count": 130,
   "metadata": {},
   "outputs": [],
   "source": [
    "def arrays_to_vw(X, y=None, train=True, out_file='tmp.vw'):\n",
    "\n",
    "    with open(os.path.join(path_to_data, out_file), 'w') as out_vw:\n",
    "        for i, row in enumerate(X):\n",
    "            string_row = ' '.join(list(map(str, row)))\n",
    "        \n",
    "            if y is None:\n",
    "                label = 1\n",
    "            else:\n",
    "                label = y[i]\n",
    "            final_string = \"{} | {}\".format(label, string_row)\n",
    "            out_vw.write(final_string + '\\n')"
   ]
  }
 ],
 "metadata": {
  "kernelspec": {
   "display_name": "Python 2",
   "language": "python",
   "name": "python2"
  },
  "language_info": {
   "codemirror_mode": {
    "name": "ipython",
    "version": 2
   },
   "file_extension": ".py",
   "mimetype": "text/x-python",
   "name": "python",
   "nbconvert_exporter": "python",
   "pygments_lexer": "ipython2",
   "version": "2.7.15"
  }
 },
 "nbformat": 4,
 "nbformat_minor": 2
}
